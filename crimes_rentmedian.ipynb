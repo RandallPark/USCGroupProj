{
 "cells": [
  {
   "cell_type": "code",
   "execution_count": 202,
   "metadata": {},
   "outputs": [],
   "source": [
    "import matplotlib.pyplot as plt\n",
    "import csv\n",
    "import pandas as pd\n",
    "import numpy as np\n",
    "import gmaps\n",
    "\n",
    "from config import gkey\n",
    "\n",
    "gmaps.configure(api_key=gkey)"
   ]
  },
  {
   "cell_type": "code",
   "execution_count": 203,
   "metadata": {},
   "outputs": [
    {
     "data": {
      "text/html": [
       "<div>\n",
       "<style scoped>\n",
       "    .dataframe tbody tr th:only-of-type {\n",
       "        vertical-align: middle;\n",
       "    }\n",
       "\n",
       "    .dataframe tbody tr th {\n",
       "        vertical-align: top;\n",
       "    }\n",
       "\n",
       "    .dataframe thead th {\n",
       "        text-align: right;\n",
       "    }\n",
       "</style>\n",
       "<table border=\"1\" class=\"dataframe\">\n",
       "  <thead>\n",
       "    <tr style=\"text-align: right;\">\n",
       "      <th></th>\n",
       "      <th>Median Rent 2016</th>\n",
       "      <th>Tract Number</th>\n",
       "      <th>Neighborhood</th>\n",
       "      <th>Location</th>\n",
       "    </tr>\n",
       "  </thead>\n",
       "  <tbody>\n",
       "    <tr>\n",
       "      <th>0</th>\n",
       "      <td>900</td>\n",
       "      <td>212305</td>\n",
       "      <td>Koreatown</td>\n",
       "      <td>(34.056107, -118.298204)</td>\n",
       "    </tr>\n",
       "    <tr>\n",
       "      <th>1</th>\n",
       "      <td>1391</td>\n",
       "      <td>101110</td>\n",
       "      <td>Tujunga</td>\n",
       "      <td>(34.2595555, -118.293602)</td>\n",
       "    </tr>\n",
       "    <tr>\n",
       "      <th>2</th>\n",
       "      <td>1924</td>\n",
       "      <td>101122</td>\n",
       "      <td>Tujunga</td>\n",
       "      <td>(34.267357, -118.29024)</td>\n",
       "    </tr>\n",
       "    <tr>\n",
       "      <th>3</th>\n",
       "      <td>1141</td>\n",
       "      <td>101210</td>\n",
       "      <td>Tujunga</td>\n",
       "      <td>(34.251998, -118.2926875)</td>\n",
       "    </tr>\n",
       "    <tr>\n",
       "      <th>4</th>\n",
       "      <td>1123</td>\n",
       "      <td>101220</td>\n",
       "      <td>Tujunga</td>\n",
       "      <td>(34.2511895, -118.281014)</td>\n",
       "    </tr>\n",
       "  </tbody>\n",
       "</table>\n",
       "</div>"
      ],
      "text/plain": [
       "   Median Rent 2016  Tract Number Neighborhood                   Location\n",
       "0               900        212305    Koreatown   (34.056107, -118.298204)\n",
       "1              1391        101110      Tujunga  (34.2595555, -118.293602)\n",
       "2              1924        101122      Tujunga    (34.267357, -118.29024)\n",
       "3              1141        101210      Tujunga  (34.251998, -118.2926875)\n",
       "4              1123        101220      Tujunga  (34.2511895, -118.281014)"
      ]
     },
     "execution_count": 203,
     "metadata": {},
     "output_type": "execute_result"
    }
   ],
   "source": [
    "df1 = pd.read_csv(\"Resources/Crimes_LA.csv\")\n",
    "rent1 = pd.read_csv(\"Resources/LA_rentmedianf.csv\")\n",
    "rent1.head()"
   ]
  },
  {
   "cell_type": "code",
   "execution_count": 204,
   "metadata": {},
   "outputs": [],
   "source": [
    "df1[\"Variable\"] = df1[\"Variable\"].replace(\n",
    "    {\"Part I Violent Crimes\": \"Violent Crimes\", \"Part I Property Crimes\": \"Property Crimes\"})"
   ]
  },
  {
   "cell_type": "code",
   "execution_count": 205,
   "metadata": {},
   "outputs": [
    {
     "data": {
      "text/html": [
       "<div>\n",
       "<style scoped>\n",
       "    .dataframe tbody tr th:only-of-type {\n",
       "        vertical-align: middle;\n",
       "    }\n",
       "\n",
       "    .dataframe tbody tr th {\n",
       "        vertical-align: top;\n",
       "    }\n",
       "\n",
       "    .dataframe thead th {\n",
       "        text-align: right;\n",
       "    }\n",
       "</style>\n",
       "<table border=\"1\" class=\"dataframe\">\n",
       "  <thead>\n",
       "    <tr style=\"text-align: right;\">\n",
       "      <th></th>\n",
       "      <th>Policy Area</th>\n",
       "      <th>Dataset</th>\n",
       "      <th>Variable</th>\n",
       "      <th>Year</th>\n",
       "      <th>Count</th>\n",
       "      <th>Tract</th>\n",
       "      <th>Tract Number</th>\n",
       "      <th>Neighborhood</th>\n",
       "      <th>GEOID</th>\n",
       "      <th>Location</th>\n",
       "      <th>Latitude</th>\n",
       "      <th>Longitude</th>\n",
       "      <th>Row ID</th>\n",
       "      <th>Date</th>\n",
       "    </tr>\n",
       "  </thead>\n",
       "  <tbody>\n",
       "    <tr>\n",
       "      <th>4</th>\n",
       "      <td>Public Safety</td>\n",
       "      <td>Part I Crimes</td>\n",
       "      <td>Property Crimes</td>\n",
       "      <td>2016</td>\n",
       "      <td>29.012024</td>\n",
       "      <td>Census Tract 5540.01, Los Angeles County, Cali...</td>\n",
       "      <td>554001</td>\n",
       "      <td>Bellflower</td>\n",
       "      <td>1400000US06037554001</td>\n",
       "      <td>(33.898299, -118.1330425)</td>\n",
       "      <td>33.898299</td>\n",
       "      <td>-118.133043</td>\n",
       "      <td>Part_I_Property_Crimes_2016_1400000US06037554001</td>\n",
       "      <td>1/1/16</td>\n",
       "    </tr>\n",
       "  </tbody>\n",
       "</table>\n",
       "</div>"
      ],
      "text/plain": [
       "     Policy Area        Dataset         Variable  Year      Count  \\\n",
       "4  Public Safety  Part I Crimes  Property Crimes  2016  29.012024   \n",
       "\n",
       "                                               Tract  Tract Number  \\\n",
       "4  Census Tract 5540.01, Los Angeles County, Cali...        554001   \n",
       "\n",
       "  Neighborhood                 GEOID                   Location   Latitude  \\\n",
       "4   Bellflower  1400000US06037554001  (33.898299, -118.1330425)  33.898299   \n",
       "\n",
       "    Longitude                                            Row ID    Date  \n",
       "4 -118.133043  Part_I_Property_Crimes_2016_1400000US06037554001  1/1/16  "
      ]
     },
     "execution_count": 205,
     "metadata": {},
     "output_type": "execute_result"
    }
   ],
   "source": [
    "df = df1[df1.Year == 2016]\n",
    "pc = df.loc[(df.Variable==\"Property Crimes\")]\n",
    "vc = df.loc[(df.Variable==\"Violent Crimes\")]\n",
    "pc.head(1)"
   ]
  },
  {
   "cell_type": "code",
   "execution_count": 206,
   "metadata": {},
   "outputs": [],
   "source": [
    "#Access the Variable column to locate \"Property/Violent\" Crimes separately \n",
    "df = df1[df1.Year == 2016]\n",
    "pc = df.loc[(df.Variable==\"Property Crimes\")]\n",
    "vc = df.loc[(df.Variable==\"Violent Crimes\")]\n",
    "violent1 = vc[[\"Neighborhood\", \"Variable\", \"Count\", \n",
    "               \"Tract Number\", \"Latitude\", \"Longitude\"]]\n",
    "prop1 = pc[[\"Neighborhood\", \"Variable\", \"Count\", \n",
    "            \"Tract Number\", \"Latitude\", \"Longitude\"]]\n",
    "rent = rent1[[\"Median Rent 2016\", \"Tract Number\"]]\n",
    "#Merge both datasets on \"Tract Number\"\n",
    "finalp = prop1.merge(rent, on=\"Tract Number\", how=\"left\")\n",
    "finalv = violent1.merge(rent, on=\"Tract Number\", how=\"left\")"
   ]
  },
  {
   "cell_type": "code",
   "execution_count": 207,
   "metadata": {},
   "outputs": [
    {
     "data": {
      "text/html": [
       "<div>\n",
       "<style scoped>\n",
       "    .dataframe tbody tr th:only-of-type {\n",
       "        vertical-align: middle;\n",
       "    }\n",
       "\n",
       "    .dataframe tbody tr th {\n",
       "        vertical-align: top;\n",
       "    }\n",
       "\n",
       "    .dataframe thead th {\n",
       "        text-align: right;\n",
       "    }\n",
       "</style>\n",
       "<table border=\"1\" class=\"dataframe\">\n",
       "  <thead>\n",
       "    <tr style=\"text-align: right;\">\n",
       "      <th></th>\n",
       "      <th>Neighborhood</th>\n",
       "      <th>Variable</th>\n",
       "      <th>Count</th>\n",
       "      <th>Tract Number</th>\n",
       "      <th>Latitude</th>\n",
       "      <th>Longitude</th>\n",
       "    </tr>\n",
       "  </thead>\n",
       "  <tbody>\n",
       "    <tr>\n",
       "      <th>5</th>\n",
       "      <td>Bellflower</td>\n",
       "      <td>Violent Crimes</td>\n",
       "      <td>5.913979</td>\n",
       "      <td>554301</td>\n",
       "      <td>33.883136</td>\n",
       "      <td>-118.146945</td>\n",
       "    </tr>\n",
       "    <tr>\n",
       "      <th>8</th>\n",
       "      <td>Pacoima</td>\n",
       "      <td>Violent Crimes</td>\n",
       "      <td>8.526603</td>\n",
       "      <td>104403</td>\n",
       "      <td>34.258909</td>\n",
       "      <td>-118.434539</td>\n",
       "    </tr>\n",
       "    <tr>\n",
       "      <th>14</th>\n",
       "      <td>Granada Hills</td>\n",
       "      <td>Violent Crimes</td>\n",
       "      <td>0.000000</td>\n",
       "      <td>106641</td>\n",
       "      <td>34.298025</td>\n",
       "      <td>-118.509153</td>\n",
       "    </tr>\n",
       "    <tr>\n",
       "      <th>31</th>\n",
       "      <td>Lake Balboa</td>\n",
       "      <td>Violent Crimes</td>\n",
       "      <td>3.742982</td>\n",
       "      <td>131200</td>\n",
       "      <td>34.214754</td>\n",
       "      <td>-118.514238</td>\n",
       "    </tr>\n",
       "    <tr>\n",
       "      <th>34</th>\n",
       "      <td>Green Meadows</td>\n",
       "      <td>Violent Crimes</td>\n",
       "      <td>10.821717</td>\n",
       "      <td>240020</td>\n",
       "      <td>33.954224</td>\n",
       "      <td>-118.263804</td>\n",
       "    </tr>\n",
       "  </tbody>\n",
       "</table>\n",
       "</div>"
      ],
      "text/plain": [
       "     Neighborhood        Variable      Count  Tract Number   Latitude  \\\n",
       "5      Bellflower  Violent Crimes   5.913979        554301  33.883136   \n",
       "8         Pacoima  Violent Crimes   8.526603        104403  34.258909   \n",
       "14  Granada Hills  Violent Crimes   0.000000        106641  34.298025   \n",
       "31    Lake Balboa  Violent Crimes   3.742982        131200  34.214754   \n",
       "34  Green Meadows  Violent Crimes  10.821717        240020  33.954224   \n",
       "\n",
       "     Longitude  \n",
       "5  -118.146945  \n",
       "8  -118.434539  \n",
       "14 -118.509153  \n",
       "31 -118.514238  \n",
       "34 -118.263804  "
      ]
     },
     "execution_count": 207,
     "metadata": {},
     "output_type": "execute_result"
    }
   ],
   "source": [
    "violent1 = vc[[\"Neighborhood\", \"Variable\", \"Count\", \"Tract Number\", \"Latitude\", \"Longitude\"]]\n",
    "prop1 = pc[[\"Neighborhood\", \"Variable\", \"Count\", \"Tract Number\", \"Latitude\", \"Longitude\"]]\n",
    "rent = rent1[[\"Median Rent 2016\", \"Tract Number\"]]\n",
    "violent1.head(5)"
   ]
  },
  {
   "cell_type": "code",
   "execution_count": 208,
   "metadata": {
    "scrolled": true
   },
   "outputs": [
    {
     "data": {
      "text/plain": [
       "count    1593.000000\n",
       "mean       26.199044\n",
       "std        66.945985\n",
       "min         0.000000\n",
       "25%        13.095749\n",
       "50%        19.283747\n",
       "75%        28.030994\n",
       "max      2506.849400\n",
       "Name: Count, dtype: float64"
      ]
     },
     "execution_count": 208,
     "metadata": {},
     "output_type": "execute_result"
    }
   ],
   "source": [
    "finalp = prop1.merge(rent, on=\"Tract Number\", how=\"left\")\n",
    "finalpc = finalp[[\"Neighborhood\", \"Variable\", \"Tract Number\", \"Count\", \"Median Rent 2016\", \"Latitude\", \"Longitude\"]]\n",
    "finalpc = finalpc.dropna(how=\"any\")\n",
    "finalpc[\"Count\"].describe()\n"
   ]
  },
  {
   "cell_type": "code",
   "execution_count": 209,
   "metadata": {},
   "outputs": [
    {
     "data": {
      "text/plain": [
       "count    1593.000000\n",
       "mean        6.152635\n",
       "std        11.133959\n",
       "min         0.000000\n",
       "25%         1.939864\n",
       "50%         3.751465\n",
       "75%         7.315799\n",
       "max       301.369870\n",
       "Name: Count, dtype: float64"
      ]
     },
     "execution_count": 209,
     "metadata": {},
     "output_type": "execute_result"
    }
   ],
   "source": [
    "finalv = violent1.merge(rent, on=\"Tract Number\", how=\"left\")\n",
    "finalvc = finalv[[\"Neighborhood\", \"Variable\", \"Tract Number\", \"Count\", \"Median Rent 2016\", \"Latitude\", \"Longitude\"]]\n",
    "finalvc = finalvc.dropna(how=\"any\")\n",
    "finalvc[\"Count\"].describe()\n"
   ]
  },
  {
   "cell_type": "code",
   "execution_count": 210,
   "metadata": {
    "scrolled": true
   },
   "outputs": [
    {
     "data": {
      "text/html": [
       "<div>\n",
       "<style scoped>\n",
       "    .dataframe tbody tr th:only-of-type {\n",
       "        vertical-align: middle;\n",
       "    }\n",
       "\n",
       "    .dataframe tbody tr th {\n",
       "        vertical-align: top;\n",
       "    }\n",
       "\n",
       "    .dataframe thead th {\n",
       "        text-align: right;\n",
       "    }\n",
       "</style>\n",
       "<table border=\"1\" class=\"dataframe\">\n",
       "  <thead>\n",
       "    <tr style=\"text-align: right;\">\n",
       "      <th></th>\n",
       "      <th>Neighborhood</th>\n",
       "      <th>Variable</th>\n",
       "      <th>Tract Number</th>\n",
       "      <th>Count</th>\n",
       "      <th>Median Rent 2016</th>\n",
       "      <th>Latitude</th>\n",
       "      <th>Longitude</th>\n",
       "    </tr>\n",
       "  </thead>\n",
       "  <tbody>\n",
       "    <tr>\n",
       "      <th>273</th>\n",
       "      <td>Studio City</td>\n",
       "      <td>Violent Crimes</td>\n",
       "      <td>143901</td>\n",
       "      <td>3.302666</td>\n",
       "      <td>3500.0</td>\n",
       "      <td>34.132849</td>\n",
       "      <td>-118.394762</td>\n",
       "    </tr>\n",
       "    <tr>\n",
       "      <th>1459</th>\n",
       "      <td>Rolling Hills</td>\n",
       "      <td>Violent Crimes</td>\n",
       "      <td>670500</td>\n",
       "      <td>0.000000</td>\n",
       "      <td>3500.0</td>\n",
       "      <td>33.760874</td>\n",
       "      <td>-118.347924</td>\n",
       "    </tr>\n",
       "    <tr>\n",
       "      <th>826</th>\n",
       "      <td>Rancho Palos Verdes</td>\n",
       "      <td>Violent Crimes</td>\n",
       "      <td>670702</td>\n",
       "      <td>0.372648</td>\n",
       "      <td>3500.0</td>\n",
       "      <td>33.751372</td>\n",
       "      <td>-118.328527</td>\n",
       "    </tr>\n",
       "    <tr>\n",
       "      <th>591</th>\n",
       "      <td>Calabasas</td>\n",
       "      <td>Violent Crimes</td>\n",
       "      <td>800101</td>\n",
       "      <td>0.363042</td>\n",
       "      <td>3500.0</td>\n",
       "      <td>34.135498</td>\n",
       "      <td>-118.629556</td>\n",
       "    </tr>\n",
       "    <tr>\n",
       "      <th>851</th>\n",
       "      <td>Porter Ranch</td>\n",
       "      <td>Violent Crimes</td>\n",
       "      <td>108101</td>\n",
       "      <td>0.406174</td>\n",
       "      <td>3500.0</td>\n",
       "      <td>34.280038</td>\n",
       "      <td>-118.541372</td>\n",
       "    </tr>\n",
       "    <tr>\n",
       "      <th>298</th>\n",
       "      <td>Unincorporated Santa Monica Mountains</td>\n",
       "      <td>Violent Crimes</td>\n",
       "      <td>800202</td>\n",
       "      <td>0.337041</td>\n",
       "      <td>3500.0</td>\n",
       "      <td>34.111882</td>\n",
       "      <td>-118.672485</td>\n",
       "    </tr>\n",
       "    <tr>\n",
       "      <th>831</th>\n",
       "      <td>Pacific Palisades</td>\n",
       "      <td>Violent Crimes</td>\n",
       "      <td>262601</td>\n",
       "      <td>0.285959</td>\n",
       "      <td>3500.0</td>\n",
       "      <td>34.073806</td>\n",
       "      <td>-118.556781</td>\n",
       "    </tr>\n",
       "  </tbody>\n",
       "</table>\n",
       "</div>"
      ],
      "text/plain": [
       "                               Neighborhood        Variable  Tract Number  \\\n",
       "273                             Studio City  Violent Crimes        143901   \n",
       "1459                          Rolling Hills  Violent Crimes        670500   \n",
       "826                     Rancho Palos Verdes  Violent Crimes        670702   \n",
       "591                               Calabasas  Violent Crimes        800101   \n",
       "851                            Porter Ranch  Violent Crimes        108101   \n",
       "298   Unincorporated Santa Monica Mountains  Violent Crimes        800202   \n",
       "831                       Pacific Palisades  Violent Crimes        262601   \n",
       "\n",
       "         Count  Median Rent 2016   Latitude   Longitude  \n",
       "273   3.302666            3500.0  34.132849 -118.394762  \n",
       "1459  0.000000            3500.0  33.760874 -118.347924  \n",
       "826   0.372648            3500.0  33.751372 -118.328527  \n",
       "591   0.363042            3500.0  34.135498 -118.629556  \n",
       "851   0.406174            3500.0  34.280038 -118.541372  \n",
       "298   0.337041            3500.0  34.111882 -118.672485  \n",
       "831   0.285959            3500.0  34.073806 -118.556781  "
      ]
     },
     "execution_count": 210,
     "metadata": {},
     "output_type": "execute_result"
    }
   ],
   "source": [
    "#Property Crime Values\n",
    "prent_min = finalpc.sort_values(by =[\"Median Rent 2016\"], ascending = True)\n",
    "prent_max = finalpc.sort_values(by =[\"Median Rent 2016\"], ascending = False)\n",
    "\n",
    "#Violent Crime Values\n",
    "vrent_min = finalvc.sort_values(by =[\"Median Rent 2016\"], ascending = True)\n",
    "vrent_max = finalvc.sort_values(by =[\"Median Rent 2016\"], ascending = False)\n",
    "\n",
    "plow_count = prent_min[\"Count\"][0:7]\n",
    "ptop_count = prent_max[\"Count\"][0:7]\n",
    "vlow_count = vrent_min[\"Count\"][0:7]\n",
    "vtop_count = vrent_max[\"Count\"][0:7]\n",
    "\n",
    "vrent_max.head(7)"
   ]
  },
  {
   "cell_type": "code",
   "execution_count": 211,
   "metadata": {},
   "outputs": [
    {
     "data": {
      "text/plain": [
       "Text(0.5, 1.0, 'Lowest Rent-Priced Neighborhoods vs. Crime Counts')"
      ]
     },
     "execution_count": 211,
     "metadata": {},
     "output_type": "execute_result"
    },
    {
     "data": {
      "image/png": "[encoded data removed]",
      "text/plain": [
       "<Figure size 720x360 with 1 Axes>"
      ]
     },
     "metadata": {
      "needs_background": "light"
     },
     "output_type": "display_data"
    }
   ],
   "source": [
    "#Property Crime Bar Graph\n",
    "plt.figure(figsize=(10, 5))\n",
    "neighborhoods = [\"DTLA(1)\", \"DTLA(2)\", \"DTLA(3)\", \"Central-Alameda\", \"Watts\", \"Florence-Firestone\", \"Lancaster\"]\n",
    "ind = np.arange(len(neighborhoods))\n",
    "width = .5\n",
    "plt.bar(ind, vlow_count, width =.5, color=\"gold\", alpha=0.5, align=\"center\", label=\"Violent Crime\")\n",
    "plt.bar(ind + width, plow_count, width =.5, color=\"silver\", alpha=0.5, align=\"center\", label=\"Property Crime\")\n",
    "\n",
    "plt.xticks(ind, neighborhoods, rotation=\"vertical\")\n",
    "\n",
    "plt.ylabel(\"Crime Count (per 1000 people)\")\n",
    "plt.xlabel(\"Tract Number (Neighborhoods)\")\n",
    "plt.legend(loc=\"upper right\")\n",
    "plt.title(\"Lowest Rent-Priced Neighborhoods vs. Crime Counts\")"
   ]
  },
  {
   "cell_type": "code",
   "execution_count": 212,
   "metadata": {},
   "outputs": [
    {
     "data": {
      "text/plain": [
       "Text(0.5, 1.0, 'Highest Rent-Priced Neighborhoods vs. Crime Counts')"
      ]
     },
     "execution_count": 212,
     "metadata": {},
     "output_type": "execute_result"
    },
    {
     "data": {
      "image/png": "[encoded data removed]",
      "text/plain": [
       "<Figure size 504x216 with 1 Axes>"
      ]
     },
     "metadata": {
      "needs_background": "light"
     },
     "output_type": "display_data"
    }
   ],
   "source": [
    "#Top Rent Crime Bar Graph\n",
    "plt.figure(figsize=(7, 3))\n",
    "neighborhoods = [\"Unincorporated SM Mtns\", \"Pacific Palisades\", \"Rolling Hills\", \"Ranchos Palos Verdes\", \n",
    "                 \"Studio City\", \"Calabasas\", \"Porter Ranch\"]\n",
    "ind = np.arange(len(neighborhoods))\n",
    "width = .5\n",
    "plt.bar(ind, vtop_count, width =.5, color=\"blue\", alpha=0.5, align=\"center\", label=\"Violent Crime\")\n",
    "plt.bar(ind + width, ptop_count, width =.5, color=\"red\", alpha=0.5, align=\"center\", label=\"Property Crime\")\n",
    "\n",
    "plt.xticks(ind, neighborhoods, rotation=\"vertical\")\n",
    "\n",
    "plt.ylabel(\"Crime Count (per 1000 people)\")\n",
    "plt.xlabel(\"Tract Number (Neighborhoods)\")\n",
    "\n",
    "plt.legend(loc=\"upper right\")\n",
    "plt.title(\"Highest Rent-Priced Neighborhoods vs. Crime Counts\")\n"
   ]
  },
  {
   "cell_type": "code",
   "execution_count": 213,
   "metadata": {},
   "outputs": [
    {
     "data": {
      "application/vnd.jupyter.widget-view+json": {
       "model_id": "61203b0243c549b4b089b56416fc1772",
       "version_major": 2,
       "version_minor": 0
      },
      "text/plain": [
       "Figure(layout=FigureLayout(height='420px'))"
      ]
     },
     "metadata": {},
     "output_type": "display_data"
    }
   ],
   "source": [
    "#Violent Crime Heatmap\n",
    "\n",
    "locations = finalvc[[\"Latitude\", \"Longitude\"]].astype(float)\n",
    "\n",
    "# Convert Poverty Rate to float and store\n",
    "# HINT: be sure to handle NaN values\n",
    "violent_count = finalvc[\"Count\"].astype(float)\n",
    "\n",
    "# Create a poverty Heatmap layer\n",
    "fig = gmaps.figure()\n",
    "\n",
    "heat_layer = gmaps.heatmap_layer(locations, weights=violent_count, \n",
    "                                 dissipating=False, max_intensity=100,\n",
    "                                 point_radius = 1)\n",
    "\n",
    "# Adjust heat_layer setting to help with heatmap dissipating on zoom\n",
    "heat_layer.dissipating = False\n",
    "heat_layer.max_intensity = 50\n",
    "heat_layer.point_radius = .01\n",
    "\n",
    "fig.add_layer(heat_layer)\n",
    "\n",
    "fig"
   ]
  },
  {
   "cell_type": "code",
   "execution_count": 214,
   "metadata": {
    "scrolled": false
   },
   "outputs": [
    {
     "data": {
      "application/vnd.jupyter.widget-view+json": {
       "model_id": "0a2ed881fe3d4a16b3b6fadf36598752",
       "version_major": 2,
       "version_minor": 0
      },
      "text/plain": [
       "Figure(layout=FigureLayout(height='420px'))"
      ]
     },
     "metadata": {},
     "output_type": "display_data"
    }
   ],
   "source": [
    "#Property Crime Heatmap\n",
    "\n",
    "locations = finalpc[[\"Latitude\", \"Longitude\"]].astype(float)\n",
    "\n",
    "# Convert Poverty Rate to float and store\n",
    "# HINT: be sure to handle NaN values\n",
    "property_count = finalpc[\"Count\"].astype(float)\n",
    "\n",
    "# Create a poverty Heatmap layer\n",
    "fig = gmaps.figure()\n",
    "\n",
    "heat_layer = gmaps.heatmap_layer(locations, weights=property_count, \n",
    "                                 dissipating=False, max_intensity=100,\n",
    "                                 point_radius = 1)\n",
    "\n",
    "# Adjust heat_layer setting to help with heatmap dissipating on zoom\n",
    "heat_layer.dissipating = False\n",
    "heat_layer.max_intensity = 50\n",
    "heat_layer.point_radius = .01\n",
    "\n",
    "fig.add_layer(heat_layer)\n",
    "\n",
    "fig\n"
   ]
  },
  {
   "cell_type": "code",
   "execution_count": 215,
   "metadata": {},
   "outputs": [
    {
     "data": {
      "text/plain": [
       "<matplotlib.axes._subplots.AxesSubplot at 0x1c24474978>"
      ]
     },
     "execution_count": 215,
     "metadata": {},
     "output_type": "execute_result"
    },
    {
     "data": {
      "image/png": "[encoded data removed]",
      "text/plain": [
       "<Figure size 432x288 with 2 Axes>"
      ]
     },
     "metadata": {
      "needs_background": "light"
     },
     "output_type": "display_data"
    }
   ],
   "source": [
    "import seaborn as sns\n",
    "\n",
    "finalcombined = finalp.merge(violent1, on=\"Tract Number\", how=\"left\")\n",
    "finalcombined\n",
    "finalcombined = finalcombined.rename(columns={\"Count_x\": \"PC_Count\", \"Count_y\": \"VC_Count\"})\n",
    "finalcombined.head()\n",
    "finalcombined1 = finalcombined[[\"PC_Count\", \"VC_Count\", \"Median Rent 2016\"]]\n",
    "finalcombined1.head()\n",
    "\n",
    "sns.heatmap(finalcombined1.corr(), square=True, cmap='RdYlGn')\n",
    "# plt.savefig('air_park_rent_correlation.png')"
   ]
  },
  {
   "cell_type": "code",
   "execution_count": 216,
   "metadata": {},
   "outputs": [
    {
     "name": "stdout",
     "output_type": "stream",
     "text": [
      "The covariance for property crime and median rent is -1586.7586, and is negative. \n",
      "This states that as one variable increases, the other decreases.\n"
     ]
    }
   ],
   "source": [
    "x = finalpc[\"Count\"]\n",
    "y = finalpc[\"Median Rent 2016\"]\n",
    "\n",
    "np.cov(x,y)\n",
    "\n",
    "# Compute the covariance matrix: covariance_matrix\n",
    "covariance_matrix = np.cov(x, y)\n",
    "covariance_matrix\n",
    "\n",
    "# Extract covariance of latitude and Max Temperature\n",
    "pol_lav_covariance = covariance_matrix[0,1]\n",
    "pol_lav_covariance\n",
    "\n",
    "if (pol_lav_covariance < 0):\n",
    "   print(f\"The covariance for property crime and median rent is \n",
    "         {round(pol_lav_covariance,4)}, and is negative. \n",
    "         \\nThis states that as one variable increases, the other decreases.\")\n",
    "else:\n",
    "   print(f\"The covariance for property crime and median rent is \n",
    "         {round(pol_lav_covariance,4)}, is positive. \\nThis states \n",
    "         that these variable tend to either increase or decrease together.\")"
   ]
  },
  {
   "cell_type": "code",
   "execution_count": 238,
   "metadata": {},
   "outputs": [
    {
     "name": "stdout",
     "output_type": "stream",
     "text": [
      "-0.04685897297937027\n",
      "Since r = -0.0469, is negative; as one variable increases, the other decreases.\n"
     ]
    }
   ],
   "source": [
    "x = finalpc[\"Count\"]\n",
    "y = finalpc[\"Median Rent 2016\"]\n",
    "\n",
    "def pearson_r(x, y):\n",
    "\n",
    "   # Compute correlation matrix: corr_mat\n",
    "   corr_mat = np.corrcoef(x, y)\n",
    "\n",
    "   # Return entry [0,1]\n",
    "   return corr_mat[0,1]\n",
    "\n",
    "# Compute Pearson correlation coefficient for I. versicolor: r\n",
    "r = pearson_r(x, y)\n",
    "\n",
    "# Print the result\n",
    "print(r)\n",
    "\n",
    "if (r < 0):\n",
    "   print(f\"Since r = {round(r,4)}, is negative; as one variable increases, the other decreases.\")\n",
    "   if(r <= -0.75):\n",
    "       print(f\"Since r = {round(r,4)} is close to -1; There is a strong inverse relationship between these two variables.\")\n",
    "if (r > 0):\n",
    "   print(f\"Since r = {round(r,4)}, is positive; both variables increase together, or decrease together.\")\n",
    "   if (r >= 0.75):\n",
    "       print(f\"Since r = {round(r,4)} is close to 1; There is a strong positive relationship between these two variables.\")\n",
    "   else:\n",
    "       print(\"There is a weak or no association between both variables.\")"
   ]
  },
  {
   "cell_type": "code",
   "execution_count": 235,
   "metadata": {},
   "outputs": [
    {
     "data": {
      "image/png": "[encoded data removed]",
      "text/plain": [
       "<Figure size 432x288 with 1 Axes>"
      ]
     },
     "metadata": {
      "needs_background": "light"
     },
     "output_type": "display_data"
    }
   ],
   "source": [
    "#Property Crime Scatterplot\n",
    "y = finalpc[\"Count\"]\n",
    "x = finalpc[\"Median Rent 2016\"]\n",
    "plt.scatter(x, y, c = 'lightblue', edgecolors = \"black\")\n",
    "plt.xlabel(\"Median Rent\")\n",
    "plt.ylabel(\"Crime Count (per 1000 people)\")\n",
    "plt.title(f\"Median Rent vs. Property Crime Count\")\n",
    "plt.xlim(0,3500)\n",
    "plt.ylim(0,300)\n",
    "plt.grid(True)"
   ]
  },
  {
   "cell_type": "code",
   "execution_count": 220,
   "metadata": {},
   "outputs": [
    {
     "name": "stdout",
     "output_type": "stream",
     "text": [
      "The covariance for violent crime and median rent is -1426.4533, and is negative. \n",
      "This states that as one variable increases, the other decreases.\n"
     ]
    }
   ],
   "source": [
    "x = finalvc[\"Count\"]\n",
    "y = finalvc[\"Median Rent 2016\"]\n",
    "\n",
    "np.cov(x,y)\n",
    "\n",
    "# Compute the covariance matrix: covariance_matrix\n",
    "covariance_matrix = np.cov(x, y)\n",
    "covariance_matrix\n",
    "\n",
    "# Extract covariance of latitude and Max Temperature\n",
    "pol_lav_covariance = covariance_matrix[0,1]\n",
    "pol_lav_covariance\n",
    "\n",
    "if (pol_lav_covariance < 0):\n",
    "   print(f\"The covariance for violent crime and median rent is \n",
    "         {round(pol_lav_covariance,4)}, and is negative. \n",
    "         \\nThis states that as one variable increases, the other decreases.\")\n",
    "else:\n",
    "   print(f\"The covariance for violent crime and median rent is \n",
    "         {round(pol_lav_covariance,4)}, is positive. \\nThis \n",
    "         states that these variable tend to either increase or decrease together.\")"
   ]
  },
  {
   "cell_type": "code",
   "execution_count": 240,
   "metadata": {},
   "outputs": [
    {
     "name": "stdout",
     "output_type": "stream",
     "text": [
      "-0.2532878470834497\n",
      "Since r = -0.2533, is negative; as one variable increases, the other decreases.\n"
     ]
    }
   ],
   "source": [
    "x = finalvc[\"Count\"]\n",
    "y = finalvc[\"Median Rent 2016\"]\n",
    "\n",
    "def pearson_r(x, y):\n",
    "\n",
    "   # Compute correlation matrix: corr_mat\n",
    "   corr_mat = np.corrcoef(x, y)\n",
    "\n",
    "   # Return entry [0,1]\n",
    "   return corr_mat[0,1]\n",
    "\n",
    "# Compute Pearson correlation coefficient for I. versicolor: r\n",
    "r = pearson_r(x, y)\n",
    "\n",
    "# Print the result\n",
    "print(r)\n",
    "\n",
    "if (r < 0):\n",
    "   print(f\"Since r = {round(r,4)}, is negative; as one variable increases, the other decreases.\")\n",
    "   if(r <= -0.75):\n",
    "       print(f\"Since r = {round(r,4)} is close to -1; There is a strong inverse relationship between these two variables.\")\n",
    "if (r > 0):\n",
    "   print(f\"Since r = {round(r,4)}, is positive; both variables increase together, or decrease together.\")\n",
    "   if (r >= 0.75):\n",
    "       print(f\"Since r = {round(r,4)} is close to 1; There is a strong positive relationship between these two variables.\")\n",
    "   else:\n",
    "       print(\"There is a weak or no association between both variables.\")"
   ]
  },
  {
   "cell_type": "code",
   "execution_count": 234,
   "metadata": {},
   "outputs": [
    {
     "data": {
      "image/png": "[encoded data removed]",
      "text/plain": [
       "<Figure size 432x288 with 1 Axes>"
      ]
     },
     "metadata": {
      "needs_background": "light"
     },
     "output_type": "display_data"
    }
   ],
   "source": [
    "#Violent Crime ScatterPlot\n",
    "x = finalvc[\"Count\"]\n",
    "y = finalvc[\"Median Rent 2016\"]\n",
    "plt.scatter(y, x, c = 'lightblue', edgecolors = \"black\")\n",
    "plt.xlabel(\"Median Rent\")\n",
    "plt.ylabel(\"Crime Count (per 1000 people)\")\n",
    "plt.title(f\"Median Rent vs. Violent Crime Count\")\n",
    "plt.ylim(0,150)\n",
    "plt.grid(True)"
   ]
  }
 ],
 "metadata": {
  "kernelspec": {
   "display_name": "Python 3",
   "language": "python",
   "name": "python3"
  },
  "language_info": {
   "codemirror_mode": {
    "name": "ipython",
    "version": 3
   },
   "file_extension": ".py",
   "mimetype": "text/x-python",
   "name": "python",
   "nbconvert_exporter": "python",
   "pygments_lexer": "ipython3",
   "version": "3.6.7"
  }
 },
 "nbformat": 4,
 "nbformat_minor": 2
}
