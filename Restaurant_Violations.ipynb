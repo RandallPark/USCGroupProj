{
 "cells": [
  {
   "cell_type": "code",
   "execution_count": 2,
   "metadata": {},
   "outputs": [],
   "source": [
    "# Dependency \n",
    "import pandas as pd\n"
   ]
  },
  {
   "cell_type": "code",
   "execution_count": 3,
   "metadata": {},
   "outputs": [],
   "source": [
    "# outline filepath and read csvs\n",
    "inspections = \"Resources/inspections.csv\"\n",
    "violations = \"Resources/violations.csv\"\n",
    "zip_codes = \"Resources/us_zip_codes.csv\"\n",
    "real_estate = \"Resources/rent_by_zip.csv\"\n",
    "\n",
    "inspections = pd.read_csv(inspections)\n",
    "violations = pd.read_csv(violations)\n",
    "zip_codes = pd.read_csv(zip_codes)\n",
    "real_estate = pd.read_csv(real_estate)"
   ]
  },
  {
   "cell_type": "code",
   "execution_count": 4,
   "metadata": {
    "scrolled": false
   },
   "outputs": [
    {
     "data": {
      "text/html": [
       "<div>\n",
       "<style scoped>\n",
       "    .dataframe tbody tr th:only-of-type {\n",
       "        vertical-align: middle;\n",
       "    }\n",
       "\n",
       "    .dataframe tbody tr th {\n",
       "        vertical-align: top;\n",
       "    }\n",
       "\n",
       "    .dataframe thead th {\n",
       "        text-align: right;\n",
       "    }\n",
       "</style>\n",
       "<table border=\"1\" class=\"dataframe\">\n",
       "  <thead>\n",
       "    <tr style=\"text-align: right;\">\n",
       "      <th></th>\n",
       "      <th>Date</th>\n",
       "      <th>Facility Name</th>\n",
       "      <th>violation_code</th>\n",
       "      <th>violation_description</th>\n",
       "      <th>points</th>\n",
       "      <th>City</th>\n",
       "      <th>Facility ID</th>\n",
       "      <th>Zip Code</th>\n",
       "      <th>Description</th>\n",
       "      <th>Status</th>\n",
       "      <th>Score</th>\n",
       "    </tr>\n",
       "  </thead>\n",
       "  <tbody>\n",
       "    <tr>\n",
       "      <th>0</th>\n",
       "      <td>2018-03-30T00:00:00</td>\n",
       "      <td>KRUANG TEDD</td>\n",
       "      <td>F030</td>\n",
       "      <td># 30. Food properly stored; food storage conta...</td>\n",
       "      <td>1</td>\n",
       "      <td>LOS ANGELES</td>\n",
       "      <td>FA0064949</td>\n",
       "      <td>90027</td>\n",
       "      <td>RESTAURANT (31-60) SEATS HIGH RISK</td>\n",
       "      <td>ACTIVE</td>\n",
       "      <td>92</td>\n",
       "    </tr>\n",
       "    <tr>\n",
       "      <th>1</th>\n",
       "      <td>2018-03-30T00:00:00</td>\n",
       "      <td>KRUANG TEDD</td>\n",
       "      <td>F027</td>\n",
       "      <td># 27. Food separated and protected</td>\n",
       "      <td>1</td>\n",
       "      <td>LOS ANGELES</td>\n",
       "      <td>FA0064949</td>\n",
       "      <td>90027</td>\n",
       "      <td>RESTAURANT (31-60) SEATS HIGH RISK</td>\n",
       "      <td>ACTIVE</td>\n",
       "      <td>92</td>\n",
       "    </tr>\n",
       "    <tr>\n",
       "      <th>2</th>\n",
       "      <td>2018-03-30T00:00:00</td>\n",
       "      <td>KRUANG TEDD</td>\n",
       "      <td>F035</td>\n",
       "      <td># 35. Equipment/Utensils - approved; installed...</td>\n",
       "      <td>1</td>\n",
       "      <td>LOS ANGELES</td>\n",
       "      <td>FA0064949</td>\n",
       "      <td>90027</td>\n",
       "      <td>RESTAURANT (31-60) SEATS HIGH RISK</td>\n",
       "      <td>ACTIVE</td>\n",
       "      <td>92</td>\n",
       "    </tr>\n",
       "    <tr>\n",
       "      <th>3</th>\n",
       "      <td>2018-03-30T00:00:00</td>\n",
       "      <td>KRUANG TEDD</td>\n",
       "      <td>F033</td>\n",
       "      <td># 33. Nonfood-contact surfaces clean and in go...</td>\n",
       "      <td>1</td>\n",
       "      <td>LOS ANGELES</td>\n",
       "      <td>FA0064949</td>\n",
       "      <td>90027</td>\n",
       "      <td>RESTAURANT (31-60) SEATS HIGH RISK</td>\n",
       "      <td>ACTIVE</td>\n",
       "      <td>92</td>\n",
       "    </tr>\n",
       "    <tr>\n",
       "      <th>4</th>\n",
       "      <td>2018-03-30T00:00:00</td>\n",
       "      <td>KRUANG TEDD</td>\n",
       "      <td>F029</td>\n",
       "      <td># 29. Toxic substances properly identified, st...</td>\n",
       "      <td>1</td>\n",
       "      <td>LOS ANGELES</td>\n",
       "      <td>FA0064949</td>\n",
       "      <td>90027</td>\n",
       "      <td>RESTAURANT (31-60) SEATS HIGH RISK</td>\n",
       "      <td>ACTIVE</td>\n",
       "      <td>92</td>\n",
       "    </tr>\n",
       "  </tbody>\n",
       "</table>\n",
       "</div>"
      ],
      "text/plain": [
       "                  Date Facility Name violation_code  \\\n",
       "0  2018-03-30T00:00:00   KRUANG TEDD           F030   \n",
       "1  2018-03-30T00:00:00   KRUANG TEDD           F027   \n",
       "2  2018-03-30T00:00:00   KRUANG TEDD           F035   \n",
       "3  2018-03-30T00:00:00   KRUANG TEDD           F033   \n",
       "4  2018-03-30T00:00:00   KRUANG TEDD           F029   \n",
       "\n",
       "                               violation_description  points         City  \\\n",
       "0  # 30. Food properly stored; food storage conta...       1  LOS ANGELES   \n",
       "1                 # 27. Food separated and protected       1  LOS ANGELES   \n",
       "2  # 35. Equipment/Utensils - approved; installed...       1  LOS ANGELES   \n",
       "3  # 33. Nonfood-contact surfaces clean and in go...       1  LOS ANGELES   \n",
       "4  # 29. Toxic substances properly identified, st...       1  LOS ANGELES   \n",
       "\n",
       "  Facility ID  Zip Code                         Description  Status  Score  \n",
       "0   FA0064949     90027  RESTAURANT (31-60) SEATS HIGH RISK  ACTIVE     92  \n",
       "1   FA0064949     90027  RESTAURANT (31-60) SEATS HIGH RISK  ACTIVE     92  \n",
       "2   FA0064949     90027  RESTAURANT (31-60) SEATS HIGH RISK  ACTIVE     92  \n",
       "3   FA0064949     90027  RESTAURANT (31-60) SEATS HIGH RISK  ACTIVE     92  \n",
       "4   FA0064949     90027  RESTAURANT (31-60) SEATS HIGH RISK  ACTIVE     92  "
      ]
     },
     "execution_count": 4,
     "metadata": {},
     "output_type": "execute_result"
    }
   ],
   "source": [
    "#Remove unnecessary row from dataset \n",
    "clean_df = violations.drop([\"serial_number\",\"grade\",\"row_id\",\"violation_status\",\"service_code\",\"program_name\", \"program_element_pe\", \"facility_address\", \"service_description\", \"employee_id\",\"facility_state\",\"record_id\", \"owner_name\", \"owner_id\", \"program_element_pe\",\"program_name\"],axis =1)\n",
    "\n",
    "renamed_df = clean_df.rename(columns={\"facility_name\": \"Facility Name\",\n",
    "                                      \"activity_date\": \"Date\",\n",
    "                                        \"score\": \"Score\",\n",
    "                                        \"grade\": \"Grade\",\n",
    "                                        \"pe_description\": \"Description\",\n",
    "                                        \"facility_city\": \"City\",\n",
    "                                        \"facility_id\": \"Facility ID\",\n",
    "                                        \"facility_zip\": \"Zip Code\",\n",
    "                                        \"program_status\": \"Status\"})\n",
    "renamed_df.head()\n",
    "# x = renamed_df[\"Facility Name\"]\n",
    "# x.head()"
   ]
  },
  {
   "cell_type": "code",
   "execution_count": 5,
   "metadata": {},
   "outputs": [
    {
     "data": {
      "text/html": [
       "<div>\n",
       "<style scoped>\n",
       "    .dataframe tbody tr th:only-of-type {\n",
       "        vertical-align: middle;\n",
       "    }\n",
       "\n",
       "    .dataframe tbody tr th {\n",
       "        vertical-align: top;\n",
       "    }\n",
       "\n",
       "    .dataframe thead th {\n",
       "        text-align: right;\n",
       "    }\n",
       "</style>\n",
       "<table border=\"1\" class=\"dataframe\">\n",
       "  <thead>\n",
       "    <tr style=\"text-align: right;\">\n",
       "      <th></th>\n",
       "      <th>Zip Code</th>\n",
       "      <th>Score</th>\n",
       "      <th>Median Rent 2016</th>\n",
       "    </tr>\n",
       "  </thead>\n",
       "  <tbody>\n",
       "    <tr>\n",
       "      <th>78</th>\n",
       "      <td>90272</td>\n",
       "      <td>93.392857</td>\n",
       "      <td>2738.71</td>\n",
       "    </tr>\n",
       "    <tr>\n",
       "      <th>69</th>\n",
       "      <td>90094</td>\n",
       "      <td>93.035503</td>\n",
       "      <td>2504.00</td>\n",
       "    </tr>\n",
       "    <tr>\n",
       "      <th>88</th>\n",
       "      <td>91326</td>\n",
       "      <td>98.000000</td>\n",
       "      <td>2497.36</td>\n",
       "    </tr>\n",
       "    <tr>\n",
       "      <th>66</th>\n",
       "      <td>90077</td>\n",
       "      <td>92.063492</td>\n",
       "      <td>2400.60</td>\n",
       "    </tr>\n",
       "    <tr>\n",
       "      <th>85</th>\n",
       "      <td>91307</td>\n",
       "      <td>99.000000</td>\n",
       "      <td>2341.20</td>\n",
       "    </tr>\n",
       "  </tbody>\n",
       "</table>\n",
       "</div>"
      ],
      "text/plain": [
       "    Zip Code      Score  Median Rent 2016\n",
       "78     90272  93.392857           2738.71\n",
       "69     90094  93.035503           2504.00\n",
       "88     91326  98.000000           2497.36\n",
       "66     90077  92.063492           2400.60\n",
       "85     91307  99.000000           2341.20"
      ]
     },
     "execution_count": 5,
     "metadata": {},
     "output_type": "execute_result"
    }
   ],
   "source": [
    "# Create dataframe with only score and zipcode \n",
    "zip_data = renamed_df[[\"Score\",\"Zip Code\"]].groupby(\"Zip Code\").mean()\n",
    "\n",
    "# Drop any rows with a NaN value \n",
    "zip_data = zip_data.dropna(how=\"any\")\n",
    "\n",
    "# Reset the index\n",
    "zip_data.reset_index(inplace=True)\n",
    "\n",
    "# Merge Median Rent data \n",
    "zip_data1 = zip_data.merge(real_estate, on=\"Zip Code\", how = \"left\")\n",
    "zip_data1.sort_values(by=\"Median Rent 2016\",ascending=False).head()"
   ]
  },
  {
   "cell_type": "code",
   "execution_count": 6,
   "metadata": {},
   "outputs": [
    {
     "data": {
      "text/plain": [
       "Zip Code\n",
       "90028    498\n",
       "90012    454\n",
       "90045    440\n",
       "90006    418\n",
       "90036    365\n",
       "Name: Facility ID, dtype: int64"
      ]
     },
     "execution_count": 6,
     "metadata": {},
     "output_type": "execute_result"
    }
   ],
   "source": [
    "# number of unique facilities by zip \n",
    "gb_zip = renamed_df.groupby([\"Zip Code\"])\n",
    "number_of_facilites = gb_zip[\"Facility ID\"]\n",
    "facilities_by_zip = number_of_facilites.nunique()\n",
    "facilities_by_zip\n",
    "\n",
    "# exclude zips with less than 5 unique locations \n",
    "meaningful_zip = facilities_by_zip > 5\n",
    "facilities_df = facilities_by_zip[meaningful_zip].sort_values(ascending = False)\n",
    "facilities_df.head()"
   ]
  },
  {
   "cell_type": "code",
   "execution_count": 7,
   "metadata": {},
   "outputs": [
    {
     "data": {
      "text/plain": [
       "21.431455731007933"
      ]
     },
     "execution_count": 7,
     "metadata": {},
     "output_type": "execute_result"
    }
   ],
   "source": [
    "# Average number of health code violations in LA by facility \n",
    "violation_by_facility = renamed_df[\"violation_code\"].count() / renamed_df[\"Facility ID\"].nunique()\n",
    "violation_by_facility\n"
   ]
  },
  {
   "cell_type": "code",
   "execution_count": 8,
   "metadata": {},
   "outputs": [
    {
     "data": {
      "text/plain": [
       "Zip Code\n",
       "90012    10741\n",
       "90020    10520\n",
       "90028    10410\n",
       "90006     9583\n",
       "90005     9197\n",
       "Name: violation_code, dtype: int64"
      ]
     },
     "execution_count": 8,
     "metadata": {},
     "output_type": "execute_result"
    }
   ],
   "source": [
    "# number of violations by zip \n",
    "gb_zip = renamed_df.groupby([\"Zip Code\"])[\"violation_code\"]\n",
    "violations_by_zip = gb_zip.count().sort_values(ascending = False)\n",
    "violations_by_zip.mean()\n",
    "\n",
    "violations_by_zip.head()\n"
   ]
  },
  {
   "cell_type": "code",
   "execution_count": 9,
   "metadata": {},
   "outputs": [
    {
     "data": {
      "text/plain": [
       "Facility Name\n",
       "CHINA EXPRESS         38\n",
       "WHOLE FOODS MARKET    37\n",
       "HONG KONG EXPRESS     35\n",
       "SUBWAY                34\n",
       "DODGER STADIUM        34\n",
       "Name: violation_code, dtype: int64"
      ]
     },
     "execution_count": 9,
     "metadata": {},
     "output_type": "execute_result"
    }
   ],
   "source": [
    "#Unique violations by restaurant \n",
    "gb = renamed_df.groupby([\"Facility Name\"])\n",
    "yes = gb[\"violation_code\"].nunique()\n",
    "yes = yes.dropna(how=\"any\")\n",
    "yes = yes.sort_values(ascending = False)\n",
    "yes.head()\n"
   ]
  },
  {
   "cell_type": "code",
   "execution_count": 10,
   "metadata": {},
   "outputs": [
    {
     "data": {
      "text/plain": [
       "Facility Name\n",
       "DODGER STADIUM                981\n",
       "STAPLES CENTER (LEVY)         969\n",
       "LA COLISEUM                   673\n",
       "THE COFFEE BEAN & TEA LEAF    449\n",
       "WHOLE FOODS MARKET            446\n",
       "Name: violation_code, dtype: int64"
      ]
     },
     "execution_count": 10,
     "metadata": {},
     "output_type": "execute_result"
    }
   ],
   "source": [
    "# number of violations by restaurant\n",
    "violation_by_facility = gb[\"violation_code\"].count()\n",
    "violation_by_facility = violation_by_facility.dropna(how=\"any\")\n",
    "violation_by_facility = violation_by_facility.sort_values(ascending = False)\n",
    "violation_by_facility.head()"
   ]
  },
  {
   "cell_type": "code",
   "execution_count": 11,
   "metadata": {},
   "outputs": [],
   "source": [
    "#Narrowing in on specific number of violations by Facility ID \n",
    "#violation_by_facility[[\"Facility ID\",\"FA0019271\"]]\n"
   ]
  },
  {
   "cell_type": "code",
   "execution_count": 12,
   "metadata": {},
   "outputs": [
    {
     "data": {
      "text/plain": [
       "272801"
      ]
     },
     "execution_count": 12,
     "metadata": {},
     "output_type": "execute_result"
    }
   ],
   "source": [
    "#Number of health code violations in LA \n",
    "renamed_df[\"violation_code\"].count()"
   ]
  },
  {
   "cell_type": "code",
   "execution_count": 13,
   "metadata": {},
   "outputs": [
    {
     "data": {
      "text/plain": [
       "12729"
      ]
     },
     "execution_count": 13,
     "metadata": {},
     "output_type": "execute_result"
    }
   ],
   "source": [
    "#Unique facilities inspected\n",
    "renamed_df[\"Facility ID\"].nunique()"
   ]
  }
 ],
 "metadata": {
  "kernelspec": {
   "display_name": "Python 3",
   "language": "python",
   "name": "python3"
  },
  "language_info": {
   "codemirror_mode": {
    "name": "ipython",
    "version": 3
   },
   "file_extension": ".py",
   "mimetype": "text/x-python",
   "name": "python",
   "nbconvert_exporter": "python",
   "pygments_lexer": "ipython3",
   "version": "3.7.2"
  }
 },
 "nbformat": 4,
 "nbformat_minor": 2
}
