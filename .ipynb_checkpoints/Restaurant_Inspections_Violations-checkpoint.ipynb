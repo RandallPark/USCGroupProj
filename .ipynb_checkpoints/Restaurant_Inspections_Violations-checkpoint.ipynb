{
 "cells": [
  {
   "cell_type": "code",
   "execution_count": 2,
   "metadata": {},
   "outputs": [],
   "source": [
    "import pandas as pd\n"
   ]
  },
  {
   "cell_type": "code",
   "execution_count": 5,
   "metadata": {},
   "outputs": [],
   "source": [
    "inspections = \"Resources/inspections.csv\"\n",
    "violations = \"Resources/violations.csv\"\n",
    "zip_codes = \"Resources/us_zip_codes.csv\"\n",
    "\n",
    "# inspection_df = pd.read_csv(csv_path)\n",
    "violations_df = pd.read_csv(violations)\n",
    "zip_codes = pd.read_csv(zip_codes)\n",
    "\n",
    "#zip_codes.columns to see columns\n",
    "#zip_codes.columns"
   ]
  },
  {
   "cell_type": "code",
   "execution_count": 6,
   "metadata": {},
   "outputs": [
    {
     "data": {
      "text/plain": [
       "Index(['serial_number', 'activity_date', 'facility_name', 'violation_code',\n",
       "       'violation_description', 'violation_status', 'points', 'grade',\n",
       "       'facility_address', 'facility_city', 'facility_id', 'facility_state',\n",
       "       'facility_zip', 'employee_id', 'owner_id', 'owner_name',\n",
       "       'pe_description', 'program_element_pe', 'program_name',\n",
       "       'program_status', 'record_id', 'score', 'service_code',\n",
       "       'service_description', 'row_id'],\n",
       "      dtype='object')"
      ]
     },
     "execution_count": 6,
     "metadata": {},
     "output_type": "execute_result"
    }
   ],
   "source": [
    "violations_df.columns"
   ]
  },
  {
   "cell_type": "code",
   "execution_count": 9,
   "metadata": {},
   "outputs": [
    {
     "ename": "NameError",
     "evalue": "name 'clean_df' is not defined",
     "output_type": "error",
     "traceback": [
      "\u001b[0;31m---------------------------------------------------------------------------\u001b[0m",
      "\u001b[0;31mNameError\u001b[0m                                 Traceback (most recent call last)",
      "\u001b[0;32m<ipython-input-9-76ca14afa2f2>\u001b[0m in \u001b[0;36m<module>\u001b[0;34m\u001b[0m\n\u001b[0;32m----> 1\u001b[0;31m renamed_df = clean_df.rename(columns={\"facility_name\": \"Facility Name\",\n\u001b[0m\u001b[1;32m      2\u001b[0m                                         \u001b[0;34m\"score\"\u001b[0m\u001b[0;34m:\u001b[0m \u001b[0;34m\"Score\"\u001b[0m\u001b[0;34m,\u001b[0m\u001b[0;34m\u001b[0m\u001b[0;34m\u001b[0m\u001b[0m\n\u001b[1;32m      3\u001b[0m                                         \u001b[0;34m\"grade\"\u001b[0m\u001b[0;34m:\u001b[0m \u001b[0;34m\"Grade\"\u001b[0m\u001b[0;34m,\u001b[0m\u001b[0;34m\u001b[0m\u001b[0;34m\u001b[0m\u001b[0m\n\u001b[1;32m      4\u001b[0m                                         \u001b[0;34m\"pe_description\"\u001b[0m\u001b[0;34m:\u001b[0m \u001b[0;34m\"Description\"\u001b[0m\u001b[0;34m,\u001b[0m\u001b[0;34m\u001b[0m\u001b[0;34m\u001b[0m\u001b[0m\n\u001b[1;32m      5\u001b[0m                                         \u001b[0;34m\"facility_city\"\u001b[0m\u001b[0;34m:\u001b[0m \u001b[0;34m\"City\"\u001b[0m\u001b[0;34m,\u001b[0m\u001b[0;34m\u001b[0m\u001b[0;34m\u001b[0m\u001b[0m\n",
      "\u001b[0;31mNameError\u001b[0m: name 'clean_df' is not defined"
     ]
    }
   ],
   "source": [
    "renamed_df = clean_df.rename(columns={\"facility_name\": \"Facility Name\",\n",
    "                                        \"score\": \"Score\",\n",
    "                                        \"grade\": \"Grade\",\n",
    "                                        \"pe_description\": \"Description\",\n",
    "                                        \"facility_city\": \"City\",\n",
    "                                        \"facility_id\": \"Facility ID\",\n",
    "                                        \"facility_zip\": \"Zip Code\",\n",
    "                                        \"program_status\": \"Status\"})\n",
    "renamed_df"
   ]
  },
  {
   "cell_type": "code",
   "execution_count": null,
   "metadata": {},
   "outputs": [],
   "source": [
    "renamed_df[\"Facility ID\"].unique()"
   ]
  },
  {
   "cell_type": "code",
   "execution_count": 44,
   "metadata": {},
   "outputs": [
    {
     "ename": "NameError",
     "evalue": "name 'vc_lng' is not defined",
     "output_type": "error",
     "traceback": [
      "\u001b[0;31m---------------------------------------------------------------------------\u001b[0m",
      "\u001b[0;31mNameError\u001b[0m                                 Traceback (most recent call last)",
      "\u001b[0;32m<ipython-input-44-e78fcef9b2c8>\u001b[0m in \u001b[0;36m<module>\u001b[0;34m\u001b[0m\n\u001b[1;32m      1\u001b[0m \u001b[0;31m# Plot the pollution counts by neighborhood (via their lat) and visualize in gmaps\u001b[0m\u001b[0;34m\u001b[0m\u001b[0;34m\u001b[0m\u001b[0;34m\u001b[0m\u001b[0m\n\u001b[0;32m----> 2\u001b[0;31m \u001b[0mx\u001b[0m \u001b[0;34m=\u001b[0m \u001b[0mvc_lng\u001b[0m\u001b[0;34m\u001b[0m\u001b[0;34m\u001b[0m\u001b[0m\n\u001b[0m\u001b[1;32m      3\u001b[0m \u001b[0my\u001b[0m \u001b[0;34m=\u001b[0m \u001b[0mvc_count\u001b[0m\u001b[0;34m\u001b[0m\u001b[0;34m\u001b[0m\u001b[0m\n\u001b[1;32m      4\u001b[0m \u001b[0mplt\u001b[0m\u001b[0;34m.\u001b[0m\u001b[0mscatter\u001b[0m\u001b[0;34m(\u001b[0m\u001b[0mx\u001b[0m\u001b[0;34m,\u001b[0m \u001b[0my\u001b[0m\u001b[0;34m,\u001b[0m \u001b[0mc\u001b[0m \u001b[0;34m=\u001b[0m \u001b[0;34m'lightskyblue'\u001b[0m\u001b[0;34m,\u001b[0m \u001b[0medgecolors\u001b[0m \u001b[0;34m=\u001b[0m \u001b[0;34m\"black\"\u001b[0m\u001b[0;34m)\u001b[0m\u001b[0;34m\u001b[0m\u001b[0;34m\u001b[0m\u001b[0m\n\u001b[1;32m      5\u001b[0m \u001b[0mplt\u001b[0m\u001b[0;34m.\u001b[0m\u001b[0mxlabel\u001b[0m\u001b[0;34m(\u001b[0m\u001b[0;34m\"Longitude\"\u001b[0m\u001b[0;34m)\u001b[0m\u001b[0;34m\u001b[0m\u001b[0;34m\u001b[0m\u001b[0m\n",
      "\u001b[0;31mNameError\u001b[0m: name 'vc_lng' is not defined"
     ]
    }
   ],
   "source": [
    "# Scatterplot visualize in gmaps\n",
    "x =  \n",
    "y = \n",
    "plt.scatter(x, y, c = 'lightskyblue', edgecolors = \"black\")\n",
    "plt.xlabel(\"Longitude\")\n",
    "plt.ylabel(\"Crime Counts (per 1000 people)\")\n",
    "plt.title(f\"City Longitude vs. Crime\")\n",
    "plt.grid(True)\n",
    "plt.ylim(0,85)"
   ]
  },
  {
   "cell_type": "code",
   "execution_count": 25,
   "metadata": {},
   "outputs": [
    {
     "data": {
      "text/plain": [
       "93.30792227204783"
      ]
     },
     "execution_count": 25,
     "metadata": {},
     "output_type": "execute_result"
    }
   ],
   "source": [
    "# Average Inspection score \n",
    "avg_score = renamed_df.loc[:,\"Score\"].mean()\n",
    "avg_score \n"
   ]
  },
  {
   "cell_type": "code",
   "execution_count": 26,
   "metadata": {},
   "outputs": [
    {
     "data": {
      "text/plain": [
       "Score    94.0\n",
       "dtype: float64"
      ]
     },
     "execution_count": 26,
     "metadata": {},
     "output_type": "execute_result"
    }
   ],
   "source": [
    "# Most common grade \n",
    "median_score = renamed_df.median()\n",
    "median_score"
   ]
  },
  {
   "cell_type": "code",
   "execution_count": null,
   "metadata": {},
   "outputs": [],
   "source": []
  },
  {
   "cell_type": "code",
   "execution_count": null,
   "metadata": {},
   "outputs": [],
   "source": []
  }
 ],
 "metadata": {
  "kernelspec": {
   "display_name": "Python 3",
   "language": "python",
   "name": "python3"
  },
  "language_info": {
   "codemirror_mode": {
    "name": "ipython",
    "version": 3
   },
   "file_extension": ".py",
   "mimetype": "text/x-python",
   "name": "python",
   "nbconvert_exporter": "python",
   "pygments_lexer": "ipython3",
   "version": "3.7.2"
  }
 },
 "nbformat": 4,
 "nbformat_minor": 2
}
