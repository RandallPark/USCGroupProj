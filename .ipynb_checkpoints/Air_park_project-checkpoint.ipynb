{
 "cells": [
  {
   "cell_type": "markdown",
   "metadata": {},
   "source": [
    "## Secondary Study to Evaluate Park Density and Air Quality As Predictors to Median Rent Prices in Los Angeles\n",
    "\n",
    "* Data acquired from USC.Data.socratas\n",
    "* Major Steps\n",
    "* 1 Air Quality Data set\n",
    "* 2 Park Count Data set\n",
    "* 3 Merge Data\n",
    "* 4 Model Validation and Statistical Analysis\n",
    "* How does down sampling alter estimated and cummulative distribution functions\n",
    "* Are the means for the down sampled and original data sets different? T-test independent samples.\n",
    "\n"
   ]
  },
  {
   "cell_type": "markdown",
   "metadata": {},
   "source": [
    "# Parto 1: Air quality study\n",
    "### Set-up Dependencies\n",
    "* API call to get data\n",
    "* Prepare pandas dataframe\n",
    "* Exploritory data analysis"
   ]
  },
  {
   "cell_type": "code",
   "execution_count": 1,
   "metadata": {},
   "outputs": [],
   "source": [
    "# Dependencies and Setup\n",
    "import matplotlib.pyplot as plt\n",
    "import pandas as pd\n",
    "import numpy as np\n",
    "import requests\n",
    "import gmaps\n",
    "import seaborn as sns\n",
    "from sklearn import linear_model\n",
    "from sklearn.metrics import mean_squared_error, r2_score\n",
    "from sklearn.model_selection import train_test_split, cross_val_score\n",
    "from sklearn.linear_model import LinearRegression\n",
    "import statsmodels.api as sm\n",
    "from scipy.stats import ttest_ind, ttest_ind_from_stats, levene\n",
    "\n",
    "\n",
    "# Google developer API key\n",
    "from config import gkey\n",
    "\n",
    "# Configure gmaps\n",
    "gmaps.configure(api_key=gkey)\n"
   ]
  },
  {
   "cell_type": "markdown",
   "metadata": {},
   "source": [
    "### Set-up Multi-API Call\n",
    "* This data set has 2 years available, so I will create two API calls and add all the date into a single datafram"
   ]
  },
  {
   "cell_type": "code",
   "execution_count": 2,
   "metadata": {},
   "outputs": [],
   "source": [
    "# The data has 2 years\n",
    "years = [2014, 2017]\n",
    "# The endpoint will require I specify the year\n",
    "url =  \"https://usc.data.socrata.com/resource/bhyw-mxf5.json?$where=year=\""
   ]
  },
  {
   "cell_type": "markdown",
   "metadata": {},
   "source": [
    "### Save JSON data into Lists (pre-dataframe step)"
   ]
  },
  {
   "cell_type": "code",
   "execution_count": 3,
   "metadata": {},
   "outputs": [],
   "source": [
    "# Initialize a list that will eventually be used for form the columns in dataframe.\n",
    "count = []\n",
    "dataset = []\n",
    "date = []\n",
    "geoid = []\n",
    "location = []\n",
    "lat = []\n",
    "lng = []\n",
    "neighborhood = []\n",
    "policy_area = []\n",
    "row_id = []\n",
    "tract = []\n",
    "tract_number = []\n",
    "variable = []\n",
    "year = []\n",
    "\n",
    "\n",
    "for yr in years:\n",
    "    query_url = f\"{url}{yr}\"\n",
    "    response = requests.get(query_url)\n",
    "    response_json = response.json()\n",
    "    \n",
    "    for key in range(len(response_json)):\n",
    "        count.append(response_json[key]['count'])\n",
    "        dataset.append(response_json[key]['dataset'])\n",
    "        date.append(response_json[key]['date'])\n",
    "        geoid.append(response_json[key]['geoid'])\n",
    "        location.append(response_json[key]['location'])\n",
    "        neighborhood.append(response_json[key]['neighborhood'])\n",
    "        policy_area.append(response_json[key]['policy_area'])\n",
    "        row_id.append(response_json[key]['row_id'])\n",
    "        tract.append(response_json[key]['tract'])\n",
    "        tract_number.append(response_json[key]['tract_number'])\n",
    "        variable.append(response_json[key]['variable'])\n",
    "        year.append(response_json[key]['year'])\n",
    "\n",
    "\n"
   ]
  },
  {
   "cell_type": "markdown",
   "metadata": {},
   "source": [
    "### Split location column into lat and lng columns\n",
    "* Having lat and logitudinal data will be useful for map visualization"
   ]
  },
  {
   "cell_type": "code",
   "execution_count": 4,
   "metadata": {},
   "outputs": [],
   "source": [
    "# Split the location list into two lists, one for lat and one for long data\n",
    "for i in range(len(location)):\n",
    "    first = location[i].index(location[i][1])\n",
    "    last = location[i].index(location[i][-1])\n",
    "    unpacked = location[i][first:last]\n",
    "    split_location = unpacked.split(\",\")\n",
    "    lat.append(split_location[0])\n",
    "    lng.append(split_location[1])\n"
   ]
  },
  {
   "cell_type": "markdown",
   "metadata": {},
   "source": [
    "### Create Dataframe\n",
    "* Create a dictionary that contains the list of data from the JSON data, and a label\n",
    "* Pass the dict object into pd.DataFrame, and create a pandas object"
   ]
  },
  {
   "cell_type": "code",
   "execution_count": 5,
   "metadata": {},
   "outputs": [
    {
     "name": "stdout",
     "output_type": "stream",
     "text": [
      "<class 'pandas.core.frame.DataFrame'>\n",
      "RangeIndex: 2000 entries, 0 to 1999\n",
      "Data columns (total 14 columns):\n",
      "year            2000 non-null object\n",
      "count           2000 non-null object\n",
      "dataset         2000 non-null object\n",
      "date            2000 non-null object\n",
      "geoid           2000 non-null object\n",
      "location        2000 non-null object\n",
      "lat             2000 non-null object\n",
      "lng             2000 non-null object\n",
      "neighborhood    2000 non-null object\n",
      "policy area     2000 non-null object\n",
      "row id          2000 non-null object\n",
      "tract           2000 non-null object\n",
      "tract number    2000 non-null object\n",
      "variable        2000 non-null object\n",
      "dtypes: object(14)\n",
      "memory usage: 218.8+ KB\n"
     ]
    }
   ],
   "source": [
    "dict = {\"year\" : year,\n",
    "        \"count\" : count,\n",
    "       \"dataset\" : dataset,\n",
    "       \"date\" :  date,\n",
    "       \"geoid\" : geoid,\n",
    "       \"location\" : location,\n",
    "        \"lat\" : lat,\n",
    "        \"lng\" : lng,\n",
    "        \"neighborhood\" : neighborhood,\n",
    "        \"policy area\" : policy_area,\n",
    "        \"row id\": row_id,\n",
    "        \"tract\" : tract,\n",
    "        \"tract number\" : tract_number,\n",
    "        \"variable\" : variable,\n",
    "       }\n",
    "\n",
    "df = pd.DataFrame(data = dict)\n",
    "df.info()"
   ]
  },
  {
   "cell_type": "markdown",
   "metadata": {},
   "source": [
    "### Format and Clean Data for Further Analysis\n",
    "* Convert columns to appropriate data types\n",
    "* For data imported as strings, remove white space, and misc characters.\n"
   ]
  },
  {
   "cell_type": "code",
   "execution_count": 6,
   "metadata": {},
   "outputs": [
    {
     "data": {
      "text/html": [
       "<div>\n",
       "<style scoped>\n",
       "    .dataframe tbody tr th:only-of-type {\n",
       "        vertical-align: middle;\n",
       "    }\n",
       "\n",
       "    .dataframe tbody tr th {\n",
       "        vertical-align: top;\n",
       "    }\n",
       "\n",
       "    .dataframe thead th {\n",
       "        text-align: right;\n",
       "    }\n",
       "</style>\n",
       "<table border=\"1\" class=\"dataframe\">\n",
       "  <thead>\n",
       "    <tr style=\"text-align: right;\">\n",
       "      <th></th>\n",
       "      <th>year</th>\n",
       "      <th>count</th>\n",
       "      <th>dataset</th>\n",
       "      <th>date</th>\n",
       "      <th>geoid</th>\n",
       "      <th>location</th>\n",
       "      <th>lat</th>\n",
       "      <th>lng</th>\n",
       "      <th>neighborhood</th>\n",
       "      <th>policy area</th>\n",
       "      <th>row id</th>\n",
       "      <th>tract</th>\n",
       "      <th>tract number</th>\n",
       "      <th>variable</th>\n",
       "    </tr>\n",
       "  </thead>\n",
       "  <tbody>\n",
       "    <tr>\n",
       "      <th>0</th>\n",
       "      <td>2014</td>\n",
       "      <td>11.040100</td>\n",
       "      <td>Air Quality</td>\n",
       "      <td>2014-01-01T00:00:00.000</td>\n",
       "      <td>1400000US06037101110</td>\n",
       "      <td>(34.2595555, -118.293602)</td>\n",
       "      <td>34.259555</td>\n",
       "      <td>-118.293602</td>\n",
       "      <td>Tujunga</td>\n",
       "      <td>Environment</td>\n",
       "      <td>PM2.5_Concentration_2014_1400000US06037101110</td>\n",
       "      <td>Census Tract 1011.10, Los Angeles County, Cali...</td>\n",
       "      <td>101110</td>\n",
       "      <td>PM2.5 Concentration</td>\n",
       "    </tr>\n",
       "    <tr>\n",
       "      <th>1</th>\n",
       "      <td>2014</td>\n",
       "      <td>10.953724</td>\n",
       "      <td>Air Quality</td>\n",
       "      <td>2014-01-01T00:00:00.000</td>\n",
       "      <td>1400000US06037101122</td>\n",
       "      <td>(34.267357, -118.29024)</td>\n",
       "      <td>34.267357</td>\n",
       "      <td>-118.290240</td>\n",
       "      <td>Tujunga</td>\n",
       "      <td>Environment</td>\n",
       "      <td>PM2.5_Concentration_2014_1400000US06037101122</td>\n",
       "      <td>Census Tract 1011.22, Los Angeles County, Cali...</td>\n",
       "      <td>101122</td>\n",
       "      <td>PM2.5 Concentration</td>\n",
       "    </tr>\n",
       "    <tr>\n",
       "      <th>2</th>\n",
       "      <td>2014</td>\n",
       "      <td>11.114240</td>\n",
       "      <td>Air Quality</td>\n",
       "      <td>2014-01-01T00:00:00.000</td>\n",
       "      <td>1400000US06037101210</td>\n",
       "      <td>(34.251998, -118.2926875)</td>\n",
       "      <td>34.251998</td>\n",
       "      <td>-118.292687</td>\n",
       "      <td>Tujunga</td>\n",
       "      <td>Environment</td>\n",
       "      <td>PM2.5_Concentration_2014_1400000US06037101210</td>\n",
       "      <td>Census Tract 1012.10, Los Angeles County, Cali...</td>\n",
       "      <td>101210</td>\n",
       "      <td>PM2.5 Concentration</td>\n",
       "    </tr>\n",
       "    <tr>\n",
       "      <th>3</th>\n",
       "      <td>2014</td>\n",
       "      <td>11.143084</td>\n",
       "      <td>Air Quality</td>\n",
       "      <td>2014-01-01T00:00:00.000</td>\n",
       "      <td>1400000US06037101220</td>\n",
       "      <td>(34.2511895, -118.281014)</td>\n",
       "      <td>34.251190</td>\n",
       "      <td>-118.281014</td>\n",
       "      <td>Tujunga</td>\n",
       "      <td>Environment</td>\n",
       "      <td>PM2.5_Concentration_2014_1400000US06037101220</td>\n",
       "      <td>Census Tract 1012.20, Los Angeles County, Cali...</td>\n",
       "      <td>101220</td>\n",
       "      <td>PM2.5 Concentration</td>\n",
       "    </tr>\n",
       "    <tr>\n",
       "      <th>4</th>\n",
       "      <td>2014</td>\n",
       "      <td>11.189527</td>\n",
       "      <td>Air Quality</td>\n",
       "      <td>2014-01-01T00:00:00.000</td>\n",
       "      <td>1400000US06037101300</td>\n",
       "      <td>(34.2455945, -118.271731)</td>\n",
       "      <td>34.245595</td>\n",
       "      <td>-118.271731</td>\n",
       "      <td>Tujunga</td>\n",
       "      <td>Environment</td>\n",
       "      <td>PM2.5_Concentration_2014_1400000US06037101300</td>\n",
       "      <td>Census Tract 1013, Los Angeles County, California</td>\n",
       "      <td>101300</td>\n",
       "      <td>PM2.5 Concentration</td>\n",
       "    </tr>\n",
       "  </tbody>\n",
       "</table>\n",
       "</div>"
      ],
      "text/plain": [
       "   year      count      dataset                     date  \\\n",
       "0  2014  11.040100  Air Quality  2014-01-01T00:00:00.000   \n",
       "1  2014  10.953724  Air Quality  2014-01-01T00:00:00.000   \n",
       "2  2014  11.114240  Air Quality  2014-01-01T00:00:00.000   \n",
       "3  2014  11.143084  Air Quality  2014-01-01T00:00:00.000   \n",
       "4  2014  11.189527  Air Quality  2014-01-01T00:00:00.000   \n",
       "\n",
       "                  geoid                   location        lat         lng  \\\n",
       "0  1400000US06037101110  (34.2595555, -118.293602)  34.259555 -118.293602   \n",
       "1  1400000US06037101122    (34.267357, -118.29024)  34.267357 -118.290240   \n",
       "2  1400000US06037101210  (34.251998, -118.2926875)  34.251998 -118.292687   \n",
       "3  1400000US06037101220  (34.2511895, -118.281014)  34.251190 -118.281014   \n",
       "4  1400000US06037101300  (34.2455945, -118.271731)  34.245595 -118.271731   \n",
       "\n",
       "  neighborhood  policy area                                         row id  \\\n",
       "0      Tujunga  Environment  PM2.5_Concentration_2014_1400000US06037101110   \n",
       "1      Tujunga  Environment  PM2.5_Concentration_2014_1400000US06037101122   \n",
       "2      Tujunga  Environment  PM2.5_Concentration_2014_1400000US06037101210   \n",
       "3      Tujunga  Environment  PM2.5_Concentration_2014_1400000US06037101220   \n",
       "4      Tujunga  Environment  PM2.5_Concentration_2014_1400000US06037101300   \n",
       "\n",
       "                                               tract tract number  \\\n",
       "0  Census Tract 1011.10, Los Angeles County, Cali...       101110   \n",
       "1  Census Tract 1011.22, Los Angeles County, Cali...       101122   \n",
       "2  Census Tract 1012.10, Los Angeles County, Cali...       101210   \n",
       "3  Census Tract 1012.20, Los Angeles County, Cali...       101220   \n",
       "4  Census Tract 1013, Los Angeles County, California       101300   \n",
       "\n",
       "              variable  \n",
       "0  PM2.5 Concentration  \n",
       "1  PM2.5 Concentration  \n",
       "2  PM2.5 Concentration  \n",
       "3  PM2.5 Concentration  \n",
       "4  PM2.5 Concentration  "
      ]
     },
     "execution_count": 6,
     "metadata": {},
     "output_type": "execute_result"
    }
   ],
   "source": [
    "# Convert the following column from string to floats. \n",
    "# The count column contains pollution data.\n",
    "# Location, lat and lng to be used for mapping and other analysis\n",
    "\n",
    "df[\"count\"] = pd.to_numeric(df[\"count\"])\n",
    "df[\"lat\"] = pd.to_numeric(df[\"lat\"])\n",
    "df[\"lng\"] = pd.to_numeric(df[\"lng\"])\n",
    "\n",
    "df.head()"
   ]
  },
  {
   "cell_type": "markdown",
   "metadata": {},
   "source": [
    "### Visualize Data using Gmaps"
   ]
  },
  {
   "cell_type": "code",
   "execution_count": 7,
   "metadata": {},
   "outputs": [
    {
     "data": {
      "application/vnd.jupyter.widget-view+json": {
       "model_id": "0e07a6b53efc4dd18b2721a52e40286a",
       "version_major": 2,
       "version_minor": 0
      },
      "text/plain": [
       "Figure(layout=FigureLayout(height='420px'))"
      ]
     },
     "metadata": {},
     "output_type": "display_data"
    }
   ],
   "source": [
    "# Store latitude and longitude in locations\n",
    "locations = df[[\"lat\", \"lng\"]]\n",
    "\n",
    "# Plot Heatmap\n",
    "fig = gmaps.figure()\n",
    "\n",
    "symbol_layer = gmaps.symbol_layer(locations, fill_color='red', stroke_color='black', scale=2)\n",
    "\n",
    "# Add layer\n",
    "fig.add_layer(symbol_layer)\n",
    "\n",
    "# Display figure\n",
    "fig"
   ]
  },
  {
   "cell_type": "markdown",
   "metadata": {},
   "source": [
    "##  Aggregate Data by Year and then remove multilevel index"
   ]
  },
  {
   "cell_type": "code",
   "execution_count": 8,
   "metadata": {},
   "outputs": [],
   "source": [
    "# Aggregate by neighborhood and generate columns for lat, long, and pollution counts.\n",
    "aggregated_data = df.groupby(\"neighborhood\").agg([\"min\", \"max\", \"mean\"])\n",
    "\n",
    "air_agg_level_0 = aggregated_data.columns.get_level_values(0)\n",
    "air_agg_level_1 = aggregated_data.columns.get_level_values(1)\n",
    "\n",
    "# Remove multilevel index and assign to same df\n",
    "aggregated_data.columns = air_agg_level_0 + '_' + air_agg_level_1\n",
    "aggregated_data = aggregated_data[[\"count_mean\", \"lat_min\", \"lng_min\"]]\n",
    "pollution_mean = aggregated_data[\"count_mean\"]\n",
    "neighborhood_lat = aggregated_data[\"lat_min\"]\n",
    "neighborhood_lng = aggregated_data[\"lng_min\"]"
   ]
  },
  {
   "cell_type": "markdown",
   "metadata": {},
   "source": [
    "### Determine the relationship between latitude and pollution counts"
   ]
  },
  {
   "cell_type": "code",
   "execution_count": 9,
   "metadata": {},
   "outputs": [
    {
     "data": {
      "image/png": "[encoded data removed]",
      "text/plain": [
       "<Figure size 432x288 with 1 Axes>"
      ]
     },
     "metadata": {
      "needs_background": "light"
     },
     "output_type": "display_data"
    }
   ],
   "source": [
    "# Plot the pollution counts by neighborhood (via their lat) and visualize in gmaps\n",
    "x = neighborhood_lat\n",
    "y = pollution_mean\n",
    "plt.scatter(x, y, c = 'lightblue', edgecolors = \"black\")\n",
    "plt.xlabel(\"Latitude\")\n",
    "plt.ylabel(\"Pollution Counts (2.5 ppm)\")\n",
    "plt.title(f\"City Latitude vs. Pollution\")\n",
    "plt.grid(True)\n",
    "\n",
    "# Label the neighborhood with the heighest and lowest counts\n",
    "# X,Y Coordinates for BH and Chatsworth reservoice\n",
    "boyle_heights_lat = 34.018117\n",
    "boyle_heights_cnt = 12.791653\n",
    "chatsworth_res_lat = 34.228206\n",
    "chatsworth_res_cnt = 10.245630\n",
    "plt.text(x = boyle_heights_lat, y = boyle_heights_cnt, s = \"Boyle Heights\", fontsize = 12)\n",
    "plt.text(chatsworth_res_lat, chatsworth_res_cnt, s = \"Chatsworth Reservoir\", fontsize = 12)\n",
    "plt.savefig('lat_vs_pollution.png')\n"
   ]
  },
  {
   "cell_type": "markdown",
   "metadata": {},
   "source": [
    "### Determine the Covariance\n",
    "* Use numpy np.cov() to evaluate\n",
    "* a) how the temperature and latitude vary together\n",
    "* b) determine the directionality of any association\n",
    "* Statistical Principal:\n",
    "* The covariance is used to determine the direction of a linear relationship between two variables as follows:\n",
    "* If both variables tend to increase or decrease together, the coefficient is positive.\n",
    "* If one variable tends to increase as the other decreases, the coefficient is negative."
   ]
  },
  {
   "cell_type": "code",
   "execution_count": 10,
   "metadata": {},
   "outputs": [
    {
     "name": "stdout",
     "output_type": "stream",
     "text": [
      "The covariance for latitude and temperature is -0.0482, and is negative. \n",
      "This states that as one variable increases, the other decreases.\n"
     ]
    }
   ],
   "source": [
    "x = neighborhood_lat\n",
    "y = pollution_mean\n",
    "\n",
    "np.cov(x,y)\n",
    "\n",
    "# Compute the covariance matrix: covariance_matrix\n",
    "covariance_matrix = np.cov(x, y)\n",
    "covariance_matrix\n",
    "\n",
    "# Extract covariance of latitude and Max Temperature\n",
    "pol_lav_covariance = covariance_matrix[0,1]\n",
    "pol_lav_covariance\n",
    "\n",
    "if (pol_lav_covariance < 0):\n",
    "    print(f\"The covariance for latitude and temperature is {round(pol_lav_covariance,4)}, and is negative. \\nThis states that as one variable increases, the other decreases.\")\n",
    "else:\n",
    "    print(f\"The covariance for latitude and temperature is {round(pol_lav_covariance,4)}, is positive. \\nThis states that these variable tend to either increase or decrease together.\")"
   ]
  },
  {
   "cell_type": "markdown",
   "metadata": {},
   "source": [
    "### Determine the Pearson Coefficient\n",
    "* Use numpy np.corrcoef() to evaluate \n",
    "* a) how the temperature and latitude vary together\n",
    "* b) Examine the linear relationship between these two variables \n",
    "\n",
    "* Statistical Principal: \n",
    "* Pearson correlation coefficient, also called the Pearson r, is often easier to interpret than the covariance.\n",
    "* The strenght of the association depends on how close the value approaches -1 or 1.\n",
    "* The directionality of the association depends on whether it is positive or negative."
   ]
  },
  {
   "cell_type": "code",
   "execution_count": 11,
   "metadata": {},
   "outputs": [
    {
     "name": "stdout",
     "output_type": "stream",
     "text": [
      "-0.5914960694899909\n",
      "Since r = -0.5915, is negative; as one variable increases, the other decreases.\n"
     ]
    }
   ],
   "source": [
    "# Function that Computes the Pearson correlation coefficient between two arrays.\n",
    "def pearson_r(x, y):\n",
    "\n",
    "    # Compute correlation matrix: corr_mat\n",
    "    corr_mat = np.corrcoef(x, y)\n",
    "\n",
    "    # Return entry [0,1]\n",
    "    return corr_mat[0,1]\n",
    "\n",
    "# Compute Pearson correlation coefficient for I. versicolor: r\n",
    "r = pearson_r(x, y)\n",
    "\n",
    "# Print the result\n",
    "print(r)\n",
    "\n",
    "if (r < 0):\n",
    "    print(f\"Since r = {round(r,4)}, is negative; as one variable increases, the other decreases.\")\n",
    "    if(r <= -0.75):\n",
    "        print(f\"Since r = {round(r,4)} is close to -1; There is a strong inverse relationship between these two variables.\")\n",
    "if (r > 0):\n",
    "    print(f\"Since r = {round(r,4)}, is positive; both variables increase together, or decrease together.\")\n",
    "    if (r >= 0.75):\n",
    "        print(f\"Since r = {round(r,4)} is close to 1; There is a strong positive relationship between these two variables.\")\n",
    "    else:\n",
    "        print(\"There is a weak or no association between both variables.\")"
   ]
  },
  {
   "cell_type": "markdown",
   "metadata": {},
   "source": [
    "### Visualize 5 neighborhoods with the higest and lowest pollution and plot in gmap"
   ]
  },
  {
   "cell_type": "code",
   "execution_count": 12,
   "metadata": {},
   "outputs": [
    {
     "data": {
      "text/html": [
       "<div>\n",
       "<style scoped>\n",
       "    .dataframe tbody tr th:only-of-type {\n",
       "        vertical-align: middle;\n",
       "    }\n",
       "\n",
       "    .dataframe tbody tr th {\n",
       "        vertical-align: top;\n",
       "    }\n",
       "\n",
       "    .dataframe thead th {\n",
       "        text-align: right;\n",
       "    }\n",
       "</style>\n",
       "<table border=\"1\" class=\"dataframe\">\n",
       "  <thead>\n",
       "    <tr style=\"text-align: right;\">\n",
       "      <th></th>\n",
       "      <th>count_mean</th>\n",
       "      <th>lat_min</th>\n",
       "      <th>lng_min</th>\n",
       "    </tr>\n",
       "    <tr>\n",
       "      <th>neighborhood</th>\n",
       "      <th></th>\n",
       "      <th></th>\n",
       "      <th></th>\n",
       "    </tr>\n",
       "  </thead>\n",
       "  <tbody>\n",
       "    <tr>\n",
       "      <th>Chatsworth Reservoir</th>\n",
       "      <td>10.100556</td>\n",
       "      <td>34.228206</td>\n",
       "      <td>-118.645614</td>\n",
       "    </tr>\n",
       "    <tr>\n",
       "      <th>Chatsworth</th>\n",
       "      <td>10.231992</td>\n",
       "      <td>34.237392</td>\n",
       "      <td>-118.648833</td>\n",
       "    </tr>\n",
       "    <tr>\n",
       "      <th>Porter Ranch</th>\n",
       "      <td>10.280580</td>\n",
       "      <td>34.262049</td>\n",
       "      <td>-118.562083</td>\n",
       "    </tr>\n",
       "    <tr>\n",
       "      <th>West Hills</th>\n",
       "      <td>10.419982</td>\n",
       "      <td>34.188342</td>\n",
       "      <td>-118.655217</td>\n",
       "    </tr>\n",
       "    <tr>\n",
       "      <th>Granada Hills</th>\n",
       "      <td>10.478734</td>\n",
       "      <td>34.257483</td>\n",
       "      <td>-118.524711</td>\n",
       "    </tr>\n",
       "  </tbody>\n",
       "</table>\n",
       "</div>"
      ],
      "text/plain": [
       "                      count_mean    lat_min     lng_min\n",
       "neighborhood                                           \n",
       "Chatsworth Reservoir   10.100556  34.228206 -118.645614\n",
       "Chatsworth             10.231992  34.237392 -118.648833\n",
       "Porter Ranch           10.280580  34.262049 -118.562083\n",
       "West Hills             10.419982  34.188342 -118.655217\n",
       "Granada Hills          10.478734  34.257483 -118.524711"
      ]
     },
     "execution_count": 12,
     "metadata": {},
     "output_type": "execute_result"
    }
   ],
   "source": [
    "# Top 5 cities with the heighest pollutio using \"nlargest\"\n",
    "top_5_pollution = aggregated_data.nlargest(5, \"count_mean\")\n",
    "low_5_pollution = aggregated_data.nsmallest(5, \"count_mean\")\n",
    "low_5_pollution"
   ]
  },
  {
   "cell_type": "code",
   "execution_count": 13,
   "metadata": {},
   "outputs": [],
   "source": [
    "\n",
    "# Further subset the lat and lng for each of these cities and save into a new df\n",
    "top_5_loc = top_5_pollution[[\"lat_min\", \"lng_min\"]]\n",
    "low_5_loc = low_5_pollution[[\"lat_min\", \"lng_min\"]]"
   ]
  },
  {
   "cell_type": "code",
   "execution_count": 14,
   "metadata": {},
   "outputs": [
    {
     "data": {
      "application/vnd.jupyter.widget-view+json": {
       "model_id": "23dbbc023b6a478bb1ba0802349d02b7",
       "version_major": 2,
       "version_minor": 0
      },
      "text/plain": [
       "Figure(layout=FigureLayout(height='420px'))"
      ]
     },
     "metadata": {},
     "output_type": "display_data"
    }
   ],
   "source": [
    "# Store latitude and longitude in locations\n",
    "top_locations = top_5_loc\n",
    "low_locations = low_5_loc\n",
    "\n",
    "# Plot Heatmap\n",
    "fig = gmaps.figure()\n",
    "\n",
    "# Create heat layer\n",
    "top_layer = gmaps.heatmap_layer(top_locations)\n",
    "top_marker_layer = gmaps.marker_layer(top_locations, label='high')\n",
    "\n",
    "low_layer = gmaps.heatmap_layer(low_locations)\n",
    "low_marker_layer = gmaps.marker_layer(low_locations, label='low')\n",
    "\n",
    "# Add layer\n",
    "fig.add_layer(top_layer)\n",
    "fig.add_layer(top_marker_layer)\n",
    "fig.add_layer(low_layer)\n",
    "fig.add_layer(low_marker_layer)\n",
    "\n",
    "# Display figure\n",
    "fig"
   ]
  },
  {
   "cell_type": "markdown",
   "metadata": {},
   "source": [
    "### Visualize the counts in gmaps to highlight distribution of pollution"
   ]
  },
  {
   "cell_type": "code",
   "execution_count": 15,
   "metadata": {},
   "outputs": [
    {
     "data": {
      "application/vnd.jupyter.widget-view+json": {
       "model_id": "63dd7f54f849421cbb3386208cc54164",
       "version_major": 2,
       "version_minor": 0
      },
      "text/plain": [
       "Figure(layout=FigureLayout(height='420px'))"
      ]
     },
     "metadata": {},
     "output_type": "display_data"
    }
   ],
   "source": [
    "# Assign the lat and long variable of the aggregated dataset to the location variable\n",
    "location = aggregated_data[[\"lat_min\", \"lng_min\"]]\n",
    "\n",
    "# Plot Heatmap\n",
    "locations = location\n",
    "weights = pollution_mean\n",
    "\n",
    "fig = gmaps.figure(map_type=\"SATELLITE\")\n",
    "\n",
    "# # Create heat layer\n",
    "heat_layer = gmaps.heatmap_layer(locations, weights = weights)\n",
    "\n",
    "# # Add layer\n",
    "fig.add_layer(heat_layer)\n",
    "\n",
    "# # Display figure\n",
    "fig"
   ]
  },
  {
   "cell_type": "markdown",
   "metadata": {},
   "source": [
    "# Part 2: Acces to Parks in LA county (1 acre per 1000 residents)\n",
    "### Set-up Dependencies\n",
    "* API call to get data\n",
    "* Prepare pandas dataframe\n",
    "* Exploritory data analysis"
   ]
  },
  {
   "cell_type": "code",
   "execution_count": 16,
   "metadata": {},
   "outputs": [],
   "source": [
    "park_url =  \"https://usc.data.socrata.com/resource/kp5h-fmqh.json?dataset=Parks Access\""
   ]
  },
  {
   "cell_type": "code",
   "execution_count": 17,
   "metadata": {},
   "outputs": [
    {
     "name": "stdout",
     "output_type": "stream",
     "text": [
      "this 440 is no good\n",
      "this 847 is no good\n"
     ]
    }
   ],
   "source": [
    "park_count = []\n",
    "park_dataset = []\n",
    "park_date = []\n",
    "park_geoid = []\n",
    "park_location = []\n",
    "park_lat = []\n",
    "park_lng = []\n",
    "park_neighborhood = []\n",
    "park_policy_area = []\n",
    "park_row_id = []\n",
    "park_tract = []\n",
    "park_tract_number = []\n",
    "park_variable = []\n",
    "park_year = []\n",
    "\n",
    "\n",
    "query_url_park = f\"{park_url}\"\n",
    "response = requests.get(query_url_park)\n",
    "park_response_json = response.json()\n",
    "# park_response_json[0:10]\n",
    "\n",
    "for index in range(len(park_response_json)):\n",
    "    try:\n",
    "        park_count.append(park_response_json[index]['count'])\n",
    "        park_dataset.append(park_response_json[index]['dataset'])\n",
    "        park_date.append(park_response_json[index]['date'])\n",
    "        park_geoid.append(park_response_json[index]['geoid'])\n",
    "        park_location.append(park_response_json[index]['location']['coordinates'])\n",
    "        park_neighborhood.append(park_response_json[index]['neighborhood'])\n",
    "        park_policy_area.append(park_response_json[index]['policy_area'])\n",
    "        park_row_id.append(park_response_json[index]['row_id'])\n",
    "        park_tract.append(park_response_json[index]['tract'])\n",
    "        park_tract_number.append(park_response_json[index]['tract_number'])\n",
    "        park_variable.append(park_response_json[index]['variable'])\n",
    "        park_year.append(park_response_json[index]['year'])\n",
    "    except: \n",
    "        print(f\"this {index} is no good\")\n",
    "\n",
    "\n"
   ]
  },
  {
   "cell_type": "code",
   "execution_count": 18,
   "metadata": {},
   "outputs": [],
   "source": [
    "for i in range(len(park_location)):\n",
    "    park_lat.append(park_location[i][1])\n",
    "    park_lng.append(park_location[i][0])\n",
    "    "
   ]
  },
  {
   "cell_type": "code",
   "execution_count": 19,
   "metadata": {},
   "outputs": [
    {
     "data": {
      "text/html": [
       "<div>\n",
       "<style scoped>\n",
       "    .dataframe tbody tr th:only-of-type {\n",
       "        vertical-align: middle;\n",
       "    }\n",
       "\n",
       "    .dataframe tbody tr th {\n",
       "        vertical-align: top;\n",
       "    }\n",
       "\n",
       "    .dataframe thead th {\n",
       "        text-align: right;\n",
       "    }\n",
       "</style>\n",
       "<table border=\"1\" class=\"dataframe\">\n",
       "  <thead>\n",
       "    <tr style=\"text-align: right;\">\n",
       "      <th></th>\n",
       "      <th>year</th>\n",
       "      <th>count</th>\n",
       "      <th>dataset</th>\n",
       "      <th>lat</th>\n",
       "      <th>lng</th>\n",
       "      <th>date</th>\n",
       "      <th>geoid</th>\n",
       "      <th>location</th>\n",
       "      <th>neighborhood</th>\n",
       "      <th>policy area</th>\n",
       "      <th>row id</th>\n",
       "      <th>tract</th>\n",
       "      <th>tract number</th>\n",
       "      <th>variable</th>\n",
       "    </tr>\n",
       "  </thead>\n",
       "  <tbody>\n",
       "    <tr>\n",
       "      <th>0</th>\n",
       "      <td>2015</td>\n",
       "      <td>0.2307633501355139</td>\n",
       "      <td>Parks Access</td>\n",
       "      <td>34.049649</td>\n",
       "      <td>-118.381096</td>\n",
       "      <td>2015-01-01T00:00:00.000</td>\n",
       "      <td>1400000US06037217002</td>\n",
       "      <td>[-118.381096, 34.049649]</td>\n",
       "      <td>Pico-Robertson</td>\n",
       "      <td>Social Connectedness</td>\n",
       "      <td>Acres_of_Parks_Per_1,000_People_2015_1400000US...</td>\n",
       "      <td>Census Tract 2170.02, Los Angeles County, Cali...</td>\n",
       "      <td>217002</td>\n",
       "      <td>Acres of Parks Per 1,000 People</td>\n",
       "    </tr>\n",
       "    <tr>\n",
       "      <th>1</th>\n",
       "      <td>2015</td>\n",
       "      <td>4.212398007039556</td>\n",
       "      <td>Parks Access</td>\n",
       "      <td>34.021380</td>\n",
       "      <td>-118.431080</td>\n",
       "      <td>2015-01-01T00:00:00.000</td>\n",
       "      <td>1400000US06037271600</td>\n",
       "      <td>[-118.4310805, 34.0213795]</td>\n",
       "      <td>Mar Vista</td>\n",
       "      <td>Social Connectedness</td>\n",
       "      <td>Acres_of_Parks_Per_1,000_People_2015_1400000US...</td>\n",
       "      <td>Census Tract 2716, Los Angeles County, California</td>\n",
       "      <td>271600</td>\n",
       "      <td>Acres of Parks Per 1,000 People</td>\n",
       "    </tr>\n",
       "    <tr>\n",
       "      <th>2</th>\n",
       "      <td>2015</td>\n",
       "      <td>0.6445143626731451</td>\n",
       "      <td>Parks Access</td>\n",
       "      <td>34.269881</td>\n",
       "      <td>-118.455282</td>\n",
       "      <td>2015-01-01T00:00:00.000</td>\n",
       "      <td>1400000US06037109400</td>\n",
       "      <td>[-118.4552825, 34.269881]</td>\n",
       "      <td>Mission Hills</td>\n",
       "      <td>Social Connectedness</td>\n",
       "      <td>Acres_of_Parks_Per_1,000_People_2015_1400000US...</td>\n",
       "      <td>Census Tract 1094, Los Angeles County, California</td>\n",
       "      <td>109400</td>\n",
       "      <td>Acres of Parks Per 1,000 People</td>\n",
       "    </tr>\n",
       "    <tr>\n",
       "      <th>3</th>\n",
       "      <td>2015</td>\n",
       "      <td>0</td>\n",
       "      <td>Parks Access</td>\n",
       "      <td>34.070676</td>\n",
       "      <td>-118.007789</td>\n",
       "      <td>2015-01-01T00:00:00.000</td>\n",
       "      <td>1400000US06037433306</td>\n",
       "      <td>[-118.0077885, 34.0706755]</td>\n",
       "      <td>El Monte</td>\n",
       "      <td>Social Connectedness</td>\n",
       "      <td>Acres_of_Parks_Per_1,000_People_2015_1400000US...</td>\n",
       "      <td>Census Tract 4333.06, Los Angeles County, Cali...</td>\n",
       "      <td>433306</td>\n",
       "      <td>Acres of Parks Per 1,000 People</td>\n",
       "    </tr>\n",
       "    <tr>\n",
       "      <th>4</th>\n",
       "      <td>2015</td>\n",
       "      <td>1.987031611479213</td>\n",
       "      <td>Parks Access</td>\n",
       "      <td>33.924654</td>\n",
       "      <td>-118.233550</td>\n",
       "      <td>2015-01-01T00:00:00.000</td>\n",
       "      <td>1400000US06037540600</td>\n",
       "      <td>[-118.23355, 33.924654]</td>\n",
       "      <td>Willowbrook</td>\n",
       "      <td>Social Connectedness</td>\n",
       "      <td>Acres_of_Parks_Per_1,000_People_2015_1400000US...</td>\n",
       "      <td>Census Tract 5406, Los Angeles County, California</td>\n",
       "      <td>540600</td>\n",
       "      <td>Acres of Parks Per 1,000 People</td>\n",
       "    </tr>\n",
       "    <tr>\n",
       "      <th>5</th>\n",
       "      <td>2015</td>\n",
       "      <td>1.752213304804469</td>\n",
       "      <td>Parks Access</td>\n",
       "      <td>34.195881</td>\n",
       "      <td>-118.335306</td>\n",
       "      <td>2015-01-01T00:00:00.000</td>\n",
       "      <td>1400000US06037310501</td>\n",
       "      <td>[-118.335306, 34.195881]</td>\n",
       "      <td>Burbank</td>\n",
       "      <td>Social Connectedness</td>\n",
       "      <td>Acres_of_Parks_Per_1,000_People_2015_1400000US...</td>\n",
       "      <td>Census Tract 3105.01, Los Angeles County, Cali...</td>\n",
       "      <td>310501</td>\n",
       "      <td>Acres of Parks Per 1,000 People</td>\n",
       "    </tr>\n",
       "    <tr>\n",
       "      <th>6</th>\n",
       "      <td>2015</td>\n",
       "      <td>17.82736889329126</td>\n",
       "      <td>Parks Access</td>\n",
       "      <td>33.974204</td>\n",
       "      <td>-118.208089</td>\n",
       "      <td>2015-01-01T00:00:00.000</td>\n",
       "      <td>1400000US06037533203</td>\n",
       "      <td>[-118.2080885, 33.9742045]</td>\n",
       "      <td>Huntington Park</td>\n",
       "      <td>Social Connectedness</td>\n",
       "      <td>Acres_of_Parks_Per_1,000_People_2015_1400000US...</td>\n",
       "      <td>Census Tract 5332.03, Los Angeles County, Cali...</td>\n",
       "      <td>533203</td>\n",
       "      <td>Acres of Parks Per 1,000 People</td>\n",
       "    </tr>\n",
       "    <tr>\n",
       "      <th>7</th>\n",
       "      <td>2015</td>\n",
       "      <td>0</td>\n",
       "      <td>Parks Access</td>\n",
       "      <td>33.931908</td>\n",
       "      <td>-118.027041</td>\n",
       "      <td>2015-01-01T00:00:00.000</td>\n",
       "      <td>1400000US06037503201</td>\n",
       "      <td>[-118.0270415, 33.9319075]</td>\n",
       "      <td>South Whittier</td>\n",
       "      <td>Social Connectedness</td>\n",
       "      <td>Acres_of_Parks_Per_1,000_People_2015_1400000US...</td>\n",
       "      <td>Census Tract 5032.01, Los Angeles County, Cali...</td>\n",
       "      <td>503201</td>\n",
       "      <td>Acres of Parks Per 1,000 People</td>\n",
       "    </tr>\n",
       "    <tr>\n",
       "      <th>8</th>\n",
       "      <td>2015</td>\n",
       "      <td>0</td>\n",
       "      <td>Parks Access</td>\n",
       "      <td>33.929254</td>\n",
       "      <td>-118.267186</td>\n",
       "      <td>2015-01-01T00:00:00.000</td>\n",
       "      <td>1400000US06037241001</td>\n",
       "      <td>[-118.2671865, 33.929254]</td>\n",
       "      <td>Green Meadows</td>\n",
       "      <td>Social Connectedness</td>\n",
       "      <td>Acres_of_Parks_Per_1,000_People_2015_1400000US...</td>\n",
       "      <td>Census Tract 2410.01, Los Angeles County, Cali...</td>\n",
       "      <td>241001</td>\n",
       "      <td>Acres of Parks Per 1,000 People</td>\n",
       "    </tr>\n",
       "    <tr>\n",
       "      <th>9</th>\n",
       "      <td>2015</td>\n",
       "      <td>0</td>\n",
       "      <td>Parks Access</td>\n",
       "      <td>34.051401</td>\n",
       "      <td>-118.014185</td>\n",
       "      <td>2015-01-01T00:00:00.000</td>\n",
       "      <td>1400000US06037434001</td>\n",
       "      <td>[-118.014185, 34.051401]</td>\n",
       "      <td>El Monte</td>\n",
       "      <td>Social Connectedness</td>\n",
       "      <td>Acres_of_Parks_Per_1,000_People_2015_1400000US...</td>\n",
       "      <td>Census Tract 4340.01, Los Angeles County, Cali...</td>\n",
       "      <td>434001</td>\n",
       "      <td>Acres of Parks Per 1,000 People</td>\n",
       "    </tr>\n",
       "    <tr>\n",
       "      <th>10</th>\n",
       "      <td>2015</td>\n",
       "      <td>0</td>\n",
       "      <td>Parks Access</td>\n",
       "      <td>33.829768</td>\n",
       "      <td>-118.270758</td>\n",
       "      <td>2015-01-01T00:00:00.000</td>\n",
       "      <td>1400000US06037543802</td>\n",
       "      <td>[-118.270758, 33.829768]</td>\n",
       "      <td>Carson</td>\n",
       "      <td>Social Connectedness</td>\n",
       "      <td>Acres_of_Parks_Per_1,000_People_2015_1400000US...</td>\n",
       "      <td>Census Tract 5438.02, Los Angeles County, Cali...</td>\n",
       "      <td>543802</td>\n",
       "      <td>Acres of Parks Per 1,000 People</td>\n",
       "    </tr>\n",
       "    <tr>\n",
       "      <th>11</th>\n",
       "      <td>2015</td>\n",
       "      <td>0</td>\n",
       "      <td>Parks Access</td>\n",
       "      <td>34.073789</td>\n",
       "      <td>-118.139436</td>\n",
       "      <td>2015-01-01T00:00:00.000</td>\n",
       "      <td>1400000US06037480903</td>\n",
       "      <td>[-118.139436, 34.0737895]</td>\n",
       "      <td>Alhambra</td>\n",
       "      <td>Social Connectedness</td>\n",
       "      <td>Acres_of_Parks_Per_1,000_People_2015_1400000US...</td>\n",
       "      <td>Census Tract 4809.03, Los Angeles County, Cali...</td>\n",
       "      <td>480903</td>\n",
       "      <td>Acres of Parks Per 1,000 People</td>\n",
       "    </tr>\n",
       "    <tr>\n",
       "      <th>12</th>\n",
       "      <td>2015</td>\n",
       "      <td>0</td>\n",
       "      <td>Parks Access</td>\n",
       "      <td>34.072580</td>\n",
       "      <td>-118.365913</td>\n",
       "      <td>2015-01-01T00:00:00.000</td>\n",
       "      <td>1400000US06037214600</td>\n",
       "      <td>[-118.365913, 34.0725795]</td>\n",
       "      <td>Beverly Grove</td>\n",
       "      <td>Social Connectedness</td>\n",
       "      <td>Acres_of_Parks_Per_1,000_People_2015_1400000US...</td>\n",
       "      <td>Census Tract 2146, Los Angeles County, California</td>\n",
       "      <td>214600</td>\n",
       "      <td>Acres of Parks Per 1,000 People</td>\n",
       "    </tr>\n",
       "    <tr>\n",
       "      <th>13</th>\n",
       "      <td>2015</td>\n",
       "      <td>0.065789509187055</td>\n",
       "      <td>Parks Access</td>\n",
       "      <td>34.144427</td>\n",
       "      <td>-118.263652</td>\n",
       "      <td>2015-01-01T00:00:00.000</td>\n",
       "      <td>1400000US06037302301</td>\n",
       "      <td>[-118.263652, 34.1444275]</td>\n",
       "      <td>Glendale</td>\n",
       "      <td>Social Connectedness</td>\n",
       "      <td>Acres_of_Parks_Per_1,000_People_2015_1400000US...</td>\n",
       "      <td>Census Tract 3023.01, Los Angeles County, Cali...</td>\n",
       "      <td>302301</td>\n",
       "      <td>Acres of Parks Per 1,000 People</td>\n",
       "    </tr>\n",
       "    <tr>\n",
       "      <th>14</th>\n",
       "      <td>2015</td>\n",
       "      <td>6.013202308373737</td>\n",
       "      <td>Parks Access</td>\n",
       "      <td>33.980900</td>\n",
       "      <td>-118.049611</td>\n",
       "      <td>2015-01-01T00:00:00.000</td>\n",
       "      <td>1400000US06037501400</td>\n",
       "      <td>[-118.0496115, 33.9809005]</td>\n",
       "      <td>Whittier</td>\n",
       "      <td>Social Connectedness</td>\n",
       "      <td>Acres_of_Parks_Per_1,000_People_2015_1400000US...</td>\n",
       "      <td>Census Tract 5014, Los Angeles County, California</td>\n",
       "      <td>501400</td>\n",
       "      <td>Acres of Parks Per 1,000 People</td>\n",
       "    </tr>\n",
       "    <tr>\n",
       "      <th>15</th>\n",
       "      <td>2015</td>\n",
       "      <td>0.1208211499487959</td>\n",
       "      <td>Parks Access</td>\n",
       "      <td>34.121669</td>\n",
       "      <td>-118.209149</td>\n",
       "      <td>2015-01-01T00:00:00.000</td>\n",
       "      <td>1400000US06037183401</td>\n",
       "      <td>[-118.209149, 34.121669]</td>\n",
       "      <td>Highland Park</td>\n",
       "      <td>Social Connectedness</td>\n",
       "      <td>Acres_of_Parks_Per_1,000_People_2015_1400000US...</td>\n",
       "      <td>Census Tract 1834.01, Los Angeles County, Cali...</td>\n",
       "      <td>183401</td>\n",
       "      <td>Acres of Parks Per 1,000 People</td>\n",
       "    </tr>\n",
       "    <tr>\n",
       "      <th>16</th>\n",
       "      <td>2015</td>\n",
       "      <td>1.157761943486816</td>\n",
       "      <td>Parks Access</td>\n",
       "      <td>34.163408</td>\n",
       "      <td>-118.126389</td>\n",
       "      <td>2015-01-01T00:00:00.000</td>\n",
       "      <td>1400000US06037462400</td>\n",
       "      <td>[-118.1263885, 34.163408]</td>\n",
       "      <td>Pasadena</td>\n",
       "      <td>Social Connectedness</td>\n",
       "      <td>Acres_of_Parks_Per_1,000_People_2015_1400000US...</td>\n",
       "      <td>Census Tract 4624, Los Angeles County, California</td>\n",
       "      <td>462400</td>\n",
       "      <td>Acres of Parks Per 1,000 People</td>\n",
       "    </tr>\n",
       "    <tr>\n",
       "      <th>17</th>\n",
       "      <td>2015</td>\n",
       "      <td>0</td>\n",
       "      <td>Parks Access</td>\n",
       "      <td>34.233767</td>\n",
       "      <td>-118.429943</td>\n",
       "      <td>2015-01-01T00:00:00.000</td>\n",
       "      <td>1400000US06037119800</td>\n",
       "      <td>[-118.429943, 34.2337665]</td>\n",
       "      <td>Arleta</td>\n",
       "      <td>Social Connectedness</td>\n",
       "      <td>Acres_of_Parks_Per_1,000_People_2015_1400000US...</td>\n",
       "      <td>Census Tract 1198, Los Angeles County, California</td>\n",
       "      <td>119800</td>\n",
       "      <td>Acres of Parks Per 1,000 People</td>\n",
       "    </tr>\n",
       "    <tr>\n",
       "      <th>18</th>\n",
       "      <td>2015</td>\n",
       "      <td>1.915739598624639</td>\n",
       "      <td>Parks Access</td>\n",
       "      <td>33.871521</td>\n",
       "      <td>-118.155610</td>\n",
       "      <td>2015-01-01T00:00:00.000</td>\n",
       "      <td>1400000US06037570204</td>\n",
       "      <td>[-118.15561, 33.871521]</td>\n",
       "      <td>Long Beach</td>\n",
       "      <td>Social Connectedness</td>\n",
       "      <td>Acres_of_Parks_Per_1,000_People_2015_1400000US...</td>\n",
       "      <td>Census Tract 5702.04, Los Angeles County, Cali...</td>\n",
       "      <td>570204</td>\n",
       "      <td>Acres of Parks Per 1,000 People</td>\n",
       "    </tr>\n",
       "    <tr>\n",
       "      <th>19</th>\n",
       "      <td>2015</td>\n",
       "      <td>0</td>\n",
       "      <td>Parks Access</td>\n",
       "      <td>34.103307</td>\n",
       "      <td>-117.912165</td>\n",
       "      <td>2015-01-01T00:00:00.000</td>\n",
       "      <td>1400000US06037405800</td>\n",
       "      <td>[-117.9121645, 34.103307]</td>\n",
       "      <td>Covina</td>\n",
       "      <td>Social Connectedness</td>\n",
       "      <td>Acres_of_Parks_Per_1,000_People_2015_1400000US...</td>\n",
       "      <td>Census Tract 4058, Los Angeles County, California</td>\n",
       "      <td>405800</td>\n",
       "      <td>Acres of Parks Per 1,000 People</td>\n",
       "    </tr>\n",
       "    <tr>\n",
       "      <th>20</th>\n",
       "      <td>2015</td>\n",
       "      <td>0</td>\n",
       "      <td>Parks Access</td>\n",
       "      <td>34.071925</td>\n",
       "      <td>-117.983875</td>\n",
       "      <td>2015-01-01T00:00:00.000</td>\n",
       "      <td>1400000US06037404702</td>\n",
       "      <td>[-117.9838755, 34.0719255]</td>\n",
       "      <td>Baldwin Park</td>\n",
       "      <td>Social Connectedness</td>\n",
       "      <td>Acres_of_Parks_Per_1,000_People_2015_1400000US...</td>\n",
       "      <td>Census Tract 4047.02, Los Angeles County, Cali...</td>\n",
       "      <td>404702</td>\n",
       "      <td>Acres of Parks Per 1,000 People</td>\n",
       "    </tr>\n",
       "    <tr>\n",
       "      <th>21</th>\n",
       "      <td>2015</td>\n",
       "      <td>69.8873114752882</td>\n",
       "      <td>Parks Access</td>\n",
       "      <td>34.009386</td>\n",
       "      <td>-118.367527</td>\n",
       "      <td>2015-01-01T00:00:00.000</td>\n",
       "      <td>1400000US06037236000</td>\n",
       "      <td>[-118.367527, 34.009386]</td>\n",
       "      <td>Ladera Heights</td>\n",
       "      <td>Social Connectedness</td>\n",
       "      <td>Acres_of_Parks_Per_1,000_People_2015_1400000US...</td>\n",
       "      <td>Census Tract 2360, Los Angeles County, California</td>\n",
       "      <td>236000</td>\n",
       "      <td>Acres of Parks Per 1,000 People</td>\n",
       "    </tr>\n",
       "    <tr>\n",
       "      <th>22</th>\n",
       "      <td>2015</td>\n",
       "      <td>0</td>\n",
       "      <td>Parks Access</td>\n",
       "      <td>34.234694</td>\n",
       "      <td>-118.582668</td>\n",
       "      <td>2015-01-01T00:00:00.000</td>\n",
       "      <td>1400000US06037113421</td>\n",
       "      <td>[-118.5826685, 34.234694]</td>\n",
       "      <td>Winnetka</td>\n",
       "      <td>Social Connectedness</td>\n",
       "      <td>Acres_of_Parks_Per_1,000_People_2015_1400000US...</td>\n",
       "      <td>Census Tract 1134.21, Los Angeles County, Cali...</td>\n",
       "      <td>113421</td>\n",
       "      <td>Acres of Parks Per 1,000 People</td>\n",
       "    </tr>\n",
       "    <tr>\n",
       "      <th>23</th>\n",
       "      <td>2015</td>\n",
       "      <td>7.698791204482059</td>\n",
       "      <td>Parks Access</td>\n",
       "      <td>33.957535</td>\n",
       "      <td>-117.975981</td>\n",
       "      <td>2015-01-01T00:00:00.000</td>\n",
       "      <td>1400000US06037500201</td>\n",
       "      <td>[-117.9759805, 33.957535]</td>\n",
       "      <td>La Habra Heights</td>\n",
       "      <td>Social Connectedness</td>\n",
       "      <td>Acres_of_Parks_Per_1,000_People_2015_1400000US...</td>\n",
       "      <td>Census Tract 5002.01, Los Angeles County, Cali...</td>\n",
       "      <td>500201</td>\n",
       "      <td>Acres of Parks Per 1,000 People</td>\n",
       "    </tr>\n",
       "    <tr>\n",
       "      <th>24</th>\n",
       "      <td>2015</td>\n",
       "      <td>0</td>\n",
       "      <td>Parks Access</td>\n",
       "      <td>33.953722</td>\n",
       "      <td>-118.235928</td>\n",
       "      <td>2015-01-01T00:00:00.000</td>\n",
       "      <td>1400000US06037535400</td>\n",
       "      <td>[-118.2359285, 33.9537225]</td>\n",
       "      <td>Florence-Firestone</td>\n",
       "      <td>Social Connectedness</td>\n",
       "      <td>Acres_of_Parks_Per_1,000_People_2015_1400000US...</td>\n",
       "      <td>Census Tract 5354, Los Angeles County, California</td>\n",
       "      <td>535400</td>\n",
       "      <td>Acres of Parks Per 1,000 People</td>\n",
       "    </tr>\n",
       "    <tr>\n",
       "      <th>25</th>\n",
       "      <td>2015</td>\n",
       "      <td>3.80493203989982</td>\n",
       "      <td>Parks Access</td>\n",
       "      <td>33.900081</td>\n",
       "      <td>-118.151439</td>\n",
       "      <td>2015-01-01T00:00:00.000</td>\n",
       "      <td>1400000US06037553502</td>\n",
       "      <td>[-118.151439, 33.9000805]</td>\n",
       "      <td>Paramount</td>\n",
       "      <td>Social Connectedness</td>\n",
       "      <td>Acres_of_Parks_Per_1,000_People_2015_1400000US...</td>\n",
       "      <td>Census Tract 5535.02, Los Angeles County, Cali...</td>\n",
       "      <td>553502</td>\n",
       "      <td>Acres of Parks Per 1,000 People</td>\n",
       "    </tr>\n",
       "    <tr>\n",
       "      <th>26</th>\n",
       "      <td>2015</td>\n",
       "      <td>0.4433849754689084</td>\n",
       "      <td>Parks Access</td>\n",
       "      <td>34.081514</td>\n",
       "      <td>-118.251766</td>\n",
       "      <td>2015-01-01T00:00:00.000</td>\n",
       "      <td>1400000US06037197300</td>\n",
       "      <td>[-118.2517655, 34.0815145]</td>\n",
       "      <td>Echo Park</td>\n",
       "      <td>Social Connectedness</td>\n",
       "      <td>Acres_of_Parks_Per_1,000_People_2015_1400000US...</td>\n",
       "      <td>Census Tract 1973, Los Angeles County, California</td>\n",
       "      <td>197300</td>\n",
       "      <td>Acres of Parks Per 1,000 People</td>\n",
       "    </tr>\n",
       "    <tr>\n",
       "      <th>27</th>\n",
       "      <td>2015</td>\n",
       "      <td>1.226654712939115</td>\n",
       "      <td>Parks Access</td>\n",
       "      <td>34.012081</td>\n",
       "      <td>-118.132457</td>\n",
       "      <td>2015-01-01T00:00:00.000</td>\n",
       "      <td>1400000US06037531902</td>\n",
       "      <td>[-118.1324565, 34.0120805]</td>\n",
       "      <td>East Los Angeles</td>\n",
       "      <td>Social Connectedness</td>\n",
       "      <td>Acres_of_Parks_Per_1,000_People_2015_1400000US...</td>\n",
       "      <td>Census Tract 5319.02, Los Angeles County, Cali...</td>\n",
       "      <td>531902</td>\n",
       "      <td>Acres of Parks Per 1,000 People</td>\n",
       "    </tr>\n",
       "    <tr>\n",
       "      <th>28</th>\n",
       "      <td>2015</td>\n",
       "      <td>0</td>\n",
       "      <td>Parks Access</td>\n",
       "      <td>34.052917</td>\n",
       "      <td>-117.815750</td>\n",
       "      <td>2015-01-01T00:00:00.000</td>\n",
       "      <td>1400000US06037402404</td>\n",
       "      <td>[-117.81575, 34.052917]</td>\n",
       "      <td>Pomona</td>\n",
       "      <td>Social Connectedness</td>\n",
       "      <td>Acres_of_Parks_Per_1,000_People_2015_1400000US...</td>\n",
       "      <td>Census Tract 4024.04, Los Angeles County, Cali...</td>\n",
       "      <td>402404</td>\n",
       "      <td>Acres of Parks Per 1,000 People</td>\n",
       "    </tr>\n",
       "    <tr>\n",
       "      <th>29</th>\n",
       "      <td>2015</td>\n",
       "      <td>3.712702794165304</td>\n",
       "      <td>Parks Access</td>\n",
       "      <td>34.143853</td>\n",
       "      <td>-118.370324</td>\n",
       "      <td>2015-01-01T00:00:00.000</td>\n",
       "      <td>1400000US06037143603</td>\n",
       "      <td>[-118.3703245, 34.1438535]</td>\n",
       "      <td>Studio City</td>\n",
       "      <td>Social Connectedness</td>\n",
       "      <td>Acres_of_Parks_Per_1,000_People_2015_1400000US...</td>\n",
       "      <td>Census Tract 1436.03, Los Angeles County, Cali...</td>\n",
       "      <td>143603</td>\n",
       "      <td>Acres of Parks Per 1,000 People</td>\n",
       "    </tr>\n",
       "    <tr>\n",
       "      <th>...</th>\n",
       "      <td>...</td>\n",
       "      <td>...</td>\n",
       "      <td>...</td>\n",
       "      <td>...</td>\n",
       "      <td>...</td>\n",
       "      <td>...</td>\n",
       "      <td>...</td>\n",
       "      <td>...</td>\n",
       "      <td>...</td>\n",
       "      <td>...</td>\n",
       "      <td>...</td>\n",
       "      <td>...</td>\n",
       "      <td>...</td>\n",
       "      <td>...</td>\n",
       "    </tr>\n",
       "    <tr>\n",
       "      <th>968</th>\n",
       "      <td>2015</td>\n",
       "      <td>13.83874702975522</td>\n",
       "      <td>Parks Access</td>\n",
       "      <td>33.982599</td>\n",
       "      <td>-117.942460</td>\n",
       "      <td>2015-01-01T00:00:00.000</td>\n",
       "      <td>1400000US06037408628</td>\n",
       "      <td>[-117.9424605, 33.9825995]</td>\n",
       "      <td>Hacienda Heights</td>\n",
       "      <td>Social Connectedness</td>\n",
       "      <td>Acres_of_Parks_Per_1,000_People_2015_1400000US...</td>\n",
       "      <td>Census Tract 4086.28, Los Angeles County, Cali...</td>\n",
       "      <td>408628</td>\n",
       "      <td>Acres of Parks Per 1,000 People</td>\n",
       "    </tr>\n",
       "    <tr>\n",
       "      <th>969</th>\n",
       "      <td>2015</td>\n",
       "      <td>0</td>\n",
       "      <td>Parks Access</td>\n",
       "      <td>34.045246</td>\n",
       "      <td>-117.916803</td>\n",
       "      <td>2015-01-01T00:00:00.000</td>\n",
       "      <td>1400000US06037408003</td>\n",
       "      <td>[-117.9168025, 34.0452465]</td>\n",
       "      <td>West Covina</td>\n",
       "      <td>Social Connectedness</td>\n",
       "      <td>Acres_of_Parks_Per_1,000_People_2015_1400000US...</td>\n",
       "      <td>Census Tract 4080.03, Los Angeles County, Cali...</td>\n",
       "      <td>408003</td>\n",
       "      <td>Acres of Parks Per 1,000 People</td>\n",
       "    </tr>\n",
       "    <tr>\n",
       "      <th>970</th>\n",
       "      <td>2015</td>\n",
       "      <td>0</td>\n",
       "      <td>Parks Access</td>\n",
       "      <td>34.052431</td>\n",
       "      <td>-118.253282</td>\n",
       "      <td>2015-01-01T00:00:00.000</td>\n",
       "      <td>1400000US06037207502</td>\n",
       "      <td>[-118.253282, 34.0524315]</td>\n",
       "      <td>Downtown</td>\n",
       "      <td>Social Connectedness</td>\n",
       "      <td>Acres_of_Parks_Per_1,000_People_2015_1400000US...</td>\n",
       "      <td>Census Tract 2075.02, Los Angeles County, Cali...</td>\n",
       "      <td>207502</td>\n",
       "      <td>Acres of Parks Per 1,000 People</td>\n",
       "    </tr>\n",
       "    <tr>\n",
       "      <th>971</th>\n",
       "      <td>2015</td>\n",
       "      <td>0</td>\n",
       "      <td>Parks Access</td>\n",
       "      <td>33.976373</td>\n",
       "      <td>-118.109921</td>\n",
       "      <td>2015-01-01T00:00:00.000</td>\n",
       "      <td>1400000US06037502500</td>\n",
       "      <td>[-118.1099205, 33.976373]</td>\n",
       "      <td>Pico Rivera</td>\n",
       "      <td>Social Connectedness</td>\n",
       "      <td>Acres_of_Parks_Per_1,000_People_2015_1400000US...</td>\n",
       "      <td>Census Tract 5025, Los Angeles County, California</td>\n",
       "      <td>502500</td>\n",
       "      <td>Acres of Parks Per 1,000 People</td>\n",
       "    </tr>\n",
       "    <tr>\n",
       "      <th>972</th>\n",
       "      <td>2015</td>\n",
       "      <td>0</td>\n",
       "      <td>Parks Access</td>\n",
       "      <td>34.192060</td>\n",
       "      <td>-118.514210</td>\n",
       "      <td>2015-01-01T00:00:00.000</td>\n",
       "      <td>1400000US06037132001</td>\n",
       "      <td>[-118.5142095, 34.1920605]</td>\n",
       "      <td>Lake Balboa</td>\n",
       "      <td>Social Connectedness</td>\n",
       "      <td>Acres_of_Parks_Per_1,000_People_2015_1400000US...</td>\n",
       "      <td>Census Tract 1320.01, Los Angeles County, Cali...</td>\n",
       "      <td>132001</td>\n",
       "      <td>Acres of Parks Per 1,000 People</td>\n",
       "    </tr>\n",
       "    <tr>\n",
       "      <th>973</th>\n",
       "      <td>2015</td>\n",
       "      <td>0</td>\n",
       "      <td>Parks Access</td>\n",
       "      <td>34.255510</td>\n",
       "      <td>-118.425748</td>\n",
       "      <td>2015-01-01T00:00:00.000</td>\n",
       "      <td>1400000US06037104500</td>\n",
       "      <td>[-118.4257485, 34.25551]</td>\n",
       "      <td>Pacoima</td>\n",
       "      <td>Social Connectedness</td>\n",
       "      <td>Acres_of_Parks_Per_1,000_People_2015_1400000US...</td>\n",
       "      <td>Census Tract 1045, Los Angeles County, California</td>\n",
       "      <td>104500</td>\n",
       "      <td>Acres of Parks Per 1,000 People</td>\n",
       "    </tr>\n",
       "    <tr>\n",
       "      <th>974</th>\n",
       "      <td>2015</td>\n",
       "      <td>0.2914464245568674</td>\n",
       "      <td>Parks Access</td>\n",
       "      <td>34.099232</td>\n",
       "      <td>-118.342120</td>\n",
       "      <td>2015-01-01T00:00:00.000</td>\n",
       "      <td>1400000US06037190100</td>\n",
       "      <td>[-118.3421205, 34.0992315]</td>\n",
       "      <td>Hollywood</td>\n",
       "      <td>Social Connectedness</td>\n",
       "      <td>Acres_of_Parks_Per_1,000_People_2015_1400000US...</td>\n",
       "      <td>Census Tract 1901, Los Angeles County, California</td>\n",
       "      <td>190100</td>\n",
       "      <td>Acres of Parks Per 1,000 People</td>\n",
       "    </tr>\n",
       "    <tr>\n",
       "      <th>975</th>\n",
       "      <td>2015</td>\n",
       "      <td>1.973063065990431</td>\n",
       "      <td>Parks Access</td>\n",
       "      <td>34.048208</td>\n",
       "      <td>-118.371729</td>\n",
       "      <td>2015-01-01T00:00:00.000</td>\n",
       "      <td>1400000US06037216700</td>\n",
       "      <td>[-118.371729, 34.048208]</td>\n",
       "      <td>Mid-City</td>\n",
       "      <td>Social Connectedness</td>\n",
       "      <td>Acres_of_Parks_Per_1,000_People_2015_1400000US...</td>\n",
       "      <td>Census Tract 2167, Los Angeles County, California</td>\n",
       "      <td>216700</td>\n",
       "      <td>Acres of Parks Per 1,000 People</td>\n",
       "    </tr>\n",
       "    <tr>\n",
       "      <th>976</th>\n",
       "      <td>2015</td>\n",
       "      <td>0.60304582230694</td>\n",
       "      <td>Parks Access</td>\n",
       "      <td>34.067109</td>\n",
       "      <td>-118.112061</td>\n",
       "      <td>2015-01-01T00:00:00.000</td>\n",
       "      <td>1400000US06037481712</td>\n",
       "      <td>[-118.112061, 34.067109]</td>\n",
       "      <td>Monterey Park</td>\n",
       "      <td>Social Connectedness</td>\n",
       "      <td>Acres_of_Parks_Per_1,000_People_2015_1400000US...</td>\n",
       "      <td>Census Tract 4817.12, Los Angeles County, Cali...</td>\n",
       "      <td>481712</td>\n",
       "      <td>Acres of Parks Per 1,000 People</td>\n",
       "    </tr>\n",
       "    <tr>\n",
       "      <th>977</th>\n",
       "      <td>2015</td>\n",
       "      <td>0.9721596275223686</td>\n",
       "      <td>Parks Access</td>\n",
       "      <td>34.258277</td>\n",
       "      <td>-118.450367</td>\n",
       "      <td>2015-01-01T00:00:00.000</td>\n",
       "      <td>1400000US06037109601</td>\n",
       "      <td>[-118.450367, 34.2582765]</td>\n",
       "      <td>Mission Hills</td>\n",
       "      <td>Social Connectedness</td>\n",
       "      <td>Acres_of_Parks_Per_1,000_People_2015_1400000US...</td>\n",
       "      <td>Census Tract 1096.01, Los Angeles County, Cali...</td>\n",
       "      <td>109601</td>\n",
       "      <td>Acres of Parks Per 1,000 People</td>\n",
       "    </tr>\n",
       "    <tr>\n",
       "      <th>978</th>\n",
       "      <td>2015</td>\n",
       "      <td>18.31422042253963</td>\n",
       "      <td>Parks Access</td>\n",
       "      <td>34.100216</td>\n",
       "      <td>-118.243713</td>\n",
       "      <td>2015-01-01T00:00:00.000</td>\n",
       "      <td>1400000US06037187102</td>\n",
       "      <td>[-118.2437135, 34.100216]</td>\n",
       "      <td>Elysian Valley</td>\n",
       "      <td>Social Connectedness</td>\n",
       "      <td>Acres_of_Parks_Per_1,000_People_2015_1400000US...</td>\n",
       "      <td>Census Tract 1871.02, Los Angeles County, Cali...</td>\n",
       "      <td>187102</td>\n",
       "      <td>Acres of Parks Per 1,000 People</td>\n",
       "    </tr>\n",
       "    <tr>\n",
       "      <th>979</th>\n",
       "      <td>2015</td>\n",
       "      <td>6.051922811395239</td>\n",
       "      <td>Parks Access</td>\n",
       "      <td>34.030352</td>\n",
       "      <td>-117.842746</td>\n",
       "      <td>2015-01-01T00:00:00.000</td>\n",
       "      <td>1400000US06037403403</td>\n",
       "      <td>[-117.842746, 34.0303525]</td>\n",
       "      <td>Walnut</td>\n",
       "      <td>Social Connectedness</td>\n",
       "      <td>Acres_of_Parks_Per_1,000_People_2015_1400000US...</td>\n",
       "      <td>Census Tract 4034.03, Los Angeles County, Cali...</td>\n",
       "      <td>403403</td>\n",
       "      <td>Acres of Parks Per 1,000 People</td>\n",
       "    </tr>\n",
       "    <tr>\n",
       "      <th>980</th>\n",
       "      <td>2015</td>\n",
       "      <td>1.706832049312072</td>\n",
       "      <td>Parks Access</td>\n",
       "      <td>33.947814</td>\n",
       "      <td>-118.015929</td>\n",
       "      <td>2015-01-01T00:00:00.000</td>\n",
       "      <td>1400000US06037503301</td>\n",
       "      <td>[-118.0159295, 33.9478135]</td>\n",
       "      <td>Whittier</td>\n",
       "      <td>Social Connectedness</td>\n",
       "      <td>Acres_of_Parks_Per_1,000_People_2015_1400000US...</td>\n",
       "      <td>Census Tract 5033.01, Los Angeles County, Cali...</td>\n",
       "      <td>503301</td>\n",
       "      <td>Acres of Parks Per 1,000 People</td>\n",
       "    </tr>\n",
       "    <tr>\n",
       "      <th>981</th>\n",
       "      <td>2015</td>\n",
       "      <td>5.231332412617857</td>\n",
       "      <td>Parks Access</td>\n",
       "      <td>34.274557</td>\n",
       "      <td>-118.343902</td>\n",
       "      <td>2015-01-01T00:00:00.000</td>\n",
       "      <td>1400000US06037103200</td>\n",
       "      <td>[-118.3439025, 34.2745565]</td>\n",
       "      <td>Lake View Terrace</td>\n",
       "      <td>Social Connectedness</td>\n",
       "      <td>Acres_of_Parks_Per_1,000_People_2015_1400000US...</td>\n",
       "      <td>Census Tract 1032, Los Angeles County, California</td>\n",
       "      <td>103200</td>\n",
       "      <td>Acres of Parks Per 1,000 People</td>\n",
       "    </tr>\n",
       "    <tr>\n",
       "      <th>982</th>\n",
       "      <td>2015</td>\n",
       "      <td>3.016972759823472</td>\n",
       "      <td>Parks Access</td>\n",
       "      <td>33.885689</td>\n",
       "      <td>-118.126066</td>\n",
       "      <td>2015-01-01T00:00:00.000</td>\n",
       "      <td>1400000US06037554204</td>\n",
       "      <td>[-118.126066, 33.8856885]</td>\n",
       "      <td>Bellflower</td>\n",
       "      <td>Social Connectedness</td>\n",
       "      <td>Acres_of_Parks_Per_1,000_People_2015_1400000US...</td>\n",
       "      <td>Census Tract 5542.04, Los Angeles County, Cali...</td>\n",
       "      <td>554204</td>\n",
       "      <td>Acres of Parks Per 1,000 People</td>\n",
       "    </tr>\n",
       "    <tr>\n",
       "      <th>983</th>\n",
       "      <td>2015</td>\n",
       "      <td>0</td>\n",
       "      <td>Parks Access</td>\n",
       "      <td>33.909162</td>\n",
       "      <td>-118.273749</td>\n",
       "      <td>2015-01-01T00:00:00.000</td>\n",
       "      <td>1400000US06037540902</td>\n",
       "      <td>[-118.2737495, 33.9091615]</td>\n",
       "      <td>Willowbrook</td>\n",
       "      <td>Social Connectedness</td>\n",
       "      <td>Acres_of_Parks_Per_1,000_People_2015_1400000US...</td>\n",
       "      <td>Census Tract 5409.02, Los Angeles County, Cali...</td>\n",
       "      <td>540902</td>\n",
       "      <td>Acres of Parks Per 1,000 People</td>\n",
       "    </tr>\n",
       "    <tr>\n",
       "      <th>984</th>\n",
       "      <td>2015</td>\n",
       "      <td>2.546340103770498</td>\n",
       "      <td>Parks Access</td>\n",
       "      <td>34.084605</td>\n",
       "      <td>-118.348422</td>\n",
       "      <td>2015-01-01T00:00:00.000</td>\n",
       "      <td>1400000US06037192001</td>\n",
       "      <td>[-118.3484225, 34.084605]</td>\n",
       "      <td>Fairfax</td>\n",
       "      <td>Social Connectedness</td>\n",
       "      <td>Acres_of_Parks_Per_1,000_People_2015_1400000US...</td>\n",
       "      <td>Census Tract 1920.01, Los Angeles County, Cali...</td>\n",
       "      <td>192001</td>\n",
       "      <td>Acres of Parks Per 1,000 People</td>\n",
       "    </tr>\n",
       "    <tr>\n",
       "      <th>985</th>\n",
       "      <td>2015</td>\n",
       "      <td>3.687102355327469</td>\n",
       "      <td>Parks Access</td>\n",
       "      <td>33.962694</td>\n",
       "      <td>-118.444447</td>\n",
       "      <td>2015-01-01T00:00:00.000</td>\n",
       "      <td>1400000US06037278102</td>\n",
       "      <td>[-118.4444466, 33.96269392]</td>\n",
       "      <td>Playa del Rey</td>\n",
       "      <td>Social Connectedness</td>\n",
       "      <td>Acres_of_Parks_Per_1,000_People_2015_1400000US...</td>\n",
       "      <td>Census Tract 2781.02, Los Angeles County, Cali...</td>\n",
       "      <td>278102</td>\n",
       "      <td>Acres of Parks Per 1,000 People</td>\n",
       "    </tr>\n",
       "    <tr>\n",
       "      <th>986</th>\n",
       "      <td>2015</td>\n",
       "      <td>0</td>\n",
       "      <td>Parks Access</td>\n",
       "      <td>34.121613</td>\n",
       "      <td>-118.218649</td>\n",
       "      <td>2015-01-01T00:00:00.000</td>\n",
       "      <td>1400000US06037186201</td>\n",
       "      <td>[-118.2186485, 34.121613]</td>\n",
       "      <td>Eagle Rock</td>\n",
       "      <td>Social Connectedness</td>\n",
       "      <td>Acres_of_Parks_Per_1,000_People_2015_1400000US...</td>\n",
       "      <td>Census Tract 1862.01, Los Angeles County, Cali...</td>\n",
       "      <td>186201</td>\n",
       "      <td>Acres of Parks Per 1,000 People</td>\n",
       "    </tr>\n",
       "    <tr>\n",
       "      <th>987</th>\n",
       "      <td>2015</td>\n",
       "      <td>0</td>\n",
       "      <td>Parks Access</td>\n",
       "      <td>34.290512</td>\n",
       "      <td>-118.492891</td>\n",
       "      <td>2015-01-01T00:00:00.000</td>\n",
       "      <td>1400000US06037106645</td>\n",
       "      <td>[-118.4928915, 34.2905125]</td>\n",
       "      <td>Granada Hills</td>\n",
       "      <td>Social Connectedness</td>\n",
       "      <td>Acres_of_Parks_Per_1,000_People_2015_1400000US...</td>\n",
       "      <td>Census Tract 1066.45, Los Angeles County, Cali...</td>\n",
       "      <td>106645</td>\n",
       "      <td>Acres of Parks Per 1,000 People</td>\n",
       "    </tr>\n",
       "    <tr>\n",
       "      <th>988</th>\n",
       "      <td>2015</td>\n",
       "      <td>0</td>\n",
       "      <td>Parks Access</td>\n",
       "      <td>34.053061</td>\n",
       "      <td>-118.281509</td>\n",
       "      <td>2015-01-01T00:00:00.000</td>\n",
       "      <td>1400000US06037209510</td>\n",
       "      <td>[-118.281509, 34.0530605]</td>\n",
       "      <td>Westlake</td>\n",
       "      <td>Social Connectedness</td>\n",
       "      <td>Acres_of_Parks_Per_1,000_People_2015_1400000US...</td>\n",
       "      <td>Census Tract 2095.10, Los Angeles County, Cali...</td>\n",
       "      <td>209510</td>\n",
       "      <td>Acres of Parks Per 1,000 People</td>\n",
       "    </tr>\n",
       "    <tr>\n",
       "      <th>989</th>\n",
       "      <td>2015</td>\n",
       "      <td>0</td>\n",
       "      <td>Parks Access</td>\n",
       "      <td>33.842811</td>\n",
       "      <td>-118.283295</td>\n",
       "      <td>2015-01-01T00:00:00.000</td>\n",
       "      <td>1400000US06037543501</td>\n",
       "      <td>[-118.283295, 33.842811]</td>\n",
       "      <td>Carson</td>\n",
       "      <td>Social Connectedness</td>\n",
       "      <td>Acres_of_Parks_Per_1,000_People_2015_1400000US...</td>\n",
       "      <td>Census Tract 5435.01, Los Angeles County, Cali...</td>\n",
       "      <td>543501</td>\n",
       "      <td>Acres of Parks Per 1,000 People</td>\n",
       "    </tr>\n",
       "    <tr>\n",
       "      <th>990</th>\n",
       "      <td>2015</td>\n",
       "      <td>56.82780996462145</td>\n",
       "      <td>Parks Access</td>\n",
       "      <td>34.146927</td>\n",
       "      <td>-118.591403</td>\n",
       "      <td>2015-01-01T00:00:00.000</td>\n",
       "      <td>1400000US06037138000</td>\n",
       "      <td>[-118.5914025, 34.1469275]</td>\n",
       "      <td>Woodland Hills</td>\n",
       "      <td>Social Connectedness</td>\n",
       "      <td>Acres_of_Parks_Per_1,000_People_2015_1400000US...</td>\n",
       "      <td>Census Tract 1380, Los Angeles County, California</td>\n",
       "      <td>138000</td>\n",
       "      <td>Acres of Parks Per 1,000 People</td>\n",
       "    </tr>\n",
       "    <tr>\n",
       "      <th>991</th>\n",
       "      <td>2015</td>\n",
       "      <td>1.149223347846279</td>\n",
       "      <td>Parks Access</td>\n",
       "      <td>34.126938</td>\n",
       "      <td>-117.978573</td>\n",
       "      <td>2015-01-01T00:00:00.000</td>\n",
       "      <td>1400000US06037430102</td>\n",
       "      <td>[-117.978573, 34.126938]</td>\n",
       "      <td>Duarte</td>\n",
       "      <td>Social Connectedness</td>\n",
       "      <td>Acres_of_Parks_Per_1,000_People_2015_1400000US...</td>\n",
       "      <td>Census Tract 4301.02, Los Angeles County, Cali...</td>\n",
       "      <td>430102</td>\n",
       "      <td>Acres of Parks Per 1,000 People</td>\n",
       "    </tr>\n",
       "    <tr>\n",
       "      <th>992</th>\n",
       "      <td>2015</td>\n",
       "      <td>0</td>\n",
       "      <td>Parks Access</td>\n",
       "      <td>34.161172</td>\n",
       "      <td>-118.112295</td>\n",
       "      <td>2015-01-01T00:00:00.000</td>\n",
       "      <td>1400000US06037462600</td>\n",
       "      <td>[-118.112295, 34.1611715]</td>\n",
       "      <td>Pasadena</td>\n",
       "      <td>Social Connectedness</td>\n",
       "      <td>Acres_of_Parks_Per_1,000_People_2015_1400000US...</td>\n",
       "      <td>Census Tract 4626, Los Angeles County, California</td>\n",
       "      <td>462600</td>\n",
       "      <td>Acres of Parks Per 1,000 People</td>\n",
       "    </tr>\n",
       "    <tr>\n",
       "      <th>993</th>\n",
       "      <td>2015</td>\n",
       "      <td>1.469249689849638</td>\n",
       "      <td>Parks Access</td>\n",
       "      <td>34.077308</td>\n",
       "      <td>-118.045970</td>\n",
       "      <td>2015-01-01T00:00:00.000</td>\n",
       "      <td>1400000US06037432801</td>\n",
       "      <td>[-118.0459705, 34.077308]</td>\n",
       "      <td>El Monte</td>\n",
       "      <td>Social Connectedness</td>\n",
       "      <td>Acres_of_Parks_Per_1,000_People_2015_1400000US...</td>\n",
       "      <td>Census Tract 4328.01, Los Angeles County, Cali...</td>\n",
       "      <td>432801</td>\n",
       "      <td>Acres of Parks Per 1,000 People</td>\n",
       "    </tr>\n",
       "    <tr>\n",
       "      <th>994</th>\n",
       "      <td>2015</td>\n",
       "      <td>0</td>\n",
       "      <td>Parks Access</td>\n",
       "      <td>34.056258</td>\n",
       "      <td>-118.313612</td>\n",
       "      <td>2015-01-01T00:00:00.000</td>\n",
       "      <td>1400000US06037212620</td>\n",
       "      <td>[-118.313612, 34.0562585]</td>\n",
       "      <td>Koreatown</td>\n",
       "      <td>Social Connectedness</td>\n",
       "      <td>Acres_of_Parks_Per_1,000_People_2015_1400000US...</td>\n",
       "      <td>Census Tract 2126.20, Los Angeles County, Cali...</td>\n",
       "      <td>212620</td>\n",
       "      <td>Acres of Parks Per 1,000 People</td>\n",
       "    </tr>\n",
       "    <tr>\n",
       "      <th>995</th>\n",
       "      <td>2015</td>\n",
       "      <td>0</td>\n",
       "      <td>Parks Access</td>\n",
       "      <td>33.978544</td>\n",
       "      <td>-118.277320</td>\n",
       "      <td>2015-01-01T00:00:00.000</td>\n",
       "      <td>1400000US06037239310</td>\n",
       "      <td>[-118.27732, 33.9785445]</td>\n",
       "      <td>Florence</td>\n",
       "      <td>Social Connectedness</td>\n",
       "      <td>Acres_of_Parks_Per_1,000_People_2015_1400000US...</td>\n",
       "      <td>Census Tract 2393.10, Los Angeles County, Cali...</td>\n",
       "      <td>239310</td>\n",
       "      <td>Acres of Parks Per 1,000 People</td>\n",
       "    </tr>\n",
       "    <tr>\n",
       "      <th>996</th>\n",
       "      <td>2015</td>\n",
       "      <td>0</td>\n",
       "      <td>Parks Access</td>\n",
       "      <td>34.224796</td>\n",
       "      <td>-118.448485</td>\n",
       "      <td>2015-01-01T00:00:00.000</td>\n",
       "      <td>1400000US06037120104</td>\n",
       "      <td>[-118.4484845, 34.224796]</td>\n",
       "      <td>Panorama City</td>\n",
       "      <td>Social Connectedness</td>\n",
       "      <td>Acres_of_Parks_Per_1,000_People_2015_1400000US...</td>\n",
       "      <td>Census Tract 1201.04, Los Angeles County, Cali...</td>\n",
       "      <td>120104</td>\n",
       "      <td>Acres of Parks Per 1,000 People</td>\n",
       "    </tr>\n",
       "    <tr>\n",
       "      <th>997</th>\n",
       "      <td>2015</td>\n",
       "      <td>5.934781990915705</td>\n",
       "      <td>Parks Access</td>\n",
       "      <td>34.007893</td>\n",
       "      <td>-118.263681</td>\n",
       "      <td>2015-01-01T00:00:00.000</td>\n",
       "      <td>1400000US06037228320</td>\n",
       "      <td>[-118.263681, 34.007893]</td>\n",
       "      <td>Historic South-Central</td>\n",
       "      <td>Social Connectedness</td>\n",
       "      <td>Acres_of_Parks_Per_1,000_People_2015_1400000US...</td>\n",
       "      <td>Census Tract 2283.20, Los Angeles County, Cali...</td>\n",
       "      <td>228320</td>\n",
       "      <td>Acres of Parks Per 1,000 People</td>\n",
       "    </tr>\n",
       "  </tbody>\n",
       "</table>\n",
       "<p>998 rows × 14 columns</p>\n",
       "</div>"
      ],
      "text/plain": [
       "     year               count       dataset        lat         lng  \\\n",
       "0    2015  0.2307633501355139  Parks Access  34.049649 -118.381096   \n",
       "1    2015   4.212398007039556  Parks Access  34.021380 -118.431080   \n",
       "2    2015  0.6445143626731451  Parks Access  34.269881 -118.455282   \n",
       "3    2015                   0  Parks Access  34.070676 -118.007789   \n",
       "4    2015   1.987031611479213  Parks Access  33.924654 -118.233550   \n",
       "5    2015   1.752213304804469  Parks Access  34.195881 -118.335306   \n",
       "6    2015   17.82736889329126  Parks Access  33.974204 -118.208089   \n",
       "7    2015                   0  Parks Access  33.931908 -118.027041   \n",
       "8    2015                   0  Parks Access  33.929254 -118.267186   \n",
       "9    2015                   0  Parks Access  34.051401 -118.014185   \n",
       "10   2015                   0  Parks Access  33.829768 -118.270758   \n",
       "11   2015                   0  Parks Access  34.073789 -118.139436   \n",
       "12   2015                   0  Parks Access  34.072580 -118.365913   \n",
       "13   2015   0.065789509187055  Parks Access  34.144427 -118.263652   \n",
       "14   2015   6.013202308373737  Parks Access  33.980900 -118.049611   \n",
       "15   2015  0.1208211499487959  Parks Access  34.121669 -118.209149   \n",
       "16   2015   1.157761943486816  Parks Access  34.163408 -118.126389   \n",
       "17   2015                   0  Parks Access  34.233767 -118.429943   \n",
       "18   2015   1.915739598624639  Parks Access  33.871521 -118.155610   \n",
       "19   2015                   0  Parks Access  34.103307 -117.912165   \n",
       "20   2015                   0  Parks Access  34.071925 -117.983875   \n",
       "21   2015    69.8873114752882  Parks Access  34.009386 -118.367527   \n",
       "22   2015                   0  Parks Access  34.234694 -118.582668   \n",
       "23   2015   7.698791204482059  Parks Access  33.957535 -117.975981   \n",
       "24   2015                   0  Parks Access  33.953722 -118.235928   \n",
       "25   2015    3.80493203989982  Parks Access  33.900081 -118.151439   \n",
       "26   2015  0.4433849754689084  Parks Access  34.081514 -118.251766   \n",
       "27   2015   1.226654712939115  Parks Access  34.012081 -118.132457   \n",
       "28   2015                   0  Parks Access  34.052917 -117.815750   \n",
       "29   2015   3.712702794165304  Parks Access  34.143853 -118.370324   \n",
       "..    ...                 ...           ...        ...         ...   \n",
       "968  2015   13.83874702975522  Parks Access  33.982599 -117.942460   \n",
       "969  2015                   0  Parks Access  34.045246 -117.916803   \n",
       "970  2015                   0  Parks Access  34.052431 -118.253282   \n",
       "971  2015                   0  Parks Access  33.976373 -118.109921   \n",
       "972  2015                   0  Parks Access  34.192060 -118.514210   \n",
       "973  2015                   0  Parks Access  34.255510 -118.425748   \n",
       "974  2015  0.2914464245568674  Parks Access  34.099232 -118.342120   \n",
       "975  2015   1.973063065990431  Parks Access  34.048208 -118.371729   \n",
       "976  2015    0.60304582230694  Parks Access  34.067109 -118.112061   \n",
       "977  2015  0.9721596275223686  Parks Access  34.258277 -118.450367   \n",
       "978  2015   18.31422042253963  Parks Access  34.100216 -118.243713   \n",
       "979  2015   6.051922811395239  Parks Access  34.030352 -117.842746   \n",
       "980  2015   1.706832049312072  Parks Access  33.947814 -118.015929   \n",
       "981  2015   5.231332412617857  Parks Access  34.274557 -118.343902   \n",
       "982  2015   3.016972759823472  Parks Access  33.885689 -118.126066   \n",
       "983  2015                   0  Parks Access  33.909162 -118.273749   \n",
       "984  2015   2.546340103770498  Parks Access  34.084605 -118.348422   \n",
       "985  2015   3.687102355327469  Parks Access  33.962694 -118.444447   \n",
       "986  2015                   0  Parks Access  34.121613 -118.218649   \n",
       "987  2015                   0  Parks Access  34.290512 -118.492891   \n",
       "988  2015                   0  Parks Access  34.053061 -118.281509   \n",
       "989  2015                   0  Parks Access  33.842811 -118.283295   \n",
       "990  2015   56.82780996462145  Parks Access  34.146927 -118.591403   \n",
       "991  2015   1.149223347846279  Parks Access  34.126938 -117.978573   \n",
       "992  2015                   0  Parks Access  34.161172 -118.112295   \n",
       "993  2015   1.469249689849638  Parks Access  34.077308 -118.045970   \n",
       "994  2015                   0  Parks Access  34.056258 -118.313612   \n",
       "995  2015                   0  Parks Access  33.978544 -118.277320   \n",
       "996  2015                   0  Parks Access  34.224796 -118.448485   \n",
       "997  2015   5.934781990915705  Parks Access  34.007893 -118.263681   \n",
       "\n",
       "                        date                 geoid  \\\n",
       "0    2015-01-01T00:00:00.000  1400000US06037217002   \n",
       "1    2015-01-01T00:00:00.000  1400000US06037271600   \n",
       "2    2015-01-01T00:00:00.000  1400000US06037109400   \n",
       "3    2015-01-01T00:00:00.000  1400000US06037433306   \n",
       "4    2015-01-01T00:00:00.000  1400000US06037540600   \n",
       "5    2015-01-01T00:00:00.000  1400000US06037310501   \n",
       "6    2015-01-01T00:00:00.000  1400000US06037533203   \n",
       "7    2015-01-01T00:00:00.000  1400000US06037503201   \n",
       "8    2015-01-01T00:00:00.000  1400000US06037241001   \n",
       "9    2015-01-01T00:00:00.000  1400000US06037434001   \n",
       "10   2015-01-01T00:00:00.000  1400000US06037543802   \n",
       "11   2015-01-01T00:00:00.000  1400000US06037480903   \n",
       "12   2015-01-01T00:00:00.000  1400000US06037214600   \n",
       "13   2015-01-01T00:00:00.000  1400000US06037302301   \n",
       "14   2015-01-01T00:00:00.000  1400000US06037501400   \n",
       "15   2015-01-01T00:00:00.000  1400000US06037183401   \n",
       "16   2015-01-01T00:00:00.000  1400000US06037462400   \n",
       "17   2015-01-01T00:00:00.000  1400000US06037119800   \n",
       "18   2015-01-01T00:00:00.000  1400000US06037570204   \n",
       "19   2015-01-01T00:00:00.000  1400000US06037405800   \n",
       "20   2015-01-01T00:00:00.000  1400000US06037404702   \n",
       "21   2015-01-01T00:00:00.000  1400000US06037236000   \n",
       "22   2015-01-01T00:00:00.000  1400000US06037113421   \n",
       "23   2015-01-01T00:00:00.000  1400000US06037500201   \n",
       "24   2015-01-01T00:00:00.000  1400000US06037535400   \n",
       "25   2015-01-01T00:00:00.000  1400000US06037553502   \n",
       "26   2015-01-01T00:00:00.000  1400000US06037197300   \n",
       "27   2015-01-01T00:00:00.000  1400000US06037531902   \n",
       "28   2015-01-01T00:00:00.000  1400000US06037402404   \n",
       "29   2015-01-01T00:00:00.000  1400000US06037143603   \n",
       "..                       ...                   ...   \n",
       "968  2015-01-01T00:00:00.000  1400000US06037408628   \n",
       "969  2015-01-01T00:00:00.000  1400000US06037408003   \n",
       "970  2015-01-01T00:00:00.000  1400000US06037207502   \n",
       "971  2015-01-01T00:00:00.000  1400000US06037502500   \n",
       "972  2015-01-01T00:00:00.000  1400000US06037132001   \n",
       "973  2015-01-01T00:00:00.000  1400000US06037104500   \n",
       "974  2015-01-01T00:00:00.000  1400000US06037190100   \n",
       "975  2015-01-01T00:00:00.000  1400000US06037216700   \n",
       "976  2015-01-01T00:00:00.000  1400000US06037481712   \n",
       "977  2015-01-01T00:00:00.000  1400000US06037109601   \n",
       "978  2015-01-01T00:00:00.000  1400000US06037187102   \n",
       "979  2015-01-01T00:00:00.000  1400000US06037403403   \n",
       "980  2015-01-01T00:00:00.000  1400000US06037503301   \n",
       "981  2015-01-01T00:00:00.000  1400000US06037103200   \n",
       "982  2015-01-01T00:00:00.000  1400000US06037554204   \n",
       "983  2015-01-01T00:00:00.000  1400000US06037540902   \n",
       "984  2015-01-01T00:00:00.000  1400000US06037192001   \n",
       "985  2015-01-01T00:00:00.000  1400000US06037278102   \n",
       "986  2015-01-01T00:00:00.000  1400000US06037186201   \n",
       "987  2015-01-01T00:00:00.000  1400000US06037106645   \n",
       "988  2015-01-01T00:00:00.000  1400000US06037209510   \n",
       "989  2015-01-01T00:00:00.000  1400000US06037543501   \n",
       "990  2015-01-01T00:00:00.000  1400000US06037138000   \n",
       "991  2015-01-01T00:00:00.000  1400000US06037430102   \n",
       "992  2015-01-01T00:00:00.000  1400000US06037462600   \n",
       "993  2015-01-01T00:00:00.000  1400000US06037432801   \n",
       "994  2015-01-01T00:00:00.000  1400000US06037212620   \n",
       "995  2015-01-01T00:00:00.000  1400000US06037239310   \n",
       "996  2015-01-01T00:00:00.000  1400000US06037120104   \n",
       "997  2015-01-01T00:00:00.000  1400000US06037228320   \n",
       "\n",
       "                        location            neighborhood  \\\n",
       "0       [-118.381096, 34.049649]          Pico-Robertson   \n",
       "1     [-118.4310805, 34.0213795]               Mar Vista   \n",
       "2      [-118.4552825, 34.269881]           Mission Hills   \n",
       "3     [-118.0077885, 34.0706755]                El Monte   \n",
       "4        [-118.23355, 33.924654]             Willowbrook   \n",
       "5       [-118.335306, 34.195881]                 Burbank   \n",
       "6     [-118.2080885, 33.9742045]         Huntington Park   \n",
       "7     [-118.0270415, 33.9319075]          South Whittier   \n",
       "8      [-118.2671865, 33.929254]           Green Meadows   \n",
       "9       [-118.014185, 34.051401]                El Monte   \n",
       "10      [-118.270758, 33.829768]                  Carson   \n",
       "11     [-118.139436, 34.0737895]                Alhambra   \n",
       "12     [-118.365913, 34.0725795]           Beverly Grove   \n",
       "13     [-118.263652, 34.1444275]                Glendale   \n",
       "14    [-118.0496115, 33.9809005]                Whittier   \n",
       "15      [-118.209149, 34.121669]           Highland Park   \n",
       "16     [-118.1263885, 34.163408]                Pasadena   \n",
       "17     [-118.429943, 34.2337665]                  Arleta   \n",
       "18       [-118.15561, 33.871521]              Long Beach   \n",
       "19     [-117.9121645, 34.103307]                  Covina   \n",
       "20    [-117.9838755, 34.0719255]            Baldwin Park   \n",
       "21      [-118.367527, 34.009386]          Ladera Heights   \n",
       "22     [-118.5826685, 34.234694]                Winnetka   \n",
       "23     [-117.9759805, 33.957535]        La Habra Heights   \n",
       "24    [-118.2359285, 33.9537225]      Florence-Firestone   \n",
       "25     [-118.151439, 33.9000805]               Paramount   \n",
       "26    [-118.2517655, 34.0815145]               Echo Park   \n",
       "27    [-118.1324565, 34.0120805]        East Los Angeles   \n",
       "28       [-117.81575, 34.052917]                  Pomona   \n",
       "29    [-118.3703245, 34.1438535]             Studio City   \n",
       "..                           ...                     ...   \n",
       "968   [-117.9424605, 33.9825995]        Hacienda Heights   \n",
       "969   [-117.9168025, 34.0452465]             West Covina   \n",
       "970    [-118.253282, 34.0524315]                Downtown   \n",
       "971    [-118.1099205, 33.976373]             Pico Rivera   \n",
       "972   [-118.5142095, 34.1920605]             Lake Balboa   \n",
       "973     [-118.4257485, 34.25551]                 Pacoima   \n",
       "974   [-118.3421205, 34.0992315]               Hollywood   \n",
       "975     [-118.371729, 34.048208]                Mid-City   \n",
       "976     [-118.112061, 34.067109]           Monterey Park   \n",
       "977    [-118.450367, 34.2582765]           Mission Hills   \n",
       "978    [-118.2437135, 34.100216]          Elysian Valley   \n",
       "979    [-117.842746, 34.0303525]                  Walnut   \n",
       "980   [-118.0159295, 33.9478135]                Whittier   \n",
       "981   [-118.3439025, 34.2745565]       Lake View Terrace   \n",
       "982    [-118.126066, 33.8856885]              Bellflower   \n",
       "983   [-118.2737495, 33.9091615]             Willowbrook   \n",
       "984    [-118.3484225, 34.084605]                 Fairfax   \n",
       "985  [-118.4444466, 33.96269392]           Playa del Rey   \n",
       "986    [-118.2186485, 34.121613]              Eagle Rock   \n",
       "987   [-118.4928915, 34.2905125]           Granada Hills   \n",
       "988    [-118.281509, 34.0530605]                Westlake   \n",
       "989     [-118.283295, 33.842811]                  Carson   \n",
       "990   [-118.5914025, 34.1469275]          Woodland Hills   \n",
       "991     [-117.978573, 34.126938]                  Duarte   \n",
       "992    [-118.112295, 34.1611715]                Pasadena   \n",
       "993    [-118.0459705, 34.077308]                El Monte   \n",
       "994    [-118.313612, 34.0562585]               Koreatown   \n",
       "995     [-118.27732, 33.9785445]                Florence   \n",
       "996    [-118.4484845, 34.224796]           Panorama City   \n",
       "997     [-118.263681, 34.007893]  Historic South-Central   \n",
       "\n",
       "              policy area                                             row id  \\\n",
       "0    Social Connectedness  Acres_of_Parks_Per_1,000_People_2015_1400000US...   \n",
       "1    Social Connectedness  Acres_of_Parks_Per_1,000_People_2015_1400000US...   \n",
       "2    Social Connectedness  Acres_of_Parks_Per_1,000_People_2015_1400000US...   \n",
       "3    Social Connectedness  Acres_of_Parks_Per_1,000_People_2015_1400000US...   \n",
       "4    Social Connectedness  Acres_of_Parks_Per_1,000_People_2015_1400000US...   \n",
       "5    Social Connectedness  Acres_of_Parks_Per_1,000_People_2015_1400000US...   \n",
       "6    Social Connectedness  Acres_of_Parks_Per_1,000_People_2015_1400000US...   \n",
       "7    Social Connectedness  Acres_of_Parks_Per_1,000_People_2015_1400000US...   \n",
       "8    Social Connectedness  Acres_of_Parks_Per_1,000_People_2015_1400000US...   \n",
       "9    Social Connectedness  Acres_of_Parks_Per_1,000_People_2015_1400000US...   \n",
       "10   Social Connectedness  Acres_of_Parks_Per_1,000_People_2015_1400000US...   \n",
       "11   Social Connectedness  Acres_of_Parks_Per_1,000_People_2015_1400000US...   \n",
       "12   Social Connectedness  Acres_of_Parks_Per_1,000_People_2015_1400000US...   \n",
       "13   Social Connectedness  Acres_of_Parks_Per_1,000_People_2015_1400000US...   \n",
       "14   Social Connectedness  Acres_of_Parks_Per_1,000_People_2015_1400000US...   \n",
       "15   Social Connectedness  Acres_of_Parks_Per_1,000_People_2015_1400000US...   \n",
       "16   Social Connectedness  Acres_of_Parks_Per_1,000_People_2015_1400000US...   \n",
       "17   Social Connectedness  Acres_of_Parks_Per_1,000_People_2015_1400000US...   \n",
       "18   Social Connectedness  Acres_of_Parks_Per_1,000_People_2015_1400000US...   \n",
       "19   Social Connectedness  Acres_of_Parks_Per_1,000_People_2015_1400000US...   \n",
       "20   Social Connectedness  Acres_of_Parks_Per_1,000_People_2015_1400000US...   \n",
       "21   Social Connectedness  Acres_of_Parks_Per_1,000_People_2015_1400000US...   \n",
       "22   Social Connectedness  Acres_of_Parks_Per_1,000_People_2015_1400000US...   \n",
       "23   Social Connectedness  Acres_of_Parks_Per_1,000_People_2015_1400000US...   \n",
       "24   Social Connectedness  Acres_of_Parks_Per_1,000_People_2015_1400000US...   \n",
       "25   Social Connectedness  Acres_of_Parks_Per_1,000_People_2015_1400000US...   \n",
       "26   Social Connectedness  Acres_of_Parks_Per_1,000_People_2015_1400000US...   \n",
       "27   Social Connectedness  Acres_of_Parks_Per_1,000_People_2015_1400000US...   \n",
       "28   Social Connectedness  Acres_of_Parks_Per_1,000_People_2015_1400000US...   \n",
       "29   Social Connectedness  Acres_of_Parks_Per_1,000_People_2015_1400000US...   \n",
       "..                    ...                                                ...   \n",
       "968  Social Connectedness  Acres_of_Parks_Per_1,000_People_2015_1400000US...   \n",
       "969  Social Connectedness  Acres_of_Parks_Per_1,000_People_2015_1400000US...   \n",
       "970  Social Connectedness  Acres_of_Parks_Per_1,000_People_2015_1400000US...   \n",
       "971  Social Connectedness  Acres_of_Parks_Per_1,000_People_2015_1400000US...   \n",
       "972  Social Connectedness  Acres_of_Parks_Per_1,000_People_2015_1400000US...   \n",
       "973  Social Connectedness  Acres_of_Parks_Per_1,000_People_2015_1400000US...   \n",
       "974  Social Connectedness  Acres_of_Parks_Per_1,000_People_2015_1400000US...   \n",
       "975  Social Connectedness  Acres_of_Parks_Per_1,000_People_2015_1400000US...   \n",
       "976  Social Connectedness  Acres_of_Parks_Per_1,000_People_2015_1400000US...   \n",
       "977  Social Connectedness  Acres_of_Parks_Per_1,000_People_2015_1400000US...   \n",
       "978  Social Connectedness  Acres_of_Parks_Per_1,000_People_2015_1400000US...   \n",
       "979  Social Connectedness  Acres_of_Parks_Per_1,000_People_2015_1400000US...   \n",
       "980  Social Connectedness  Acres_of_Parks_Per_1,000_People_2015_1400000US...   \n",
       "981  Social Connectedness  Acres_of_Parks_Per_1,000_People_2015_1400000US...   \n",
       "982  Social Connectedness  Acres_of_Parks_Per_1,000_People_2015_1400000US...   \n",
       "983  Social Connectedness  Acres_of_Parks_Per_1,000_People_2015_1400000US...   \n",
       "984  Social Connectedness  Acres_of_Parks_Per_1,000_People_2015_1400000US...   \n",
       "985  Social Connectedness  Acres_of_Parks_Per_1,000_People_2015_1400000US...   \n",
       "986  Social Connectedness  Acres_of_Parks_Per_1,000_People_2015_1400000US...   \n",
       "987  Social Connectedness  Acres_of_Parks_Per_1,000_People_2015_1400000US...   \n",
       "988  Social Connectedness  Acres_of_Parks_Per_1,000_People_2015_1400000US...   \n",
       "989  Social Connectedness  Acres_of_Parks_Per_1,000_People_2015_1400000US...   \n",
       "990  Social Connectedness  Acres_of_Parks_Per_1,000_People_2015_1400000US...   \n",
       "991  Social Connectedness  Acres_of_Parks_Per_1,000_People_2015_1400000US...   \n",
       "992  Social Connectedness  Acres_of_Parks_Per_1,000_People_2015_1400000US...   \n",
       "993  Social Connectedness  Acres_of_Parks_Per_1,000_People_2015_1400000US...   \n",
       "994  Social Connectedness  Acres_of_Parks_Per_1,000_People_2015_1400000US...   \n",
       "995  Social Connectedness  Acres_of_Parks_Per_1,000_People_2015_1400000US...   \n",
       "996  Social Connectedness  Acres_of_Parks_Per_1,000_People_2015_1400000US...   \n",
       "997  Social Connectedness  Acres_of_Parks_Per_1,000_People_2015_1400000US...   \n",
       "\n",
       "                                                 tract tract number  \\\n",
       "0    Census Tract 2170.02, Los Angeles County, Cali...       217002   \n",
       "1    Census Tract 2716, Los Angeles County, California       271600   \n",
       "2    Census Tract 1094, Los Angeles County, California       109400   \n",
       "3    Census Tract 4333.06, Los Angeles County, Cali...       433306   \n",
       "4    Census Tract 5406, Los Angeles County, California       540600   \n",
       "5    Census Tract 3105.01, Los Angeles County, Cali...       310501   \n",
       "6    Census Tract 5332.03, Los Angeles County, Cali...       533203   \n",
       "7    Census Tract 5032.01, Los Angeles County, Cali...       503201   \n",
       "8    Census Tract 2410.01, Los Angeles County, Cali...       241001   \n",
       "9    Census Tract 4340.01, Los Angeles County, Cali...       434001   \n",
       "10   Census Tract 5438.02, Los Angeles County, Cali...       543802   \n",
       "11   Census Tract 4809.03, Los Angeles County, Cali...       480903   \n",
       "12   Census Tract 2146, Los Angeles County, California       214600   \n",
       "13   Census Tract 3023.01, Los Angeles County, Cali...       302301   \n",
       "14   Census Tract 5014, Los Angeles County, California       501400   \n",
       "15   Census Tract 1834.01, Los Angeles County, Cali...       183401   \n",
       "16   Census Tract 4624, Los Angeles County, California       462400   \n",
       "17   Census Tract 1198, Los Angeles County, California       119800   \n",
       "18   Census Tract 5702.04, Los Angeles County, Cali...       570204   \n",
       "19   Census Tract 4058, Los Angeles County, California       405800   \n",
       "20   Census Tract 4047.02, Los Angeles County, Cali...       404702   \n",
       "21   Census Tract 2360, Los Angeles County, California       236000   \n",
       "22   Census Tract 1134.21, Los Angeles County, Cali...       113421   \n",
       "23   Census Tract 5002.01, Los Angeles County, Cali...       500201   \n",
       "24   Census Tract 5354, Los Angeles County, California       535400   \n",
       "25   Census Tract 5535.02, Los Angeles County, Cali...       553502   \n",
       "26   Census Tract 1973, Los Angeles County, California       197300   \n",
       "27   Census Tract 5319.02, Los Angeles County, Cali...       531902   \n",
       "28   Census Tract 4024.04, Los Angeles County, Cali...       402404   \n",
       "29   Census Tract 1436.03, Los Angeles County, Cali...       143603   \n",
       "..                                                 ...          ...   \n",
       "968  Census Tract 4086.28, Los Angeles County, Cali...       408628   \n",
       "969  Census Tract 4080.03, Los Angeles County, Cali...       408003   \n",
       "970  Census Tract 2075.02, Los Angeles County, Cali...       207502   \n",
       "971  Census Tract 5025, Los Angeles County, California       502500   \n",
       "972  Census Tract 1320.01, Los Angeles County, Cali...       132001   \n",
       "973  Census Tract 1045, Los Angeles County, California       104500   \n",
       "974  Census Tract 1901, Los Angeles County, California       190100   \n",
       "975  Census Tract 2167, Los Angeles County, California       216700   \n",
       "976  Census Tract 4817.12, Los Angeles County, Cali...       481712   \n",
       "977  Census Tract 1096.01, Los Angeles County, Cali...       109601   \n",
       "978  Census Tract 1871.02, Los Angeles County, Cali...       187102   \n",
       "979  Census Tract 4034.03, Los Angeles County, Cali...       403403   \n",
       "980  Census Tract 5033.01, Los Angeles County, Cali...       503301   \n",
       "981  Census Tract 1032, Los Angeles County, California       103200   \n",
       "982  Census Tract 5542.04, Los Angeles County, Cali...       554204   \n",
       "983  Census Tract 5409.02, Los Angeles County, Cali...       540902   \n",
       "984  Census Tract 1920.01, Los Angeles County, Cali...       192001   \n",
       "985  Census Tract 2781.02, Los Angeles County, Cali...       278102   \n",
       "986  Census Tract 1862.01, Los Angeles County, Cali...       186201   \n",
       "987  Census Tract 1066.45, Los Angeles County, Cali...       106645   \n",
       "988  Census Tract 2095.10, Los Angeles County, Cali...       209510   \n",
       "989  Census Tract 5435.01, Los Angeles County, Cali...       543501   \n",
       "990  Census Tract 1380, Los Angeles County, California       138000   \n",
       "991  Census Tract 4301.02, Los Angeles County, Cali...       430102   \n",
       "992  Census Tract 4626, Los Angeles County, California       462600   \n",
       "993  Census Tract 4328.01, Los Angeles County, Cali...       432801   \n",
       "994  Census Tract 2126.20, Los Angeles County, Cali...       212620   \n",
       "995  Census Tract 2393.10, Los Angeles County, Cali...       239310   \n",
       "996  Census Tract 1201.04, Los Angeles County, Cali...       120104   \n",
       "997  Census Tract 2283.20, Los Angeles County, Cali...       228320   \n",
       "\n",
       "                            variable  \n",
       "0    Acres of Parks Per 1,000 People  \n",
       "1    Acres of Parks Per 1,000 People  \n",
       "2    Acres of Parks Per 1,000 People  \n",
       "3    Acres of Parks Per 1,000 People  \n",
       "4    Acres of Parks Per 1,000 People  \n",
       "5    Acres of Parks Per 1,000 People  \n",
       "6    Acres of Parks Per 1,000 People  \n",
       "7    Acres of Parks Per 1,000 People  \n",
       "8    Acres of Parks Per 1,000 People  \n",
       "9    Acres of Parks Per 1,000 People  \n",
       "10   Acres of Parks Per 1,000 People  \n",
       "11   Acres of Parks Per 1,000 People  \n",
       "12   Acres of Parks Per 1,000 People  \n",
       "13   Acres of Parks Per 1,000 People  \n",
       "14   Acres of Parks Per 1,000 People  \n",
       "15   Acres of Parks Per 1,000 People  \n",
       "16   Acres of Parks Per 1,000 People  \n",
       "17   Acres of Parks Per 1,000 People  \n",
       "18   Acres of Parks Per 1,000 People  \n",
       "19   Acres of Parks Per 1,000 People  \n",
       "20   Acres of Parks Per 1,000 People  \n",
       "21   Acres of Parks Per 1,000 People  \n",
       "22   Acres of Parks Per 1,000 People  \n",
       "23   Acres of Parks Per 1,000 People  \n",
       "24   Acres of Parks Per 1,000 People  \n",
       "25   Acres of Parks Per 1,000 People  \n",
       "26   Acres of Parks Per 1,000 People  \n",
       "27   Acres of Parks Per 1,000 People  \n",
       "28   Acres of Parks Per 1,000 People  \n",
       "29   Acres of Parks Per 1,000 People  \n",
       "..                               ...  \n",
       "968  Acres of Parks Per 1,000 People  \n",
       "969  Acres of Parks Per 1,000 People  \n",
       "970  Acres of Parks Per 1,000 People  \n",
       "971  Acres of Parks Per 1,000 People  \n",
       "972  Acres of Parks Per 1,000 People  \n",
       "973  Acres of Parks Per 1,000 People  \n",
       "974  Acres of Parks Per 1,000 People  \n",
       "975  Acres of Parks Per 1,000 People  \n",
       "976  Acres of Parks Per 1,000 People  \n",
       "977  Acres of Parks Per 1,000 People  \n",
       "978  Acres of Parks Per 1,000 People  \n",
       "979  Acres of Parks Per 1,000 People  \n",
       "980  Acres of Parks Per 1,000 People  \n",
       "981  Acres of Parks Per 1,000 People  \n",
       "982  Acres of Parks Per 1,000 People  \n",
       "983  Acres of Parks Per 1,000 People  \n",
       "984  Acres of Parks Per 1,000 People  \n",
       "985  Acres of Parks Per 1,000 People  \n",
       "986  Acres of Parks Per 1,000 People  \n",
       "987  Acres of Parks Per 1,000 People  \n",
       "988  Acres of Parks Per 1,000 People  \n",
       "989  Acres of Parks Per 1,000 People  \n",
       "990  Acres of Parks Per 1,000 People  \n",
       "991  Acres of Parks Per 1,000 People  \n",
       "992  Acres of Parks Per 1,000 People  \n",
       "993  Acres of Parks Per 1,000 People  \n",
       "994  Acres of Parks Per 1,000 People  \n",
       "995  Acres of Parks Per 1,000 People  \n",
       "996  Acres of Parks Per 1,000 People  \n",
       "997  Acres of Parks Per 1,000 People  \n",
       "\n",
       "[998 rows x 14 columns]"
      ]
     },
     "execution_count": 19,
     "metadata": {},
     "output_type": "execute_result"
    }
   ],
   "source": [
    "dict = {\"year\" : park_year,\n",
    "        \"count\" : park_count,\n",
    "       \"dataset\" : park_dataset,\n",
    "        \"lat\" : park_lat,\n",
    "        \"lng\" : park_lng,\n",
    "       \"date\" :  park_date,\n",
    "       \"geoid\" : park_geoid,\n",
    "       \"location\" : park_location,\n",
    "        \"neighborhood\" : park_neighborhood,\n",
    "        \"policy area\" : park_policy_area,\n",
    "        \"row id\": park_row_id,\n",
    "        \"tract\" : park_tract,\n",
    "        \"tract number\" : park_tract_number,\n",
    "        \"variable\" : park_variable,\n",
    "       }\n",
    "\n",
    "df_park = pd.DataFrame(data = dict)\n",
    "df_park"
   ]
  },
  {
   "cell_type": "markdown",
   "metadata": {},
   "source": [
    "### Explore Dataframe Details (Size, Info, Description)\n",
    "* Determine which series in dataframe need the datatype to be changed."
   ]
  },
  {
   "cell_type": "code",
   "execution_count": 20,
   "metadata": {},
   "outputs": [
    {
     "name": "stdout",
     "output_type": "stream",
     "text": [
      "2\n",
      "13972\n",
      "<class 'pandas.core.frame.DataFrame'>\n",
      "RangeIndex: 998 entries, 0 to 997\n",
      "Data columns (total 14 columns):\n",
      "year            998 non-null object\n",
      "count           998 non-null object\n",
      "dataset         998 non-null object\n",
      "lat             998 non-null float64\n",
      "lng             998 non-null float64\n",
      "date            998 non-null object\n",
      "geoid           998 non-null object\n",
      "location        998 non-null object\n",
      "neighborhood    998 non-null object\n",
      "policy area     998 non-null object\n",
      "row id          998 non-null object\n",
      "tract           998 non-null object\n",
      "tract number    998 non-null object\n",
      "variable        998 non-null object\n",
      "dtypes: float64(2), object(12)\n",
      "memory usage: 109.2+ KB\n",
      "None\n"
     ]
    }
   ],
   "source": [
    "# Dimensions\n",
    "print(df_park.ndim)\n",
    "\n",
    "# How many values are in the dataframe\n",
    "print(df_park.size)\n",
    "\n",
    "# Datatype, counts, and memory usage for dataframe\n",
    "print(df_park.info())\n"
   ]
  },
  {
   "cell_type": "code",
   "execution_count": 21,
   "metadata": {},
   "outputs": [],
   "source": [
    "# Change Datatypes for \"count\" from object to float\n",
    "df_park[\"count\"] = df_park[\"count\"].astype(\"float\")\n"
   ]
  },
  {
   "cell_type": "markdown",
   "metadata": {},
   "source": [
    "### Aggregate Data by Year"
   ]
  },
  {
   "cell_type": "code",
   "execution_count": 22,
   "metadata": {},
   "outputs": [],
   "source": [
    "# Aggregate by neighborhood and generate columns for lat, long, and pollution counts.\n",
    "agg_park_data = df_park.groupby(\"neighborhood\").agg([\"min\", \"max\", \"mean\"])\n",
    "\n",
    "# # Create an array for the mean pollution per city\n",
    "park_mean = np.array(agg_park_data[\"count\"][\"mean\"])\n",
    "\n",
    "# # Create an array for the lat and log for each neighborhood\n",
    "park_neighborhood_lat = np.array(agg_park_data[\"lat\"][\"min\"])\n",
    "park_neighborhood_lng = np.array(agg_park_data[\"lng\"][\"min\"])"
   ]
  },
  {
   "cell_type": "markdown",
   "metadata": {},
   "source": [
    "### Remove Multilevel Index"
   ]
  },
  {
   "cell_type": "code",
   "execution_count": 23,
   "metadata": {},
   "outputs": [],
   "source": [
    "agg_level_0 = agg_park_data.columns.get_level_values(0)\n",
    "agg_level_1 = agg_park_data.columns.get_level_values(1)\n",
    "agg_park_data.columns = agg_level_0 + '_' + agg_level_1\n",
    "agg_park_data = agg_park_data[['count_mean', 'lat_min', 'lng_min',]]"
   ]
  },
  {
   "cell_type": "markdown",
   "metadata": {},
   "source": [
    "### Map neighborhoods in Analysis"
   ]
  },
  {
   "cell_type": "code",
   "execution_count": 24,
   "metadata": {},
   "outputs": [
    {
     "data": {
      "application/vnd.jupyter.widget-view+json": {
       "model_id": "b90b151535c448419d791cdf2bd998ab",
       "version_major": 2,
       "version_minor": 0
      },
      "text/plain": [
       "Figure(layout=FigureLayout(height='420px'))"
      ]
     },
     "metadata": {},
     "output_type": "display_data"
    }
   ],
   "source": [
    "# Store latitude and longitude in locations\n",
    "locations = df_park[[\"lat\", \"lng\"]]\n",
    "\n",
    "# Plot Heatmap\n",
    "fig = gmaps.figure()\n",
    "\n",
    "symbol_layer = gmaps.symbol_layer(locations, fill_color='green', stroke_color='green', scale=2)\n",
    "\n",
    "# Add layer\n",
    "fig.add_layer(symbol_layer)\n",
    "\n",
    "# Display figure\n",
    "fig"
   ]
  },
  {
   "cell_type": "markdown",
   "metadata": {},
   "source": [
    "### Determine the neighborhoods with the highest and lowest access greenspace"
   ]
  },
  {
   "cell_type": "code",
   "execution_count": 25,
   "metadata": {},
   "outputs": [
    {
     "data": {
      "text/plain": [
       "neighborhood\n",
       "Pico-Union          0.0\n",
       "Hancock Park        0.0\n",
       "Vincent             0.0\n",
       "Vernon              0.0\n",
       "East San Gabriel    0.0\n",
       "Name: count_mean, dtype: float64"
      ]
     },
     "execution_count": 25,
     "metadata": {},
     "output_type": "execute_result"
    }
   ],
   "source": [
    "max_sorted_pdf = agg_park_data.sort_values(by = (\"count_mean\"), ascending = False)\n",
    "min_sorted_pdf = agg_park_data.sort_values(by = (\"count_mean\"), ascending = True)\n",
    "\n",
    "max_parks = max_sorted_pdf[[\"lat_min\", \"lng_min\"]]\n",
    "min_parks = min_sorted_pdf[[\"lat_min\", \"lng_min\"]]\n",
    "\n",
    "top_gcities = max_parks[0:5]\n",
    "low_gcities = min_parks[0:5]\n",
    "min_sorted_pdf[\"count_mean\"].head()\n"
   ]
  },
  {
   "cell_type": "code",
   "execution_count": 26,
   "metadata": {},
   "outputs": [
    {
     "data": {
      "application/vnd.jupyter.widget-view+json": {
       "model_id": "97c9c07f235e495597c696d103eafdcc",
       "version_major": 2,
       "version_minor": 0
      },
      "text/plain": [
       "Figure(layout=FigureLayout(height='420px'))"
      ]
     },
     "metadata": {},
     "output_type": "display_data"
    }
   ],
   "source": [
    "# Store latitude and longitude in locations\n",
    "top_locations = top_gcities[[\"lat_min\", \"lng_min\"]]\n",
    "low_locations = low_gcities[[\"lat_min\", \"lng_min\"]]\n",
    "\n",
    "# Plot Heatmap\n",
    "fig = gmaps.figure()\n",
    "\n",
    "# Create heat layer\n",
    "top_layer = gmaps.heatmap_layer(top_locations)\n",
    "top_marker_layer = gmaps.marker_layer(top_locations, label='high')\n",
    "\n",
    "low_layer = gmaps.heatmap_layer(low_locations)\n",
    "low_marker_layer = gmaps.marker_layer(low_locations, label='low')\n",
    "\n",
    "# Add layer\n",
    "fig.add_layer(top_layer)\n",
    "fig.add_layer(top_marker_layer)\n",
    "fig.add_layer(low_layer)\n",
    "fig.add_layer(low_marker_layer)\n",
    "\n",
    "# Display figure\n",
    "fig"
   ]
  },
  {
   "cell_type": "markdown",
   "metadata": {},
   "source": [
    "### Heatmap the density of parks in LA"
   ]
  },
  {
   "cell_type": "code",
   "execution_count": 27,
   "metadata": {},
   "outputs": [
    {
     "data": {
      "application/vnd.jupyter.widget-view+json": {
       "model_id": "5b79ac13e36a4568a12ae896938d5872",
       "version_major": 2,
       "version_minor": 0
      },
      "text/plain": [
       "Figure(layout=FigureLayout(height='420px'))"
      ]
     },
     "metadata": {},
     "output_type": "display_data"
    }
   ],
   "source": [
    "# Filter the location and mean park data into two variables for use in plot.\n",
    "mean_park_locations = agg_park_data[[\"lat_min\", \"lng_min\"]]\n",
    "mean_park_counts = agg_park_data[\"count_mean\"].astype(dtype = \"float\")\n",
    "\n",
    "locations = mean_park_locations\n",
    "weights = mean_park_counts\n",
    "\n",
    "fig = gmaps.figure(map_type=\"SATELLITE\")\n",
    "\n",
    "# # Create heat layer\n",
    "heat_layer = gmaps.heatmap_layer(locations, weights = weights)\n",
    "\n",
    "# # Add layer\n",
    "fig.add_layer(heat_layer)\n",
    "\n",
    "# # Display figure\n",
    "fig"
   ]
  },
  {
   "cell_type": "markdown",
   "metadata": {},
   "source": [
    "# Part 3 Merge Datasets\n",
    "* Determine if Air quality and Parks Impact Rental Rates\n",
    "* Merge three datasets Air quality, Park density, and Rent in LA\n",
    "* Prepare pandas dataframe\n",
    "* Exploritory data analysis on down sampled data"
   ]
  },
  {
   "cell_type": "code",
   "execution_count": 64,
   "metadata": {},
   "outputs": [
    {
     "data": {
      "text/plain": [
       "Index(['Neighborhood', 'Lat', 'Lng', 'Median Rent', 'Air Pollution',\n",
       "       'Park Counts', 'tract number', 'Location'],\n",
       "      dtype='object')"
      ]
     },
     "execution_count": 64,
     "metadata": {},
     "output_type": "execute_result"
    }
   ],
   "source": [
    "rent_df = pd.read_csv(\"LA_rentmedian.csv\")\n",
    "rent_df = rent_df.rename(columns = {\"Tract Number\": \"tract number\", \"Median Rent 2016\" : \"Median Rent\"})\n",
    "\n",
    "# Subset air quality and park dataframes\n",
    "df_air = df[[\"year\", \"count\", \"lat\", \"lng\", \"neighborhood\", \"tract number\"]]\n",
    "df_park_condensed = df_park[[\"year\", \"count\", \"lat\", \"lng\" , \"neighborhood\", \"tract number\"]]\n",
    "\n",
    "df_air_2017 = df_air[df_air[\"year\"] == \"2017\"]\n",
    "df_park_2017 = df_park_condensed[df_park_condensed[\"year\"] == \"2015\"]\n",
    "\n",
    "df_air_pre_merge = df_air_2017.drop(\"year\", axis = 1)\n",
    "df_park_pre_merge = df_park_2017.drop(\"year\", axis = 1)\n",
    "\n",
    "# # Merge air and park dataframes\n",
    "air_park_rent = df_park_pre_merge.merge(df_air_pre_merge, how = \"left\", on = \"tract number\")\n",
    "air_park_rent[\"tract number\"] = air_park_rent[\"tract number\"].astype('int')\n",
    "air_park_rent_v2 = air_park_rent.drop([\"lat_x\",\"lng_x\"], axis = 1)\n",
    "\n",
    "\n",
    "# Merge merged air and park dataframe with rent\n",
    "merged_df = air_park_rent.merge(rent_df, how = 'left', on = \"tract number\")\n",
    "merged_df_clean = merged_df.drop([\"lat_x\", \"lng_x\", \"neighborhood_x\", \"neighborhood_y\", \"neighborhood_y\"], axis = 1)\n",
    "merged_df_clean = merged_df_clean.rename(columns = {\"count_x\" : \"Park Counts\", \"count_y\" : \"Air Pollution\", \"lat_y\" : \"Lat\", \"lng_y\" : \"Lng\"})\n",
    "merged_df_clean[\"Air Pollution\"] = merged_df_clean[\"Air Pollution\"].astype(dtype = \"float\")\n",
    "\n",
    "column = [\"Neighborhood\", \"Lat\", \"Lng\", \"Median Rent\", \"Air Pollution\", \"Park Counts\", \"tract number\", \"Location\"]\n",
    "merged_df_clean = merged_df_clean[[\"Neighborhood\", \"Lat\", \"Lng\", \"Median Rent\", \"Air Pollution\", \"Park Counts\", \"tract number\", \"Location\"]]\n",
    "merged_df_clean.columns"
   ]
  },
  {
   "cell_type": "code",
   "execution_count": 65,
   "metadata": {},
   "outputs": [
    {
     "name": "stdout",
     "output_type": "stream",
     "text": [
      "<class 'pandas.core.frame.DataFrame'>\n",
      "Int64Index: 998 entries, 0 to 997\n",
      "Data columns (total 8 columns):\n",
      "Neighborhood     990 non-null object\n",
      "Lat              515 non-null float64\n",
      "Lng              515 non-null float64\n",
      "Median Rent      990 non-null float64\n",
      "Air Pollution    515 non-null float64\n",
      "Park Counts      998 non-null float64\n",
      "tract number     998 non-null int64\n",
      "Location         990 non-null object\n",
      "dtypes: float64(5), int64(1), object(2)\n",
      "memory usage: 70.2+ KB\n"
     ]
    }
   ],
   "source": [
    "merged_df_clean.info()"
   ]
  },
  {
   "cell_type": "code",
   "execution_count": 66,
   "metadata": {},
   "outputs": [
    {
     "data": {
      "text/html": [
       "<div>\n",
       "<style scoped>\n",
       "    .dataframe tbody tr th:only-of-type {\n",
       "        vertical-align: middle;\n",
       "    }\n",
       "\n",
       "    .dataframe tbody tr th {\n",
       "        vertical-align: top;\n",
       "    }\n",
       "\n",
       "    .dataframe thead th {\n",
       "        text-align: right;\n",
       "    }\n",
       "</style>\n",
       "<table border=\"1\" class=\"dataframe\">\n",
       "  <thead>\n",
       "    <tr style=\"text-align: right;\">\n",
       "      <th></th>\n",
       "      <th>count</th>\n",
       "      <th>mean</th>\n",
       "      <th>std</th>\n",
       "      <th>min</th>\n",
       "      <th>25%</th>\n",
       "      <th>50%</th>\n",
       "      <th>75%</th>\n",
       "      <th>max</th>\n",
       "    </tr>\n",
       "  </thead>\n",
       "  <tbody>\n",
       "    <tr>\n",
       "      <th>Lat</th>\n",
       "      <td>515.0</td>\n",
       "      <td>34.093668</td>\n",
       "      <td>0.118068</td>\n",
       "      <td>33.713354</td>\n",
       "      <td>34.027899</td>\n",
       "      <td>34.080979</td>\n",
       "      <td>34.191931</td>\n",
       "      <td>34.323194</td>\n",
       "    </tr>\n",
       "    <tr>\n",
       "      <th>Lng</th>\n",
       "      <td>515.0</td>\n",
       "      <td>-118.366033</td>\n",
       "      <td>0.109471</td>\n",
       "      <td>-118.655575</td>\n",
       "      <td>-118.441966</td>\n",
       "      <td>-118.348423</td>\n",
       "      <td>-118.282829</td>\n",
       "      <td>-118.172802</td>\n",
       "    </tr>\n",
       "    <tr>\n",
       "      <th>Median Rent</th>\n",
       "      <td>990.0</td>\n",
       "      <td>1390.824242</td>\n",
       "      <td>465.154789</td>\n",
       "      <td>299.000000</td>\n",
       "      <td>1094.000000</td>\n",
       "      <td>1250.000000</td>\n",
       "      <td>1575.750000</td>\n",
       "      <td>3500.000000</td>\n",
       "    </tr>\n",
       "    <tr>\n",
       "      <th>Air Pollution</th>\n",
       "      <td>515.0</td>\n",
       "      <td>11.896690</td>\n",
       "      <td>0.839438</td>\n",
       "      <td>9.955483</td>\n",
       "      <td>11.210000</td>\n",
       "      <td>12.050000</td>\n",
       "      <td>12.890000</td>\n",
       "      <td>12.890000</td>\n",
       "    </tr>\n",
       "    <tr>\n",
       "      <th>Park Counts</th>\n",
       "      <td>998.0</td>\n",
       "      <td>7.147924</td>\n",
       "      <td>48.686786</td>\n",
       "      <td>0.000000</td>\n",
       "      <td>0.000000</td>\n",
       "      <td>0.019650</td>\n",
       "      <td>1.733694</td>\n",
       "      <td>961.636955</td>\n",
       "    </tr>\n",
       "    <tr>\n",
       "      <th>tract number</th>\n",
       "      <td>998.0</td>\n",
       "      <td>328219.580160</td>\n",
       "      <td>156098.462202</td>\n",
       "      <td>101110.000000</td>\n",
       "      <td>198025.000000</td>\n",
       "      <td>294765.500000</td>\n",
       "      <td>481177.000000</td>\n",
       "      <td>573002.000000</td>\n",
       "    </tr>\n",
       "  </tbody>\n",
       "</table>\n",
       "</div>"
      ],
      "text/plain": [
       "               count           mean            std            min  \\\n",
       "Lat            515.0      34.093668       0.118068      33.713354   \n",
       "Lng            515.0    -118.366033       0.109471    -118.655575   \n",
       "Median Rent    990.0    1390.824242     465.154789     299.000000   \n",
       "Air Pollution  515.0      11.896690       0.839438       9.955483   \n",
       "Park Counts    998.0       7.147924      48.686786       0.000000   \n",
       "tract number   998.0  328219.580160  156098.462202  101110.000000   \n",
       "\n",
       "                         25%            50%            75%            max  \n",
       "Lat                34.027899      34.080979      34.191931      34.323194  \n",
       "Lng              -118.441966    -118.348423    -118.282829    -118.172802  \n",
       "Median Rent      1094.000000    1250.000000    1575.750000    3500.000000  \n",
       "Air Pollution      11.210000      12.050000      12.890000      12.890000  \n",
       "Park Counts         0.000000       0.019650       1.733694     961.636955  \n",
       "tract number   198025.000000  294765.500000  481177.000000  573002.000000  "
      ]
     },
     "execution_count": 66,
     "metadata": {},
     "output_type": "execute_result"
    }
   ],
   "source": [
    "# Get Summary Statistics on Numberic columns\n",
    "merged_df_clean.describe(include=[np.number]).T"
   ]
  },
  {
   "cell_type": "code",
   "execution_count": 67,
   "metadata": {},
   "outputs": [
    {
     "data": {
      "text/html": [
       "<div>\n",
       "<style scoped>\n",
       "    .dataframe tbody tr th:only-of-type {\n",
       "        vertical-align: middle;\n",
       "    }\n",
       "\n",
       "    .dataframe tbody tr th {\n",
       "        vertical-align: top;\n",
       "    }\n",
       "\n",
       "    .dataframe thead th {\n",
       "        text-align: right;\n",
       "    }\n",
       "</style>\n",
       "<table border=\"1\" class=\"dataframe\">\n",
       "  <thead>\n",
       "    <tr style=\"text-align: right;\">\n",
       "      <th></th>\n",
       "      <th>count</th>\n",
       "      <th>unique</th>\n",
       "      <th>top</th>\n",
       "      <th>freq</th>\n",
       "    </tr>\n",
       "  </thead>\n",
       "  <tbody>\n",
       "    <tr>\n",
       "      <th>Neighborhood</th>\n",
       "      <td>990</td>\n",
       "      <td>192</td>\n",
       "      <td>Long Beach</td>\n",
       "      <td>24</td>\n",
       "    </tr>\n",
       "    <tr>\n",
       "      <th>Location</th>\n",
       "      <td>990</td>\n",
       "      <td>990</td>\n",
       "      <td>(33.97456, -118.17528)</td>\n",
       "      <td>1</td>\n",
       "    </tr>\n",
       "  </tbody>\n",
       "</table>\n",
       "</div>"
      ],
      "text/plain": [
       "             count unique                     top freq\n",
       "Neighborhood   990    192              Long Beach   24\n",
       "Location       990    990  (33.97456, -118.17528)    1"
      ]
     },
     "execution_count": 67,
     "metadata": {},
     "output_type": "execute_result"
    }
   ],
   "source": [
    "# Get Summary Statistics on Categorical columns\n",
    "merged_df_clean.describe(include=[np.object, pd.Categorical]).T"
   ]
  },
  {
   "cell_type": "code",
   "execution_count": 68,
   "metadata": {},
   "outputs": [
    {
     "data": {
      "text/plain": [
       "Air Pollution    483\n",
       "Lng              483\n",
       "Lat              483\n",
       "Location           8\n",
       "Median Rent        8\n",
       "dtype: int64"
      ]
     },
     "execution_count": 68,
     "metadata": {},
     "output_type": "execute_result"
    }
   ],
   "source": [
    "# Determine which rows have missing values\n",
    "merged_df_clean.isnull()\\\n",
    "                .sum(axis = 0)\\\n",
    "                .sort_values(ascending = False)\\\n",
    "                .head()"
   ]
  },
  {
   "cell_type": "code",
   "execution_count": 69,
   "metadata": {},
   "outputs": [
    {
     "name": "stdout",
     "output_type": "stream",
     "text": [
      "<class 'pandas.core.frame.DataFrame'>\n",
      "Int64Index: 511 entries, 0 to 997\n",
      "Data columns (total 8 columns):\n",
      "Neighborhood     511 non-null object\n",
      "Lat              511 non-null float64\n",
      "Lng              511 non-null float64\n",
      "Median Rent      511 non-null float64\n",
      "Air Pollution    511 non-null float64\n",
      "Park Counts      511 non-null float64\n",
      "tract number     511 non-null int64\n",
      "Location         511 non-null object\n",
      "dtypes: float64(5), int64(1), object(2)\n",
      "memory usage: 35.9+ KB\n"
     ]
    }
   ],
   "source": [
    "# Since Lng, Lat, and park counts have nearly 500 missing values, these will be removed\n",
    "merged_df_clean_nan = merged_df_clean.dropna(how = \"any\" , axis = 0)\n",
    "merged_df_clean_nan.isnull()\\\n",
    "                .sum(axis = 0)\\\n",
    "                .sort_values(ascending = False)\\\n",
    "                .head()\n",
    "\n",
    "merged_df_clean_nan.info()"
   ]
  },
  {
   "cell_type": "markdown",
   "metadata": {},
   "source": [
    "### Map Spatial Coverge of Merged Data"
   ]
  },
  {
   "cell_type": "code",
   "execution_count": 70,
   "metadata": {},
   "outputs": [
    {
     "data": {
      "application/vnd.jupyter.widget-view+json": {
       "model_id": "9892b60b337944e5bcffef10ef584584",
       "version_major": 2,
       "version_minor": 0
      },
      "text/plain": [
       "Figure(layout=FigureLayout(height='420px'))"
      ]
     },
     "metadata": {},
     "output_type": "display_data"
    }
   ],
   "source": [
    "# Store latitude and longitude in locations\n",
    "locations = merged_df_clean_nan[[\"Lat\", \"Lng\"]]\n",
    "\n",
    "# Plot Heatmap\n",
    "fig = gmaps.figure()\n",
    "\n",
    "# Create heat layer\n",
    "merged_data = gmaps.symbol_layer(locations, fill_color='blue', stroke_color='black', scale=2)\n",
    "\n",
    "\n",
    "\n",
    "# Add layer\n",
    "fig.add_layer(merged_data)\n",
    "\n",
    "\n",
    "# Display figure\n",
    "fig"
   ]
  },
  {
   "cell_type": "code",
   "execution_count": 139,
   "metadata": {},
   "outputs": [],
   "source": [
    "# Variables\n",
    "rent_array = merged_df_clean_nan[\"Median Rent\"]\n",
    "park_array = merged_df_clean_nan[\"Park Counts\"]\n",
    "air_array = merged_df_clean_nan[\"Air Pollution\"]"
   ]
  },
  {
   "cell_type": "markdown",
   "metadata": {},
   "source": [
    "# Part IV: Model Validation and Statistical Analysis\n",
    "* Empirical Cummulative Density Functions (with and without bootstrapping)\n",
    "* Compare cummulative distribution function compared to theoretical cummulative distribution funciton.\n",
    "* Covariance and Pearson correlation coefficient Analysis including scatter plots\n",
    "* Compute y = a * x + b and plot linear regression\n",
    "* Determine how optimal is the residual sum of squares\n",
    "* Evaluate the Probability density function using bootstrapping methods for Mean, SEM, and variance\n",
    "* Linear regression analysis part II and Hypothesis Testing (Levene's and T-test 2 independent samples)"
   ]
  },
  {
   "cell_type": "code",
   "execution_count": 140,
   "metadata": {},
   "outputs": [],
   "source": [
    "# Function to generate an empirical cummulative distribution function coordinates\n",
    "def ecdf(data):\n",
    "    # Number of data points: n\n",
    "    n = len(data)\n",
    "\n",
    "    # x-data for the ECDF: x\n",
    "    x = np.sort(data)\n",
    "\n",
    "    # y-data for the ECDF: y\n",
    "    y = np.arange(1, n + 1) / n\n",
    "\n",
    "    return x, y"
   ]
  },
  {
   "cell_type": "code",
   "execution_count": 141,
   "metadata": {},
   "outputs": [
    {
     "data": {
      "text/html": [
       "<div>\n",
       "<style scoped>\n",
       "    .dataframe tbody tr th:only-of-type {\n",
       "        vertical-align: middle;\n",
       "    }\n",
       "\n",
       "    .dataframe tbody tr th {\n",
       "        vertical-align: top;\n",
       "    }\n",
       "\n",
       "    .dataframe thead th {\n",
       "        text-align: right;\n",
       "    }\n",
       "</style>\n",
       "<table border=\"1\" class=\"dataframe\">\n",
       "  <thead>\n",
       "    <tr style=\"text-align: right;\">\n",
       "      <th></th>\n",
       "      <th>Neighborhood</th>\n",
       "      <th>Lat</th>\n",
       "      <th>Lng</th>\n",
       "      <th>Median Rent</th>\n",
       "      <th>Air Pollution</th>\n",
       "      <th>Park Counts</th>\n",
       "      <th>tract number</th>\n",
       "      <th>Location</th>\n",
       "    </tr>\n",
       "  </thead>\n",
       "  <tbody>\n",
       "    <tr>\n",
       "      <th>459</th>\n",
       "      <td>Porter Ranch</td>\n",
       "      <td>34.280038</td>\n",
       "      <td>-118.541372</td>\n",
       "      <td>3500.0</td>\n",
       "      <td>10.37</td>\n",
       "      <td>4.242716</td>\n",
       "      <td>108101</td>\n",
       "      <td>(34.280038, -118.5413715)</td>\n",
       "    </tr>\n",
       "    <tr>\n",
       "      <th>638</th>\n",
       "      <td>Beverlywood</td>\n",
       "      <td>34.041931</td>\n",
       "      <td>-118.393355</td>\n",
       "      <td>3463.0</td>\n",
       "      <td>12.05</td>\n",
       "      <td>0.000000</td>\n",
       "      <td>269500</td>\n",
       "      <td>(34.0419315, -118.3933555)</td>\n",
       "    </tr>\n",
       "    <tr>\n",
       "      <th>362</th>\n",
       "      <td>Pacific Palisades</td>\n",
       "      <td>34.049658</td>\n",
       "      <td>-118.520291</td>\n",
       "      <td>3413.0</td>\n",
       "      <td>11.21</td>\n",
       "      <td>9.178486</td>\n",
       "      <td>262501</td>\n",
       "      <td>(34.049658, -118.5202905)</td>\n",
       "    </tr>\n",
       "    <tr>\n",
       "      <th>585</th>\n",
       "      <td>Tarzana</td>\n",
       "      <td>34.145344</td>\n",
       "      <td>-118.554520</td>\n",
       "      <td>3299.0</td>\n",
       "      <td>10.37</td>\n",
       "      <td>76.286455</td>\n",
       "      <td>139802</td>\n",
       "      <td>(34.1453435, -118.5545195)</td>\n",
       "    </tr>\n",
       "    <tr>\n",
       "      <th>966</th>\n",
       "      <td>West Hills</td>\n",
       "      <td>34.202780</td>\n",
       "      <td>-118.647799</td>\n",
       "      <td>3293.0</td>\n",
       "      <td>10.37</td>\n",
       "      <td>0.607272</td>\n",
       "      <td>134421</td>\n",
       "      <td>(34.2027805, -118.6477985)</td>\n",
       "    </tr>\n",
       "  </tbody>\n",
       "</table>\n",
       "</div>"
      ],
      "text/plain": [
       "          Neighborhood        Lat         Lng  Median Rent  Air Pollution  \\\n",
       "459       Porter Ranch  34.280038 -118.541372       3500.0          10.37   \n",
       "638        Beverlywood  34.041931 -118.393355       3463.0          12.05   \n",
       "362  Pacific Palisades  34.049658 -118.520291       3413.0          11.21   \n",
       "585            Tarzana  34.145344 -118.554520       3299.0          10.37   \n",
       "966         West Hills  34.202780 -118.647799       3293.0          10.37   \n",
       "\n",
       "     Park Counts  tract number                    Location  \n",
       "459     4.242716        108101   (34.280038, -118.5413715)  \n",
       "638     0.000000        269500  (34.0419315, -118.3933555)  \n",
       "362     9.178486        262501   (34.049658, -118.5202905)  \n",
       "585    76.286455        139802  (34.1453435, -118.5545195)  \n",
       "966     0.607272        134421  (34.2027805, -118.6477985)  "
      ]
     },
     "execution_count": 141,
     "metadata": {},
     "output_type": "execute_result"
    }
   ],
   "source": [
    "# Variables\n",
    "merged_low_pollution = merged_df_clean_nan.nsmallest(5, 'Air Pollution')\n",
    "merged_high_pollution = merged_df_clean_nan.nlargest(5, 'Air Pollution')\n",
    "\n",
    "merged_low_park = merged_df_clean_nan.nsmallest(5, 'Park Counts')\n",
    "merged_high_park = merged_df_clean_nan.nlargest(5, 'Park Counts')\n",
    "\n",
    "merged_low_rent = merged_df_clean_nan.nsmallest(5, 'Median Rent')\n",
    "merged_high_rent = merged_df_clean_nan.nlargest(5, 'Median Rent')\n",
    "\n",
    "merged_high_rent"
   ]
  },
  {
   "cell_type": "markdown",
   "metadata": {},
   "source": [
    "#### ECDF for air pollution"
   ]
  },
  {
   "cell_type": "code",
   "execution_count": 142,
   "metadata": {
    "scrolled": true
   },
   "outputs": [
    {
     "data": {
      "image/png": "[encoded data removed]",
      "text/plain": [
       "<Figure size 432x288 with 1 Axes>"
      ]
     },
     "metadata": {
      "needs_background": "light"
     },
     "output_type": "display_data"
    },
    {
     "data": {
      "text/plain": [
       "<Figure size 432x288 with 0 Axes>"
      ]
     },
     "metadata": {},
     "output_type": "display_data"
    }
   ],
   "source": [
    "x = np.sort(air_array)\n",
    "y = np.arange(1, len(x)+1) / len(x)\n",
    "_ = plt.plot(x, y, marker='.', linestyle='none')\n",
    "_ = plt.xlabel('Pollution Counts')\n",
    "_ = plt.ylabel('ECDF')\n",
    "\n",
    "# Add percentile markers\n",
    "percentiles = np.array([2.5,25, 50, 75, 97.5])\n",
    "ptiles_air = np.percentile(air_array, percentiles)\n",
    "_ = plt.plot(ptiles_air, percentiles/100, marker='D', color='red',\n",
    "         linestyle='none')\n",
    "\n",
    "plt.margins(0.02) # Keeps data off plot edges\n",
    "plt.show()\n",
    "plt.savefig('air_pollution_ecdf.png')"
   ]
  },
  {
   "cell_type": "code",
   "execution_count": 143,
   "metadata": {},
   "outputs": [
    {
     "data": {
      "image/png": "[encoded data removed]",
      "text/plain": [
       "<Figure size 432x288 with 1 Axes>"
      ]
     },
     "metadata": {
      "needs_background": "light"
     },
     "output_type": "display_data"
    }
   ],
   "source": [
    "for i in range(50):\n",
    "    # Generate bootstrap sample:\n",
    "    bs_sample = np.random.choice(air_array, size=len(air_array))\n",
    "\n",
    "    # Compute and plot ECDF from bootstrap sample\n",
    "    x, y = ecdf(bs_sample)\n",
    "    _ = plt.plot(x, y, marker='.', linestyle='none',\n",
    "                 color='gray', alpha=0.1)\n",
    "\n",
    "# Compute and plot ECDF from original data\n",
    "x, y = ecdf(air_array)\n",
    "_ = plt.plot(x, y, marker='.')\n",
    "_ = plt.xlabel('Pollution Counts')\n",
    "_ = plt.ylabel('ECDF')\n",
    "\n",
    "# Add percentile markers\n",
    "percentiles = np.array([2.5,25, 50, 75, 97.5])\n",
    "ptiles_air = np.percentile(air_array, percentiles)\n",
    "_ = plt.plot(ptiles_air, percentiles/100, marker='D', color='red',\n",
    "         linestyle='none')\n",
    "\n",
    "\n",
    "# Make margins and label axes\n",
    "plt.margins(0.02)"
   ]
  },
  {
   "cell_type": "markdown",
   "metadata": {},
   "source": [
    "#### Determine if Air Counts is normally distributed by comparing to theoretical distribution"
   ]
  },
  {
   "cell_type": "code",
   "execution_count": 149,
   "metadata": {},
   "outputs": [
    {
     "data": {
      "image/png": "[encoded data removed]",
      "text/plain": [
       "<Figure size 432x288 with 1 Axes>"
      ]
     },
     "metadata": {
      "needs_background": "light"
     },
     "output_type": "display_data"
    }
   ],
   "source": [
    "# Compute mean and standard deviation: mu, sigma\n",
    "mu = np.mean(merged_df_clean_nan[\"Air Pollution\"])\n",
    "sigma = np.std(merged_df_clean_nan[\"Air Pollution\"])\n",
    "\n",
    "# Sample out of a normal distribution with this mu and sigma: samples\n",
    "samples = np.random.normal(mu, sigma, size = 10000)\n",
    "\n",
    "# Get the CDF of the samples and of the data\n",
    "x_theor, y_theor = ecdf(samples)\n",
    "x, y = ecdf(merged_df_clean_nan[\"Air Pollution\"])\n",
    "\n",
    "# Plot the CDFs and show the plot\n",
    "_ = plt.plot(x_theor, y_theor)\n",
    "_ = plt.plot(x, y, marker='.', linestyle='none')\n",
    "_ = plt.xlabel('Park Count')\n",
    "_ = plt.ylabel('CDF')\n",
    "plt.show()"
   ]
  },
  {
   "cell_type": "markdown",
   "metadata": {},
   "source": [
    "### Distribution of Park Count Data"
   ]
  },
  {
   "cell_type": "code",
   "execution_count": 144,
   "metadata": {},
   "outputs": [
    {
     "data": {
      "image/png": "[encoded data removed]",
      "text/plain": [
       "<Figure size 432x288 with 1 Axes>"
      ]
     },
     "metadata": {
      "needs_background": "light"
     },
     "output_type": "display_data"
    }
   ],
   "source": [
    "x = np.sort(park_array)\n",
    "y = np.arange(1, len(x)+1) / len(x)\n",
    "_ = plt.plot(x, y, marker='.', linestyle='none')\n",
    "_ = plt.xlabel('Park Counts')\n",
    "_ = plt.ylabel('ECDF')\n",
    "\n",
    "\n",
    "# Add percentile markers\n",
    "percentiles = np.array([2.5, 25, 50, 75, 97.5])\n",
    "ptiles_park = np.percentile(park_array, percentiles)\n",
    "_ = plt.plot(ptiles_park, percentiles/100, marker='D', color='red', linestyle='none')\n",
    "\n",
    "plt.margins(0.02) # Keeps data off plot edges\n",
    "plt.show()\n"
   ]
  },
  {
   "cell_type": "code",
   "execution_count": 145,
   "metadata": {},
   "outputs": [
    {
     "data": {
      "image/png": "[encoded data removed]",
      "text/plain": [
       "<Figure size 432x288 with 1 Axes>"
      ]
     },
     "metadata": {
      "needs_background": "light"
     },
     "output_type": "display_data"
    }
   ],
   "source": [
    "for i in range(50):\n",
    "    # Generate bootstrap sample:\n",
    "    bs_sample = np.random.choice(park_array, size=len(park_array))\n",
    "\n",
    "    # Compute and plot ECDF from bootstrap sample\n",
    "    x, y = ecdf(bs_sample)\n",
    "    _ = plt.plot(x, y, marker='.', linestyle='none',\n",
    "                 color='gray', alpha=0.1)\n",
    "\n",
    "# Compute and plot ECDF from original data\n",
    "x, y = ecdf(park_array)\n",
    "_ = plt.plot(x, y, marker='.')\n",
    "_ = plt.xlabel('Park Counts')\n",
    "_ = plt.ylabel('ECDF')\n",
    "\n",
    "# Add percentile markers\n",
    "percentiles = np.array([2.5, 25, 50, 75, 97.5])\n",
    "ptiles_park = np.percentile(park_array, percentiles)\n",
    "_ = plt.plot(ptiles_park, percentiles/100, marker='D', color='red', linestyle='none')\n",
    "\n",
    "\n",
    "# Make margins and label axes\n",
    "plt.margins(0.02)\n",
    "plt.savefig(\"park_ecdf.png\")"
   ]
  },
  {
   "cell_type": "markdown",
   "metadata": {},
   "source": [
    "#### Determine if Park Counts is normally distributed by comparing to theoretical distribution"
   ]
  },
  {
   "cell_type": "code",
   "execution_count": 150,
   "metadata": {},
   "outputs": [
    {
     "data": {
      "image/png": "[encoded data removed]",
      "text/plain": [
       "<Figure size 432x288 with 1 Axes>"
      ]
     },
     "metadata": {
      "needs_background": "light"
     },
     "output_type": "display_data"
    }
   ],
   "source": [
    "# Compute mean and standard deviation: mu, sigma\n",
    "mu = np.mean(merged_df_clean_nan[\"Park Counts\"])\n",
    "sigma = np.std(merged_df_clean_nan[\"Park Counts\"])\n",
    "\n",
    "# Sample out of a normal distribution with this mu and sigma: samples\n",
    "samples = np.random.normal(mu, sigma, size = 10000)\n",
    "\n",
    "# Get the CDF of the samples and of the data\n",
    "x_theor, y_theor = ecdf(samples)\n",
    "x, y = ecdf(merged_df_clean_nan[\"Park Counts\"])\n",
    "\n",
    "# Plot the CDFs and show the plot\n",
    "_ = plt.plot(x_theor, y_theor)\n",
    "_ = plt.plot(x, y, marker='.', linestyle='none')\n",
    "_ = plt.xlabel('Park Count')\n",
    "_ = plt.ylabel('CDF')\n",
    "plt.show()"
   ]
  },
  {
   "cell_type": "markdown",
   "metadata": {},
   "source": [
    "### Distribution of Rent Data"
   ]
  },
  {
   "cell_type": "code",
   "execution_count": 146,
   "metadata": {},
   "outputs": [
    {
     "data": {
      "image/png": "[encoded data removed]",
      "text/plain": [
       "<Figure size 432x288 with 1 Axes>"
      ]
     },
     "metadata": {
      "needs_background": "light"
     },
     "output_type": "display_data"
    }
   ],
   "source": [
    "x = np.sort(rent_array)\n",
    "y = np.arange(1, len(x)+1) / len(x)\n",
    "_ = plt.plot(x, y, marker='.', linestyle='none')\n",
    "_ = plt.xlabel('Park Counts')\n",
    "_ = plt.ylabel('ECDF')\n",
    "\n",
    "percentiles = np.array([2.5, 25, 50, 75, 97.5])\n",
    "ptiles_rent = np.percentile(rent_array, percentiles)\n",
    "_ = plt.plot(ptiles_rent, percentiles/100, marker='D', color='red', linestyle='none')\n",
    "\n",
    "plt.margins(0.02) # Keeps data off plot edges\n",
    "plt.show()"
   ]
  },
  {
   "cell_type": "markdown",
   "metadata": {},
   "source": [
    "### Distribution"
   ]
  },
  {
   "cell_type": "code",
   "execution_count": 147,
   "metadata": {},
   "outputs": [
    {
     "data": {
      "image/png": "[encoded data removed]",
      "text/plain": [
       "<Figure size 432x288 with 1 Axes>"
      ]
     },
     "metadata": {
      "needs_background": "light"
     },
     "output_type": "display_data"
    }
   ],
   "source": [
    "# Compute mean and standard deviation: mu, sigma\n",
    "mu = np.mean(rent_array)\n",
    "sigma = np.std(rent_array)\n",
    "\n",
    "# Sample out of a normal distribution with this mu and sigma: samples\n",
    "samples = np.random.normal(mu, sigma, size = 10000)\n",
    "\n",
    "# Get the CDF of the samples and of the data\n",
    "x_theor, y_theor = ecdf(samples)\n",
    "x, y = ecdf(rent_array)\n",
    "\n",
    "# Plot the CDFs and show the plot\n",
    "_ = plt.plot(x_theor, y_theor)\n",
    "_ = plt.plot(x, y, marker='.', linestyle='none')\n",
    "_ = plt.legend(labels = [\"theoretical\", \"empircal\"])\n",
    "_ = plt.xlabel('Median Rent Prices ($)')\n",
    "_ = plt.ylabel('CDF')\n",
    "plt.show()"
   ]
  },
  {
   "cell_type": "markdown",
   "metadata": {},
   "source": [
    "### Visualizing the distribution of the Median Rental Price using Bootstrapping"
   ]
  },
  {
   "cell_type": "code",
   "execution_count": 148,
   "metadata": {},
   "outputs": [
    {
     "data": {
      "image/png": "[encoded data removed]",
      "text/plain": [
       "<Figure size 432x288 with 1 Axes>"
      ]
     },
     "metadata": {
      "needs_background": "light"
     },
     "output_type": "display_data"
    }
   ],
   "source": [
    "for i in range(50):\n",
    "    # Generate bootstrap sample:\n",
    "    bs_sample = np.random.choice(rent_array, size=len(rent_array))\n",
    "\n",
    "    # Compute and plot ECDF from bootstrap sample\n",
    "    x, y = ecdf(bs_sample)\n",
    "    _ = plt.plot(x, y, marker='.', linestyle='none',\n",
    "                 color='gray', alpha=0.1)\n",
    "\n",
    "# Compute and plot ECDF from original data\n",
    "x, y = ecdf(rent_array)\n",
    "_ = plt.plot(x, y, marker='.')\n",
    "_ = plt.xlabel('Median Rental ($)')\n",
    "_ = plt.ylabel('ECDF')\n",
    "\n",
    "percentiles = np.array([2.5, 25, 50, 75, 97.5])\n",
    "ptiles_rent = np.percentile(rent_array, percentiles)\n",
    "_ = plt.plot(ptiles_rent, percentiles/100, marker='D', color='red', linestyle='none')\n",
    "\n",
    "\n",
    "# Make margins and label axes\n",
    "plt.margins(0.02)"
   ]
  },
  {
   "cell_type": "markdown",
   "metadata": {},
   "source": [
    "### Begin Covariance and Pearson correlation coefficient Analysis "
   ]
  },
  {
   "cell_type": "code",
   "execution_count": 151,
   "metadata": {},
   "outputs": [
    {
     "data": {
      "image/png": "[encoded data removed]",
      "text/plain": [
       "<Figure size 432x288 with 1 Axes>"
      ]
     },
     "metadata": {
      "needs_background": "light"
     },
     "output_type": "display_data"
    }
   ],
   "source": [
    "_ = plt.plot(air_array, rent_array, marker='.', linestyle='none')\n",
    "\n",
    "\n",
    "# Label the axes\n",
    "_ = plt.ylabel('Median Rent ($)')\n",
    "_ = plt.xlabel('Air Pollution (2.5 pmp)')\n",
    "\n",
    "# Show the result\n",
    "plt.show()"
   ]
  },
  {
   "cell_type": "code",
   "execution_count": 152,
   "metadata": {},
   "outputs": [
    {
     "data": {
      "image/png": "[encoded data removed]",
      "text/plain": [
       "<Figure size 432x288 with 1 Axes>"
      ]
     },
     "metadata": {
      "needs_background": "light"
     },
     "output_type": "display_data"
    }
   ],
   "source": [
    "_ = plt.plot(park_array, rent_array, marker='.', linestyle='none')\n",
    "\n",
    "\n",
    "# Label the axes\n",
    "_ = plt.ylabel('Median Rent ($)')\n",
    "_ = plt.xlabel('Park Density')\n",
    "\n",
    "# Show the result\n",
    "plt.show()"
   ]
  },
  {
   "cell_type": "markdown",
   "metadata": {},
   "source": [
    "### Compute the covariance"
   ]
  },
  {
   "cell_type": "code",
   "execution_count": 153,
   "metadata": {},
   "outputs": [
    {
     "name": "stdout",
     "output_type": "stream",
     "text": [
      "[[ 7.05273837e-01 -1.74143542e+02]\n",
      " [-1.74143542e+02  2.52319967e+05]]\n",
      "-174.1435417495522\n"
     ]
    }
   ],
   "source": [
    "# Compute the covariance matrix: covariance_matrix\n",
    "covariance_matrix = np.cov(air_array, rent_array)\n",
    "\n",
    "# Print covariance matrix\n",
    "print(covariance_matrix)\n",
    "\n",
    "# Extract covariance of length and width of petals: petal_cov\n",
    "rent_air_cov = covariance_matrix[0,1]\n",
    "\n",
    "# Print the length/width covariance\n",
    "print(rent_air_cov)"
   ]
  },
  {
   "cell_type": "code",
   "execution_count": 154,
   "metadata": {},
   "outputs": [
    {
     "name": "stdout",
     "output_type": "stream",
     "text": [
      "[[   345.41406121   2555.22988943]\n",
      " [  2555.22988943 252319.96748398]]\n",
      "2555.229889431639\n"
     ]
    }
   ],
   "source": [
    "# Compute the covariance matrix: covariance_matrix\n",
    "covariance_matrix = np.cov(park_array, rent_array)\n",
    "\n",
    "# Print covariance matrix\n",
    "print(covariance_matrix)\n",
    "\n",
    "# Extract covariance of length and width of petals: petal_cov\n",
    "rent_park_cov = covariance_matrix[0,1]\n",
    "\n",
    "# Print the length/width covariance\n",
    "print(rent_park_cov)\n"
   ]
  },
  {
   "cell_type": "markdown",
   "metadata": {},
   "source": [
    "### Computing the Pearson correlation coefficient\n"
   ]
  },
  {
   "cell_type": "code",
   "execution_count": 155,
   "metadata": {},
   "outputs": [],
   "source": [
    "def pearson_r(x, y):\n",
    "    # Compute correlation matrix: corr_mat\n",
    "    corr_mat = np.corrcoef(x, y)\n",
    "\n",
    "    # Return entry [0,1]\n",
    "    return corr_mat[0,1]"
   ]
  },
  {
   "cell_type": "code",
   "execution_count": 156,
   "metadata": {},
   "outputs": [
    {
     "name": "stdout",
     "output_type": "stream",
     "text": [
      "-0.41281234500478764\n"
     ]
    }
   ],
   "source": [
    "# Compute Pearson correlation coefficient for median rent and air quality: r\n",
    "r = pearson_r(air_array, rent_array)\n",
    "\n",
    "# Print the result\n",
    "print(r)\n"
   ]
  },
  {
   "cell_type": "code",
   "execution_count": 157,
   "metadata": {},
   "outputs": [
    {
     "name": "stdout",
     "output_type": "stream",
     "text": [
      "slope = -246.91620848287596 Median Rental Price ($) / Air pullution (2.5 ppm)\n",
      "intercept = 4320.66336267108 Median Rental Price ($)\n"
     ]
    },
    {
     "data": {
      "image/png": "[encoded data removed]",
      "text/plain": [
       "<Figure size 432x288 with 1 Axes>"
      ]
     },
     "metadata": {
      "needs_background": "light"
     },
     "output_type": "display_data"
    }
   ],
   "source": [
    "# Plot the median rent $ rate versus air quality\n",
    "_ = plt.plot(air_array, rent_array, marker='.', linestyle='none')\n",
    "plt.margins(0.02)\n",
    "_ = plt.xlabel('Air Pollution (2.5 ppm)')\n",
    "_ = plt.ylabel('Median Rental Price ($)')\n",
    "\n",
    "# Perform a linear regression using np.polyfit(): a, b\n",
    "a, b = np.polyfit(air_array, rent_array, 1)\n",
    "\n",
    "# Print the results to the screen\n",
    "print('slope =', a, 'Median Rental Price ($) / Air pullution (2.5 ppm)')\n",
    "print('intercept =', b, 'Median Rental Price ($)')\n",
    "\n",
    "# Make theoretical line to plot\n",
    "x = np.array([0, 300])\n",
    "y = a * x + b\n",
    "\n",
    "# Add regression line to your plot\n",
    "_ = plt.plot(x, y)\n",
    "\n",
    "# Draw the plot\n",
    "plt.show()"
   ]
  },
  {
   "cell_type": "code",
   "execution_count": 158,
   "metadata": {},
   "outputs": [
    {
     "data": {
      "image/png": "[encoded data removed]",
      "text/plain": [
       "<Figure size 432x288 with 1 Axes>"
      ]
     },
     "metadata": {
      "needs_background": "light"
     },
     "output_type": "display_data"
    }
   ],
   "source": [
    "# Determine how optimal is the residual sum of squares\n",
    "\n",
    "# Specify slopes to consider: a_vals\n",
    "a_vals = np.linspace(0, 0.1, 200)\n",
    "\n",
    "# Initialize sum of square of residuals: rss\n",
    "rss = np.empty_like(a_vals)\n",
    "\n",
    "# Compute sum of square of residuals for each value of a_vals\n",
    "for i, a in enumerate(a_vals):\n",
    "    rss[i] = np.sum((rent_array - a * air_array - b)**2)\n",
    "\n",
    "# Plot the RSS\n",
    "plt.plot(a_vals, rss, '-')\n",
    "plt.xlabel('slope (Median Rent Prices ($) / Air Pollution (2.5 ppm))')\n",
    "plt.ylabel('sum of square of residuals')\n",
    "\n",
    "plt.show()\n"
   ]
  },
  {
   "cell_type": "code",
   "execution_count": 159,
   "metadata": {},
   "outputs": [
    {
     "name": "stdout",
     "output_type": "stream",
     "text": [
      "0.27370590206056333\n"
     ]
    }
   ],
   "source": [
    "# Compute Pearson correlation coefficient for median rent and park density: r\n",
    "r = pearson_r(park_array, rent_array)\n",
    "\n",
    "# Print the result\n",
    "print(r)"
   ]
  },
  {
   "cell_type": "code",
   "execution_count": 160,
   "metadata": {},
   "outputs": [
    {
     "name": "stdout",
     "output_type": "stream",
     "text": [
      "slope = -246.91620848287596 Median Rental Price ($) / Park Counts\n",
      "intercept = 4320.66336267108 Median Rental Price ($)\n"
     ]
    },
    {
     "data": {
      "image/png": "[encoded data removed]",
      "text/plain": [
       "<Figure size 432x288 with 1 Axes>"
      ]
     },
     "metadata": {
      "needs_background": "light"
     },
     "output_type": "display_data"
    }
   ],
   "source": [
    "# Plot the air pollution rate versus median rent $\n",
    "_ = plt.plot(park_array, rent_array, marker='.', linestyle='none')\n",
    "plt.margins(0.02)\n",
    "_ = plt.xlabel('Park Counts')\n",
    "_ = plt.ylabel('Median Rental Price ($)')\n",
    "\n",
    "# Perform a linear regression using np.polyfit(): a, b\n",
    "a, b = np.polyfit(air_array, rent_array, 1)\n",
    "\n",
    "# Print the results to the screen\n",
    "print('slope =', a, 'Median Rental Price ($) / Park Counts')\n",
    "print('intercept =', b, 'Median Rental Price ($)')\n",
    "\n",
    "# Make theoretical line to plot\n",
    "x = np.array([0, 20])\n",
    "y = a * x + b\n",
    "\n",
    "# Add regression line to your plot\n",
    "_ = plt.plot(x, y)\n",
    "\n",
    "# Draw the plot\n",
    "plt.show()"
   ]
  },
  {
   "cell_type": "code",
   "execution_count": 161,
   "metadata": {},
   "outputs": [
    {
     "data": {
      "image/png": "[encoded data removed]",
      "text/plain": [
       "<Figure size 432x288 with 1 Axes>"
      ]
     },
     "metadata": {
      "needs_background": "light"
     },
     "output_type": "display_data"
    }
   ],
   "source": [
    "# Determine how optimal is the residual sum of squares\n",
    "\n",
    "# Specify slopes to consider: a_vals\n",
    "a_vals = np.linspace(0, 0.1, 200)\n",
    "\n",
    "# Initialize sum of square of residuals: rss\n",
    "rss = np.empty_like(a_vals)\n",
    "\n",
    "# Compute sum of square of residuals for each value of a_vals\n",
    "for i, a in enumerate(a_vals):\n",
    "    rss[i] = np.sum((rent_array - a * park_array - b)**2)\n",
    "\n",
    "# Plot the RSS\n",
    "plt.plot(a_vals, rss, '-')\n",
    "plt.xlabel('slope (Median Rent Prices ($) / Park Count)')\n",
    "plt.ylabel('sum of square of residuals')\n",
    "\n",
    "plt.show()\n",
    "\n"
   ]
  },
  {
   "cell_type": "markdown",
   "metadata": {},
   "source": [
    "### Bootstrapping Functions\n",
    "* Evaluate the Probability density function using bootstrapping methods\n",
    "* Evaluate the Probability density function using bootstrapping methods"
   ]
  },
  {
   "cell_type": "code",
   "execution_count": 162,
   "metadata": {},
   "outputs": [],
   "source": [
    "def bootstrap_replicate_1d(data, func):\n",
    "    return func(np.random.choice(data, size=len(data)))"
   ]
  },
  {
   "cell_type": "code",
   "execution_count": 163,
   "metadata": {},
   "outputs": [],
   "source": [
    "def draw_bs_reps(data, func, size=1):\n",
    "\n",
    "    # Initialize array of replicates: bs_replicates\n",
    "    bs_replicates = np.empty(size)\n",
    "\n",
    "    # Generate replicates\n",
    "    for i in range(size):\n",
    "        bs_replicates[i] = bootstrap_replicate_1d(data, func)\n",
    "\n",
    "    return bs_replicates\n"
   ]
  },
  {
   "cell_type": "code",
   "execution_count": 164,
   "metadata": {},
   "outputs": [],
   "source": [
    "# This function to be used for linear regression analysis\n",
    "def draw_bs_pairs_linreg(x, y, size=1):\n",
    "\n",
    "    # Set up array of indices to sample from: inds\n",
    "    inds = np.arange(len(x))\n",
    "\n",
    "    # Initialize replicates: bs_slope_reps, bs_intercept_reps\n",
    "    bs_slope_reps = np.empty(size)\n",
    "    bs_intercept_reps = np.empty(size)\n",
    "\n",
    "    # Generate replicates\n",
    "    for i in range(size):\n",
    "        bs_inds = np.random.choice(inds, size=len(inds))\n",
    "        bs_x, bs_y = x[bs_inds], y[bs_inds]\n",
    "        bs_slope_reps[i], bs_intercept_reps[i] = np.polyfit(bs_x, bs_y, 1)\n",
    "\n",
    "    return bs_slope_reps, bs_intercept_reps\n"
   ]
  },
  {
   "cell_type": "markdown",
   "metadata": {},
   "source": [
    "### Bootstrap replicates of the mean and the SEM of the Rent Data"
   ]
  },
  {
   "cell_type": "code",
   "execution_count": 165,
   "metadata": {},
   "outputs": [
    {
     "name": "stdout",
     "output_type": "stream",
     "text": [
      "22.19933668371302\n",
      "22.414751537566108\n"
     ]
    },
    {
     "name": "stderr",
     "output_type": "stream",
     "text": [
      "/anaconda3/envs/PythonData/lib/python3.6/site-packages/matplotlib/axes/_axes.py:6521: MatplotlibDeprecationWarning: \n",
      "The 'normed' kwarg was deprecated in Matplotlib 2.1 and will be removed in 3.1. Use 'density' instead.\n",
      "  alternative=\"'density'\", removal=\"3.1\")\n"
     ]
    },
    {
     "data": {
      "image/png": "[encoded data removed]",
      "text/plain": [
       "<Figure size 432x288 with 1 Axes>"
      ]
     },
     "metadata": {
      "needs_background": "light"
     },
     "output_type": "display_data"
    }
   ],
   "source": [
    "# Take 10,000 bootstrap replicates of the mean: bs_replicates\n",
    "bs_replicates = draw_bs_reps(rent_array, func = np.mean, size = 10000)\n",
    "\n",
    "# Compute and print SEM\n",
    "sem = np.std(rent_array) / np.sqrt(len(rent_array))\n",
    "print(sem)\n",
    "\n",
    "# Compute and print standard deviation of bootstrap replicates\n",
    "bs_std = np.std(bs_replicates)\n",
    "print(bs_std)\n",
    "\n",
    "# Make a histogram of the results\n",
    "_ = plt.hist(bs_replicates, bins=50, normed=True)\n",
    "_ = plt.xlabel('Median Rental Price ($)')\n",
    "_ = plt.ylabel('PDF')\n",
    "\n",
    "# Show the plot\n",
    "plt.show()"
   ]
  },
  {
   "cell_type": "markdown",
   "metadata": {},
   "source": [
    "### Bootstrap replicates of the variance for the Rent Data"
   ]
  },
  {
   "cell_type": "code",
   "execution_count": 166,
   "metadata": {},
   "outputs": [
    {
     "name": "stderr",
     "output_type": "stream",
     "text": [
      "/anaconda3/envs/PythonData/lib/python3.6/site-packages/matplotlib/axes/_axes.py:6521: MatplotlibDeprecationWarning: \n",
      "The 'normed' kwarg was deprecated in Matplotlib 2.1 and will be removed in 3.1. Use 'density' instead.\n",
      "  alternative=\"'density'\", removal=\"3.1\")\n"
     ]
    },
    {
     "data": {
      "image/png": "[encoded data removed]",
      "text/plain": [
       "<Figure size 432x288 with 1 Axes>"
      ]
     },
     "metadata": {
      "needs_background": "light"
     },
     "output_type": "display_data"
    }
   ],
   "source": [
    "# Generate 10,000 bootstrap replicates of the variance: bs_replicates\n",
    "bs_replicates = draw_bs_reps(rent_array, func = np.var, size = 10000)\n",
    "\n",
    "# Put the variance in units of square centimeters\n",
    "bs_replicates = bs_replicates/100\n",
    "\n",
    "# Make a histogram of the results\n",
    "_ = plt.hist(bs_replicates, bins = 50, normed = True)\n",
    "_ = plt.xlabel('variance of median rental price ($)')\n",
    "_ = plt.ylabel('PDF')\n",
    "\n",
    "# Show the plot\n",
    "plt.show()\n"
   ]
  },
  {
   "cell_type": "markdown",
   "metadata": {},
   "source": [
    "### Bootstrap replicates of the mean and the SEM air quality data"
   ]
  },
  {
   "cell_type": "code",
   "execution_count": 167,
   "metadata": {},
   "outputs": [
    {
     "name": "stdout",
     "output_type": "stream",
     "text": [
      "0.03711445388806841\n",
      "0.037186423711226095\n"
     ]
    },
    {
     "name": "stderr",
     "output_type": "stream",
     "text": [
      "/anaconda3/envs/PythonData/lib/python3.6/site-packages/matplotlib/axes/_axes.py:6521: MatplotlibDeprecationWarning: \n",
      "The 'normed' kwarg was deprecated in Matplotlib 2.1 and will be removed in 3.1. Use 'density' instead.\n",
      "  alternative=\"'density'\", removal=\"3.1\")\n"
     ]
    },
    {
     "data": {
      "image/png": "[encoded data removed]",
      "text/plain": [
       "<Figure size 432x288 with 1 Axes>"
      ]
     },
     "metadata": {
      "needs_background": "light"
     },
     "output_type": "display_data"
    }
   ],
   "source": [
    "# Take 10,000 bootstrap replicates of the mean: bs_replicates\n",
    "bs_replicates = draw_bs_reps(air_array, func = np.mean, size = 10000)\n",
    "\n",
    "# Compute and print SEM\n",
    "sem = np.std(air_array) / np.sqrt(len(air_array))\n",
    "print(sem)\n",
    "\n",
    "# Compute and print standard deviation of bootstrap replicates\n",
    "bs_std = np.std(bs_replicates)\n",
    "print(bs_std)\n",
    "\n",
    "# Make a histogram of the results\n",
    "_ = plt.hist(bs_replicates, bins=50, normed=True)\n",
    "_ = plt.xlabel('Air Pollution (2.5 ppm)')\n",
    "_ = plt.ylabel('PDF')\n",
    "\n",
    "# Show the plot\n",
    "plt.show()"
   ]
  },
  {
   "cell_type": "markdown",
   "metadata": {},
   "source": [
    "### Bootstrap replicates of the variance for the Air Pollution Data"
   ]
  },
  {
   "cell_type": "code",
   "execution_count": 168,
   "metadata": {},
   "outputs": [
    {
     "name": "stderr",
     "output_type": "stream",
     "text": [
      "/anaconda3/envs/PythonData/lib/python3.6/site-packages/matplotlib/axes/_axes.py:6521: MatplotlibDeprecationWarning: \n",
      "The 'normed' kwarg was deprecated in Matplotlib 2.1 and will be removed in 3.1. Use 'density' instead.\n",
      "  alternative=\"'density'\", removal=\"3.1\")\n"
     ]
    },
    {
     "data": {
      "image/png": "[encoded data removed]",
      "text/plain": [
       "<Figure size 432x288 with 1 Axes>"
      ]
     },
     "metadata": {
      "needs_background": "light"
     },
     "output_type": "display_data"
    }
   ],
   "source": [
    "# Generate 10,000 bootstrap replicates of the variance: bs_replicates\n",
    "bs_replicates = draw_bs_reps(air_array, func = np.var, size = 10000)\n",
    "\n",
    "# Put the variance in units of square centimeters\n",
    "bs_replicates = bs_replicates/100\n",
    "\n",
    "# Make a histogram of the results\n",
    "_ = plt.hist(bs_replicates, bins = 50, normed = True)\n",
    "_ = plt.xlabel('variance of air pollution counts (2.5 ppm)')\n",
    "_ = plt.ylabel('PDF')\n",
    "\n",
    "# Show the plot\n",
    "plt.show()\n",
    "\n"
   ]
  },
  {
   "cell_type": "markdown",
   "metadata": {},
   "source": [
    "### Bootstrap replicates of the mean and the SEM of the Park Data"
   ]
  },
  {
   "cell_type": "code",
   "execution_count": 169,
   "metadata": {},
   "outputs": [
    {
     "name": "stdout",
     "output_type": "stream",
     "text": [
      "0.821361220589279\n",
      "0.8091543811428569\n"
     ]
    },
    {
     "name": "stderr",
     "output_type": "stream",
     "text": [
      "/anaconda3/envs/PythonData/lib/python3.6/site-packages/matplotlib/axes/_axes.py:6521: MatplotlibDeprecationWarning: \n",
      "The 'normed' kwarg was deprecated in Matplotlib 2.1 and will be removed in 3.1. Use 'density' instead.\n",
      "  alternative=\"'density'\", removal=\"3.1\")\n"
     ]
    },
    {
     "data": {
      "image/png": "[encoded data removed]",
      "text/plain": [
       "<Figure size 432x288 with 1 Axes>"
      ]
     },
     "metadata": {
      "needs_background": "light"
     },
     "output_type": "display_data"
    }
   ],
   "source": [
    "# Take 10,000 bootstrap replicates of the mean: bs_replicates\n",
    "bs_replicates = draw_bs_reps(park_array, func = np.mean, size = 10000)\n",
    "\n",
    "# Compute and print SEM\n",
    "sem = np.std(park_array) / np.sqrt(len(park_array))\n",
    "print(sem)\n",
    "\n",
    "# Compute and print standard deviation of bootstrap replicates\n",
    "bs_std = np.std(bs_replicates)\n",
    "print(bs_std)\n",
    "\n",
    "# Make a histogram of the results\n",
    "_ = plt.hist(bs_replicates, bins=50, normed=True)\n",
    "_ = plt.xlabel('Park Counts')\n",
    "_ = plt.ylabel('PDF')\n",
    "\n",
    "# Show the plot\n",
    "plt.show()"
   ]
  },
  {
   "cell_type": "markdown",
   "metadata": {},
   "source": [
    "### Bootstrap replicates of the variance for the Park Pollution Data"
   ]
  },
  {
   "cell_type": "code",
   "execution_count": 170,
   "metadata": {},
   "outputs": [
    {
     "name": "stderr",
     "output_type": "stream",
     "text": [
      "/anaconda3/envs/PythonData/lib/python3.6/site-packages/matplotlib/axes/_axes.py:6521: MatplotlibDeprecationWarning: \n",
      "The 'normed' kwarg was deprecated in Matplotlib 2.1 and will be removed in 3.1. Use 'density' instead.\n",
      "  alternative=\"'density'\", removal=\"3.1\")\n"
     ]
    },
    {
     "data": {
      "image/png": "[encoded data removed]",
      "text/plain": [
       "<Figure size 432x288 with 1 Axes>"
      ]
     },
     "metadata": {
      "needs_background": "light"
     },
     "output_type": "display_data"
    }
   ],
   "source": [
    "# Generate 10,000 bootstrap replicates of the variance: bs_replicates\n",
    "bs_replicates = draw_bs_reps(park_array, func = np.var, size = 10000)\n",
    "\n",
    "# Put the variance in units of square centimeters\n",
    "bs_replicates = bs_replicates/100\n",
    "\n",
    "# Make a histogram of the results\n",
    "_ = plt.hist(bs_replicates, bins = 50, normed = True)\n",
    "_ = plt.xlabel('variance of park counts')\n",
    "_ = plt.ylabel('PDF')\n",
    "\n",
    "# Show the plot\n",
    "plt.show()\n",
    "\n",
    "\n"
   ]
  },
  {
   "cell_type": "markdown",
   "metadata": {},
   "source": [
    "### Linear Regressions"
   ]
  },
  {
   "cell_type": "code",
   "execution_count": 171,
   "metadata": {},
   "outputs": [],
   "source": [
    "# This function to be used for linear regression analysis\n",
    "def draw_bs_pairs_linreg(x, y, size=1):\n",
    "\n",
    "    # Set up array of indices to sample from: inds\n",
    "    inds = np.arange(len(x))\n",
    "\n",
    "    # Initialize replicates: bs_slope_reps, bs_intercept_reps\n",
    "    bs_slope_reps = np.empty(size)\n",
    "    bs_intercept_reps = np.empty(size)\n",
    "\n",
    "    # Generate replicates\n",
    "    for i in range(size):\n",
    "        bs_inds = np.random.choice(inds, size=len(inds))\n",
    "        bs_x, bs_y = x[bs_inds], y[bs_inds]\n",
    "        bs_slope_reps[i], bs_intercept_reps[i] = np.polyfit(bs_x, bs_y, 1)\n",
    "\n",
    "    return bs_slope_reps, bs_intercept_reps"
   ]
  },
  {
   "cell_type": "markdown",
   "metadata": {},
   "source": [
    "### Generate permutations from two samples\n",
    "* To test the hypothesis that two variables have identical probability distributions"
   ]
  },
  {
   "cell_type": "code",
   "execution_count": 172,
   "metadata": {},
   "outputs": [],
   "source": [
    "def permutation_sample(data1, data2):\n",
    "\n",
    "    # Concatenate the data sets: data\n",
    "    data = np.concatenate((data1, data2))\n",
    "\n",
    "    # Permute the concatenated array: permuted_data\n",
    "    permuted_data = np.random.permutation(data)\n",
    "\n",
    "    # Split the permuted array into two: perm_sample_1, perm_sample_2\n",
    "    perm_sample_1 = permuted_data[:len(data1)]\n",
    "    perm_sample_2 = permuted_data[len(data1):]\n",
    "\n",
    "    return perm_sample_1, perm_sample_2"
   ]
  },
  {
   "cell_type": "code",
   "execution_count": 173,
   "metadata": {},
   "outputs": [
    {
     "data": {
      "image/png": "[encoded data removed]",
      "text/plain": [
       "<Figure size 432x288 with 1 Axes>"
      ]
     },
     "metadata": {
      "needs_background": "light"
     },
     "output_type": "display_data"
    }
   ],
   "source": [
    "for i in range(50):\n",
    "    # Generate permutation samples\n",
    "    perm_sample_1, perm_sample_2 = permutation_sample(air_array, rent_array)\n",
    "\n",
    "\n",
    "    # Compute ECDFs\n",
    "    x_1, y_1 = ecdf(perm_sample_1)\n",
    "    x_2, y_2 = ecdf(perm_sample_2)\n",
    "\n",
    "    # Plot ECDFs of permutation sample\n",
    "    _ = plt.plot(x_1, y_1, marker='.', linestyle='none',\n",
    "                 color='red', alpha=0.02)\n",
    "    _ = plt.plot(x_2, y_2, marker='.', linestyle='none',\n",
    "                 color='blue', alpha=0.02)\n",
    "\n",
    "# Create and plot ECDFs from original data\n",
    "x_1, y_1 = ecdf(air_array)\n",
    "x_2, y_2 = ecdf(rent_array)\n",
    "_ = plt.plot(x_1, y_1, marker='.', linestyle='none', color='red')\n",
    "_ = plt.plot(x_2, y_2, marker='.', linestyle='none', color='blue')\n",
    "\n",
    "# Label axes, set margin, and show plot\n",
    "plt.margins(0.02)\n",
    "_ = plt.xlabel('Air pollution')\n",
    "_ = plt.ylabel('ECDF')\n",
    "plt.show()"
   ]
  },
  {
   "cell_type": "markdown",
   "metadata": {},
   "source": [
    "#### None of the ECDFs from the permutation samples overlap with the observed data, suggesting that the hypothesis is not commensurate with the data. Air pollution and median rain price are not identically distributed."
   ]
  },
  {
   "cell_type": "code",
   "execution_count": 174,
   "metadata": {},
   "outputs": [
    {
     "data": {
      "image/png": "[encoded data removed]",
      "text/plain": [
       "<Figure size 432x288 with 1 Axes>"
      ]
     },
     "metadata": {
      "needs_background": "light"
     },
     "output_type": "display_data"
    }
   ],
   "source": [
    "for i in range(50):\n",
    "    # Generate permutation samples\n",
    "    perm_sample_1, perm_sample_2 = permutation_sample(park_array, rent_array)\n",
    "\n",
    "\n",
    "    # Compute ECDFs\n",
    "    x_1, y_1 = ecdf(perm_sample_1)\n",
    "    x_2, y_2 = ecdf(perm_sample_2)\n",
    "\n",
    "    # Plot ECDFs of permutation sample\n",
    "    _ = plt.plot(x_1, y_1, marker='.', linestyle='none',\n",
    "                 color='red', alpha=0.02)\n",
    "    _ = plt.plot(x_2, y_2, marker='.', linestyle='none',\n",
    "                 color='blue', alpha=0.02)\n",
    "\n",
    "# Create and plot ECDFs from original data\n",
    "x_1, y_1 = ecdf(park_array)\n",
    "x_2, y_2 = ecdf(rent_array)\n",
    "_ = plt.plot(x_1, y_1, marker='.', linestyle='none', color='red')\n",
    "_ = plt.plot(x_2, y_2, marker='.', linestyle='none', color='blue')\n",
    "\n",
    "# Label axes, set margin, and show plot\n",
    "plt.margins(0.02)\n",
    "_ = plt.xlabel('Park Counts')\n",
    "_ = plt.ylabel('ECDF')\n",
    "plt.show()"
   ]
  },
  {
   "cell_type": "markdown",
   "metadata": {},
   "source": [
    "#### None of the ECDFs from the permutation samples overlap with the observed data, suggesting that the hypothesis is not commensurate with the data. Air pollution and median rain price are not identically distributed."
   ]
  },
  {
   "cell_type": "markdown",
   "metadata": {},
   "source": [
    "### Generating permutation replicates"
   ]
  },
  {
   "cell_type": "code",
   "execution_count": 175,
   "metadata": {},
   "outputs": [],
   "source": [
    "def draw_perm_reps(data_1, data_2, func, size=1):\n",
    "    \"\"\"Generate multiple permutation replicates.\"\"\"\n",
    "\n",
    "    # Initialize array of replicates: perm_replicates\n",
    "    perm_replicates = np.empty(size)\n",
    "\n",
    "    for i in range(size):\n",
    "        # Generate permutation sample\n",
    "        perm_sample_1, perm_sample_2 = permutation_sample(data_1, data_2)\n",
    "\n",
    "        # Compute the test statistic\n",
    "        perm_replicates[i] = func(perm_sample_1, perm_sample_2)\n",
    "\n",
    "    return perm_replicates"
   ]
  },
  {
   "cell_type": "code",
   "execution_count": 200,
   "metadata": {},
   "outputs": [
    {
     "data": {
      "text/html": [
       "<table class=\"simpletable\">\n",
       "<caption>OLS Regression Results</caption>\n",
       "<tr>\n",
       "  <th>Dep. Variable:</th>       <td>Median Rent</td>   <th>  R-squared:         </th> <td>   0.871</td> \n",
       "</tr>\n",
       "<tr>\n",
       "  <th>Model:</th>                   <td>OLS</td>       <th>  Adj. R-squared:    </th> <td>   0.871</td> \n",
       "</tr>\n",
       "<tr>\n",
       "  <th>Method:</th>             <td>Least Squares</td>  <th>  F-statistic:       </th> <td>   1724.</td> \n",
       "</tr>\n",
       "<tr>\n",
       "  <th>Date:</th>             <td>Fri, 01 Mar 2019</td> <th>  Prob (F-statistic):</th> <td>2.20e-227</td>\n",
       "</tr>\n",
       "<tr>\n",
       "  <th>Time:</th>                 <td>21:34:22</td>     <th>  Log-Likelihood:    </th> <td> -3928.0</td> \n",
       "</tr>\n",
       "<tr>\n",
       "  <th>No. Observations:</th>      <td>   511</td>      <th>  AIC:               </th> <td>   7860.</td> \n",
       "</tr>\n",
       "<tr>\n",
       "  <th>Df Residuals:</th>          <td>   509</td>      <th>  BIC:               </th> <td>   7869.</td> \n",
       "</tr>\n",
       "<tr>\n",
       "  <th>Df Model:</th>              <td>     2</td>      <th>                     </th>     <td> </td>    \n",
       "</tr>\n",
       "<tr>\n",
       "  <th>Covariance Type:</th>      <td>nonrobust</td>    <th>                     </th>     <td> </td>    \n",
       "</tr>\n",
       "</table>\n",
       "<table class=\"simpletable\">\n",
       "<tr>\n",
       "        <td></td>           <th>coef</th>     <th>std err</th>      <th>t</th>      <th>P>|t|</th>  <th>[0.025</th>    <th>0.975]</th>  \n",
       "</tr>\n",
       "<tr>\n",
       "  <th>Air Pollution</th> <td>  111.8905</td> <td>    1.996</td> <td>   56.054</td> <td> 0.000</td> <td>  107.969</td> <td>  115.812</td>\n",
       "</tr>\n",
       "<tr>\n",
       "  <th>Park Counts</th>   <td>    8.1625</td> <td>    1.257</td> <td>    6.493</td> <td> 0.000</td> <td>    5.693</td> <td>   10.632</td>\n",
       "</tr>\n",
       "</table>\n",
       "<table class=\"simpletable\">\n",
       "<tr>\n",
       "  <th>Omnibus:</th>       <td>130.518</td> <th>  Durbin-Watson:     </th> <td>   2.124</td>\n",
       "</tr>\n",
       "<tr>\n",
       "  <th>Prob(Omnibus):</th> <td> 0.000</td>  <th>  Jarque-Bera (JB):  </th> <td> 297.637</td>\n",
       "</tr>\n",
       "<tr>\n",
       "  <th>Skew:</th>          <td> 1.326</td>  <th>  Prob(JB):          </th> <td>2.34e-65</td>\n",
       "</tr>\n",
       "<tr>\n",
       "  <th>Kurtosis:</th>      <td> 5.636</td>  <th>  Cond. No.          </th> <td>    1.65</td>\n",
       "</tr>\n",
       "</table><br/><br/>Warnings:<br/>[1] Standard Errors assume that the covariance matrix of the errors is correctly specified."
      ],
      "text/plain": [
       "<class 'statsmodels.iolib.summary.Summary'>\n",
       "\"\"\"\n",
       "                            OLS Regression Results                            \n",
       "==============================================================================\n",
       "Dep. Variable:            Median Rent   R-squared:                       0.871\n",
       "Model:                            OLS   Adj. R-squared:                  0.871\n",
       "Method:                 Least Squares   F-statistic:                     1724.\n",
       "Date:                Fri, 01 Mar 2019   Prob (F-statistic):          2.20e-227\n",
       "Time:                        21:34:22   Log-Likelihood:                -3928.0\n",
       "No. Observations:                 511   AIC:                             7860.\n",
       "Df Residuals:                     509   BIC:                             7869.\n",
       "Df Model:                           2                                         \n",
       "Covariance Type:            nonrobust                                         \n",
       "=================================================================================\n",
       "                    coef    std err          t      P>|t|      [0.025      0.975]\n",
       "---------------------------------------------------------------------------------\n",
       "Air Pollution   111.8905      1.996     56.054      0.000     107.969     115.812\n",
       "Park Counts       8.1625      1.257      6.493      0.000       5.693      10.632\n",
       "==============================================================================\n",
       "Omnibus:                      130.518   Durbin-Watson:                   2.124\n",
       "Prob(Omnibus):                  0.000   Jarque-Bera (JB):              297.637\n",
       "Skew:                           1.326   Prob(JB):                     2.34e-65\n",
       "Kurtosis:                       5.636   Cond. No.                         1.65\n",
       "==============================================================================\n",
       "\n",
       "Warnings:\n",
       "[1] Standard Errors assume that the covariance matrix of the errors is correctly specified.\n",
       "\"\"\""
      ]
     },
     "execution_count": 200,
     "metadata": {},
     "output_type": "execute_result"
    }
   ],
   "source": [
    "X = merged_df_clean_nan[['Air Pollution', 'Park Counts']]\n",
    "y = rent_array\n",
    "\n",
    "# Fit and make the predictions by the model\n",
    "model = sm.OLS(y, X).fit()\n",
    "predictions = model.predict(X)\n",
    "\n",
    "# Print out the statistics\n",
    "model.summary()"
   ]
  },
  {
   "cell_type": "markdown",
   "metadata": {},
   "source": [
    "# Analysis is covariances & Linear Regressions"
   ]
  },
  {
   "cell_type": "code",
   "execution_count": 181,
   "metadata": {},
   "outputs": [
    {
     "name": "stdout",
     "output_type": "stream",
     "text": [
      "Dimensions of y before reshaping: (511,)\n",
      "Dimensions of X before reshaping: (511,)\n",
      "Dimensions of y after reshaping: (511, 1)\n",
      "Dimensions of X after reshaping: (511, 1)\n"
     ]
    }
   ],
   "source": [
    "# Create arrays for features and target variable\n",
    "y = merged_df_clean_nan['Median Rent'].values\n",
    "X = merged_df_clean_nan['Air Pollution'].values\n",
    "\n",
    "# Print the dimensions of X and y before reshaping\n",
    "print(\"Dimensions of y before reshaping: {}\".format(y.shape))\n",
    "print(\"Dimensions of X before reshaping: {}\".format(X.shape))\n",
    "\n",
    "# Reshape X and y\n",
    "y = y.reshape(-1, 1)\n",
    "X = X.reshape(-1, 1)\n",
    "\n",
    "# Print the dimensions of X and y after reshaping\n",
    "print(\"Dimensions of y after reshaping: {}\".format(y.shape))\n",
    "print(\"Dimensions of X after reshaping: {}\".format(X.shape))\n"
   ]
  },
  {
   "cell_type": "code",
   "execution_count": 183,
   "metadata": {},
   "outputs": [
    {
     "data": {
      "text/plain": [
       "Index(['Neighborhood', 'Lat', 'Lng', 'Median Rent', 'Air Pollution',\n",
       "       'Park Counts', 'tract number', 'Location'],\n",
       "      dtype='object')"
      ]
     },
     "execution_count": 183,
     "metadata": {},
     "output_type": "execute_result"
    }
   ],
   "source": [
    "merged_df_clean_nan.columns"
   ]
  },
  {
   "cell_type": "code",
   "execution_count": 184,
   "metadata": {},
   "outputs": [
    {
     "data": {
      "image/png": "[encoded data removed]",
      "text/plain": [
       "<Figure size 432x288 with 2 Axes>"
      ]
     },
     "metadata": {
      "needs_background": "light"
     },
     "output_type": "display_data"
    }
   ],
   "source": [
    "short_merged_df = merged_df_clean_nan[['Neighborhood', 'Median Rent', 'Air Pollution', 'Park Counts']]\n",
    "sns.heatmap(short_merged_df.corr(), square=True, cmap='RdYlGn')\n",
    "plt.savefig('air_park_rent_correlation.png')"
   ]
  },
  {
   "cell_type": "code",
   "execution_count": 186,
   "metadata": {},
   "outputs": [
    {
     "name": "stdout",
     "output_type": "stream",
     "text": [
      "               Median Rent  Air Pollution  Park Counts\n",
      "Median Rent       1.000000      -0.412812     0.273706\n",
      "Air Pollution    -0.412812       1.000000    -0.108068\n",
      "Park Counts       0.273706      -0.108068     1.000000\n"
     ]
    }
   ],
   "source": [
    "print(short_merged_df.corr())"
   ]
  },
  {
   "cell_type": "code",
   "execution_count": 188,
   "metadata": {},
   "outputs": [
    {
     "name": "stdout",
     "output_type": "stream",
     "text": [
      "The R^2: 0.17041403218835172\n"
     ]
    },
    {
     "data": {
      "image/png": "[encoded data removed]",
      "text/plain": [
       "<Figure size 432x288 with 1 Axes>"
      ]
     },
     "metadata": {
      "needs_background": "light"
     },
     "output_type": "display_data"
    }
   ],
   "source": [
    "# Create the regressor: reg\n",
    "reg = LinearRegression()\n",
    "\n",
    "# Create the prediction space\n",
    "prediction_space = np.linspace(min(X), max(X)).reshape(-1,1)\n",
    "\n",
    "# Fit the model to the data\n",
    "reg.fit(X, y)\n",
    "\n",
    "# Compute predictions over the prediction space: y_pred\n",
    "y_pred = reg.predict(prediction_space)\n",
    "\n",
    "# Print R^2 \n",
    "print(f\"The R^2: {reg.score(X, y)}\")\n",
    "\n",
    "# Plot regression line\n",
    "plt.scatter(X, y, color = \"blue\")\n",
    "plt.plot(prediction_space, y_pred, color='black', linewidth=3)\n",
    "plt.xlabel(\"Air Pollution (2.5 ppm)\")\n",
    "plt.ylabel(\"Median Rent ($)\")\n",
    "plt.grid()\n",
    "plt.show()\n"
   ]
  },
  {
   "cell_type": "markdown",
   "metadata": {},
   "source": [
    "#### Train/test split for regression\n",
    "* Dataset is split into training and testing sets, and then fit and predict a linear regression over all features. \n",
    "* In addition to computing the R2, also compute the Root Mean Squared Error (RMSE)\n",
    "* RMSE is used to evaluate regression models."
   ]
  },
  {
   "cell_type": "code",
   "execution_count": 189,
   "metadata": {},
   "outputs": [
    {
     "name": "stdout",
     "output_type": "stream",
     "text": [
      "R^2: 0.12938028962287118\n",
      "Root Mean Squared Error: 446.17211242367694\n"
     ]
    }
   ],
   "source": [
    "\n",
    "# Create training and test sets\n",
    "X_train, X_test, y_train, y_test = train_test_split(X, y, test_size = 0.3, random_state=42)\n",
    "\n",
    "# Create the regressor: reg_all\n",
    "reg_all = LinearRegression()\n",
    "\n",
    "# Fit the regressor to the training data\n",
    "reg_all.fit(X_train, y_train)\n",
    "\n",
    "# Predict on the test data: y_pred\n",
    "y_pred = reg_all.predict(X_test)\n",
    "\n",
    "# Compute and print R^2 and RMSE\n",
    "print(\"R^2: {}\".format(reg_all.score(X_test, y_test)))\n",
    "rmse = np.sqrt(mean_squared_error(y_test, y_pred))\n",
    "print(\"Root Mean Squared Error: {}\".format(rmse))\n"
   ]
  },
  {
   "cell_type": "code",
   "execution_count": 190,
   "metadata": {},
   "outputs": [
    {
     "name": "stdout",
     "output_type": "stream",
     "text": [
      "[ 0.18213306 -0.00414782  0.20482976  0.13353362  0.18199011]\n",
      "Average 5-Fold CV Score: 0.1396677465580292\n"
     ]
    }
   ],
   "source": [
    "# Create a linear regression object: reg\n",
    "reg = LinearRegression()\n",
    "\n",
    "# Compute 5-fold cross-validation scores: cv_scores\n",
    "cv_scores = cross_val_score(reg, X, y, cv = 5)\n",
    "\n",
    "# Print the 5-fold cross-validation scores\n",
    "print(cv_scores)\n",
    "\n",
    "print(\"Average 5-Fold CV Score: {}\".format(np.mean(cv_scores)))\n"
   ]
  },
  {
   "cell_type": "markdown",
   "metadata": {},
   "source": [
    "### Linear Regression for Parks"
   ]
  },
  {
   "cell_type": "code",
   "execution_count": 191,
   "metadata": {},
   "outputs": [
    {
     "name": "stdout",
     "output_type": "stream",
     "text": [
      "Dimensions of y before reshaping: (511,)\n",
      "Dimensions of X before reshaping: (511,)\n",
      "Dimensions of y after reshaping: (511, 1)\n",
      "Dimensions of X after reshaping: (511, 1)\n"
     ]
    }
   ],
   "source": [
    "# Create arrays for features and target variable\n",
    "y = merged_df_clean_nan['Median Rent'].values\n",
    "Xp = merged_df_clean_nan['Park Counts'].values\n",
    "\n",
    "# Print the dimensions of X and y before reshaping\n",
    "print(\"Dimensions of y before reshaping: {}\".format(y.shape))\n",
    "print(\"Dimensions of X before reshaping: {}\".format(Xp.shape))\n",
    "\n",
    "# Reshape X and y\n",
    "y = y.reshape(-1, 1)\n",
    "Xp = Xp.reshape(-1, 1)\n",
    "\n",
    "# Print the dimensions of X and y after reshaping\n",
    "print(\"Dimensions of y after reshaping: {}\".format(y.shape))\n",
    "print(\"Dimensions of X after reshaping: {}\".format(Xp.shape))\n",
    "\n"
   ]
  },
  {
   "cell_type": "code",
   "execution_count": 192,
   "metadata": {},
   "outputs": [
    {
     "name": "stdout",
     "output_type": "stream",
     "text": [
      "The R^2: 0.07491492082278683\n"
     ]
    },
    {
     "data": {
      "image/png": "[encoded data removed]",
      "text/plain": [
       "<Figure size 432x288 with 1 Axes>"
      ]
     },
     "metadata": {
      "needs_background": "light"
     },
     "output_type": "display_data"
    }
   ],
   "source": [
    "# Create the regressor: reg\n",
    "reg = LinearRegression()\n",
    "\n",
    "# Create the prediction space\n",
    "prediction_space = np.linspace(min(Xp), max(Xp)).reshape(-1,1)\n",
    "\n",
    "# Fit the model to the data\n",
    "reg.fit(Xp, y)\n",
    "\n",
    "# Compute predictions over the prediction space: y_pred\n",
    "y_pred = reg.predict(prediction_space)\n",
    "\n",
    "# Print R^2 \n",
    "print(f\"The R^2: {reg.score(Xp, y)}\")\n",
    "\n",
    "# Plot regression line\n",
    "plt.scatter(X, y, color = \"blue\")\n",
    "plt.plot(prediction_space, y_pred, color='black', linewidth=3)\n",
    "plt.xlabel(\"Park Counts\")\n",
    "plt.ylabel(\"Median Rent ($)\")\n",
    "plt.grid()\n",
    "plt.show()\n"
   ]
  },
  {
   "cell_type": "markdown",
   "metadata": {},
   "source": [
    "## Lavene's Test"
   ]
  },
  {
   "cell_type": "code",
   "execution_count": 131,
   "metadata": {},
   "outputs": [
    {
     "name": "stdout",
     "output_type": "stream",
     "text": [
      "statistic: t = 0.205945  p = 0.650004\n"
     ]
    }
   ],
   "source": [
    "# Test if the variances of these variables are significantly different\n",
    "air_pol = np.array(df[\"count\"])\n",
    "air_merged = np.array(air_array)\n",
    "\n",
    "t, p = levene(air_pol, air_merged)\n",
    "print(\"statistic: t = %g  p = %g\" % (t, p))"
   ]
  },
  {
   "cell_type": "code",
   "execution_count": 132,
   "metadata": {},
   "outputs": [
    {
     "name": "stdout",
     "output_type": "stream",
     "text": [
      "ttest_ind: t = -0.138705  p = 0.889694\n"
     ]
    }
   ],
   "source": [
    "#  Determine if downsampling significantly changed \n",
    "# the mean of the air pollution counts using ttest\n",
    "\n",
    "# Use scipy.stats.ttest_ind.\n",
    "t, p = ttest_ind(air_pol, air_merged, equal_var=True)\n",
    "print(\"ttest_ind: t = %g  p = %g\" % (t, p))"
   ]
  },
  {
   "cell_type": "code",
   "execution_count": 135,
   "metadata": {},
   "outputs": [
    {
     "name": "stdout",
     "output_type": "stream",
     "text": [
      "statistic: t = 0.205945  p = 0.650004\n"
     ]
    }
   ],
   "source": [
    "# Test if the variances of these variables are significantly different\n",
    "park_count = np.array(df_park[\"count\"])\n",
    "park_merged = np.array(park_array)\n",
    "\n",
    "t, p = levene(air_pol, air_merged)\n",
    "print(\"statistic: t = %g  p = %g\" % (t, p))"
   ]
  },
  {
   "cell_type": "markdown",
   "metadata": {},
   "source": [
    "## T test for 2 indipendent samples: determine means differ between downsampled and original dataset"
   ]
  },
  {
   "cell_type": "code",
   "execution_count": 136,
   "metadata": {},
   "outputs": [
    {
     "name": "stdout",
     "output_type": "stream",
     "text": [
      "ttest_ind: t = 1.5198  p = 0.128772\n"
     ]
    }
   ],
   "source": [
    "#  Determine if downsampling significantly changed \n",
    "# the mean of the Park counts\n",
    "\n",
    "# Use scipy.stats.ttest_ind.\n",
    "t, p = ttest_ind(park_count, park_merged, equal_var=True)\n",
    "print(\"ttest_ind: t = %g  p = %g\" % (t, p))"
   ]
  },
  {
   "cell_type": "code",
   "execution_count": 137,
   "metadata": {},
   "outputs": [
    {
     "name": "stdout",
     "output_type": "stream",
     "text": [
      "statistic: t = 0.205945  p = 0.650004\n"
     ]
    }
   ],
   "source": [
    "# Test if the variances of these variables are significantly different\n",
    "rent_rates = np.array(rent_df[\"Median Rent\"])\n",
    "rent_merged = np.array(rent_array)\n",
    "\n",
    "t, p = levene(air_pol, air_merged)\n",
    "print(\"statistic: t = %g  p = %g\" % (t, p))"
   ]
  },
  {
   "cell_type": "code",
   "execution_count": 138,
   "metadata": {},
   "outputs": [
    {
     "name": "stdout",
     "output_type": "stream",
     "text": [
      "ttest_ind: t = 1.53738  p = 0.12463\n"
     ]
    }
   ],
   "source": [
    "#  Determine if downsampling significantly changed \n",
    "# the mean of the Rent Data\n",
    "\n",
    "# Use scipy.stats.ttest_ind.\n",
    "t, p = ttest_ind(rent_rates, rent_merged, equal_var=False)\n",
    "print(\"ttest_ind: t = %g  p = %g\" % (t, p))"
   ]
  },
  {
   "cell_type": "code",
   "execution_count": null,
   "metadata": {},
   "outputs": [],
   "source": []
  }
 ],
 "metadata": {
  "kernelspec": {
   "display_name": "Python 3",
   "language": "python",
   "name": "python3"
  },
  "language_info": {
   "codemirror_mode": {
    "name": "ipython",
    "version": 3
   },
   "file_extension": ".py",
   "mimetype": "text/x-python",
   "name": "python",
   "nbconvert_exporter": "python",
   "pygments_lexer": "ipython3",
   "version": "3.6.7"
  }
 },
 "nbformat": 4,
 "nbformat_minor": 2
}
