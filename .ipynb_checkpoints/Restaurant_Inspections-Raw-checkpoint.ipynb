{
 "cells": [
  {
   "cell_type": "code",
   "execution_count": 184,
   "metadata": {},
   "outputs": [],
   "source": [
    "# Dependencies\n",
    "import os\n",
    "import pandas as pd\n",
    "import gmaps\n",
    "import requests\n",
    "import json\n",
    "import matplotlib.pyplot as plt\n",
    "import numpy as np\n",
    "\n",
    "# Google developer API key\n",
    "from config import gkey"
   ]
  },
  {
   "cell_type": "code",
   "execution_count": 185,
   "metadata": {
    "scrolled": false
   },
   "outputs": [],
   "source": [
    "#Outline filepath for CSVs \n",
    "inspections = \"Resources/inspections.csv\"\n",
    "violations = \"Resources/violations.csv\"\n",
    "zip_codes = \"Resources/us_zip_codes.csv\"\n",
    "real_estate = \"Resources/rent_by_zip.csv\"\n",
    "\n",
    "#Read CSVs as pandas dataframes\n",
    "inspections = pd.read_csv(inspections)\n",
    "violations = pd.read_csv(violations)\n",
    "zip_codes = pd.read_csv(zip_codes)\n",
    "real_estate = pd.read_csv(real_estate)\n"
   ]
  },
  {
   "cell_type": "code",
   "execution_count": 186,
   "metadata": {},
   "outputs": [
    {
     "data": {
      "text/html": [
       "<div>\n",
       "<style scoped>\n",
       "    .dataframe tbody tr th:only-of-type {\n",
       "        vertical-align: middle;\n",
       "    }\n",
       "\n",
       "    .dataframe tbody tr th {\n",
       "        vertical-align: top;\n",
       "    }\n",
       "\n",
       "    .dataframe thead th {\n",
       "        text-align: right;\n",
       "    }\n",
       "</style>\n",
       "<table border=\"1\" class=\"dataframe\">\n",
       "  <thead>\n",
       "    <tr style=\"text-align: right;\">\n",
       "      <th></th>\n",
       "      <th>Facility Name</th>\n",
       "      <th>Score</th>\n",
       "      <th>Address</th>\n",
       "      <th>City</th>\n",
       "      <th>Facility ID</th>\n",
       "      <th>Zip Code</th>\n",
       "    </tr>\n",
       "  </thead>\n",
       "  <tbody>\n",
       "    <tr>\n",
       "      <th>0</th>\n",
       "      <td>HABITAT COFFEE SHOP</td>\n",
       "      <td>95</td>\n",
       "      <td>3708 N EAGLE ROCK BLVD</td>\n",
       "      <td>LOS ANGELES</td>\n",
       "      <td>FA0170465</td>\n",
       "      <td>90065</td>\n",
       "    </tr>\n",
       "    <tr>\n",
       "      <th>1</th>\n",
       "      <td>REILLY'S</td>\n",
       "      <td>92</td>\n",
       "      <td>100 WORLD WAY # 120</td>\n",
       "      <td>LOS ANGELES</td>\n",
       "      <td>FA0244690</td>\n",
       "      <td>90045</td>\n",
       "    </tr>\n",
       "    <tr>\n",
       "      <th>2</th>\n",
       "      <td>STREET CHURROS</td>\n",
       "      <td>93</td>\n",
       "      <td>6801 HOLLYWOOD BLVD # 253</td>\n",
       "      <td>LOS ANGELES</td>\n",
       "      <td>FA0224109</td>\n",
       "      <td>90028</td>\n",
       "    </tr>\n",
       "    <tr>\n",
       "      <th>3</th>\n",
       "      <td>RIO GENTLEMANS CLUB</td>\n",
       "      <td>93</td>\n",
       "      <td>13124 S FIGUEROA ST</td>\n",
       "      <td>LOS ANGELES</td>\n",
       "      <td>FA0046462</td>\n",
       "      <td>90064</td>\n",
       "    </tr>\n",
       "    <tr>\n",
       "      <th>4</th>\n",
       "      <td>LE PAIN QUOTIDIEN</td>\n",
       "      <td>93</td>\n",
       "      <td>13050 SAN VICENTE BLVD STE 114</td>\n",
       "      <td>LOS ANGELES</td>\n",
       "      <td>FA0034788</td>\n",
       "      <td>90049</td>\n",
       "    </tr>\n",
       "  </tbody>\n",
       "</table>\n",
       "</div>"
      ],
      "text/plain": [
       "         Facility Name  Score                         Address         City  \\\n",
       "0  HABITAT COFFEE SHOP     95          3708 N EAGLE ROCK BLVD  LOS ANGELES   \n",
       "1             REILLY'S     92             100 WORLD WAY # 120  LOS ANGELES   \n",
       "2       STREET CHURROS     93       6801 HOLLYWOOD BLVD # 253  LOS ANGELES   \n",
       "3  RIO GENTLEMANS CLUB     93             13124 S FIGUEROA ST  LOS ANGELES   \n",
       "4    LE PAIN QUOTIDIEN     93  13050 SAN VICENTE BLVD STE 114  LOS ANGELES   \n",
       "\n",
       "  Facility ID  Zip Code  \n",
       "0   FA0170465     90065  \n",
       "1   FA0244690     90045  \n",
       "2   FA0224109     90028  \n",
       "3   FA0046462     90064  \n",
       "4   FA0034788     90049  "
      ]
     },
     "execution_count": 186,
     "metadata": {},
     "output_type": "execute_result"
    }
   ],
   "source": [
    "# Drop unnecessary columns \n",
    "clean_df = inspections.drop([\"serial_number\",\"service_code\",\"service_description\",\"grade\",\n",
    "                             \"program_status\",\"pe_description\", \"employee_id\",\"facility_state\",\n",
    "                             \"record_id\", \"owner_name\", \"owner_id\", \"program_element_pe\",\n",
    "                             \"program_name\", \"activity_date\"],axis =1)\n",
    "\n",
    "# Rename column labels\n",
    "renamed_df = clean_df.rename(columns={  \"activity_date\":\"Activity Date\",\n",
    "                                        \"facility_name\": \"Facility Name\",\n",
    "                                        \"score\": \"Score\",\n",
    "                                        \"grade\": \"Grade\",\n",
    "                                        \"facility_city\": \"City\",\n",
    "                                        \"facility_id\": \"Facility ID\",\n",
    "                                        \"facility_address\": \"Address\",\n",
    "                                        \"facility_zip\": \"Zip Code\",\n",
    "                                        \"program_status\": \"Status\"})\n",
    "renamed_df.head()"
   ]
  },
  {
   "cell_type": "code",
   "execution_count": 219,
   "metadata": {},
   "outputs": [
    {
     "data": {
      "text/html": [
       "<div>\n",
       "<style scoped>\n",
       "    .dataframe tbody tr th:only-of-type {\n",
       "        vertical-align: middle;\n",
       "    }\n",
       "\n",
       "    .dataframe tbody tr th {\n",
       "        vertical-align: top;\n",
       "    }\n",
       "\n",
       "    .dataframe thead th {\n",
       "        text-align: right;\n",
       "    }\n",
       "</style>\n",
       "<table border=\"1\" class=\"dataframe\">\n",
       "  <thead>\n",
       "    <tr style=\"text-align: right;\">\n",
       "      <th></th>\n",
       "      <th>Zip Code</th>\n",
       "      <th>Score</th>\n",
       "      <th>Median Rent 2016</th>\n",
       "    </tr>\n",
       "  </thead>\n",
       "  <tbody>\n",
       "    <tr>\n",
       "      <th>79</th>\n",
       "      <td>90272</td>\n",
       "      <td>94.166667</td>\n",
       "      <td>2738.71</td>\n",
       "    </tr>\n",
       "    <tr>\n",
       "      <th>70</th>\n",
       "      <td>90094</td>\n",
       "      <td>94.119048</td>\n",
       "      <td>2504.00</td>\n",
       "    </tr>\n",
       "    <tr>\n",
       "      <th>89</th>\n",
       "      <td>91326</td>\n",
       "      <td>98.000000</td>\n",
       "      <td>2497.36</td>\n",
       "    </tr>\n",
       "    <tr>\n",
       "      <th>67</th>\n",
       "      <td>90077</td>\n",
       "      <td>93.592593</td>\n",
       "      <td>2400.60</td>\n",
       "    </tr>\n",
       "    <tr>\n",
       "      <th>86</th>\n",
       "      <td>91307</td>\n",
       "      <td>99.000000</td>\n",
       "      <td>2341.20</td>\n",
       "    </tr>\n",
       "  </tbody>\n",
       "</table>\n",
       "</div>"
      ],
      "text/plain": [
       "    Zip Code      Score  Median Rent 2016\n",
       "79     90272  94.166667           2738.71\n",
       "70     90094  94.119048           2504.00\n",
       "89     91326  98.000000           2497.36\n",
       "67     90077  93.592593           2400.60\n",
       "86     91307  99.000000           2341.20"
      ]
     },
     "execution_count": 219,
     "metadata": {},
     "output_type": "execute_result"
    }
   ],
   "source": [
    "zip_data = zip_data.dropna(how=\"any\")\n",
    "zip_data = renamed_df[[\"Score\",\"Zip Code\"]].groupby(\"Zip Code\").mean()\n",
    "zip_data.reset_index(inplace=True)\n",
    "zip_data1 = zip_data.merge(real_estate, on=\"Zip Code\", how = \"left\")\n",
    "zip_data1.sort_values(by=\"Median Rent 2016\",ascending=False).head()"
   ]
  },
  {
   "cell_type": "code",
   "execution_count": 242,
   "metadata": {},
   "outputs": [
    {
     "data": {
      "image/png": "[encoded data removed]",
      "text/plain": [
       "<Figure size 432x288 with 1 Axes>"
      ]
     },
     "metadata": {
      "needs_background": "light"
     },
     "output_type": "display_data"
    },
    {
     "data": {
      "text/plain": [
       "<Figure size 432x288 with 0 Axes>"
      ]
     },
     "metadata": {},
     "output_type": "display_data"
    }
   ],
   "source": [
    "plt.scatter(zip_data1[\"Median Rent 2016\"],zip_data1[\"Score\"],)\n",
    "plt.title(\"Restaurant Cleanliness vs Median Rent\")\n",
    "plt.xlabel(\"Median Rent by Zip Code\")\n",
    "plt.ylabel(\"Food Facility Score\")\n",
    "\n",
    "usc_score = 96.8\n",
    "med_rent = 1660\n",
    "plt.text(x = med_rent, y = usc_score, s = \"USC\", fontsize = 12)\n",
    "\n",
    "playa_score = 94\n",
    "med_rent = 2550\n",
    "plt.text(x = med_rent, y = playa_score, s = \"Playa Vista\", fontsize = 12)\n",
    "\n",
    "brentwood_score = 94.9\n",
    "med_rent = 2370\n",
    "plt.text(x = med_rent, y = brentwood_score, s = \"Brentwood\", fontsize = 12)\n",
    "plt.xlim(800,3000)\n",
    "\n",
    "\n",
    "plt.show()\n",
    "plt.savefig(\"restaurant_cleanliness_vs_median_rent_raw.png\")"
   ]
  },
  {
   "cell_type": "code",
   "execution_count": 220,
   "metadata": {},
   "outputs": [
    {
     "data": {
      "text/html": [
       "<div>\n",
       "<style scoped>\n",
       "    .dataframe tbody tr th:only-of-type {\n",
       "        vertical-align: middle;\n",
       "    }\n",
       "\n",
       "    .dataframe tbody tr th {\n",
       "        vertical-align: top;\n",
       "    }\n",
       "\n",
       "    .dataframe thead th {\n",
       "        text-align: right;\n",
       "    }\n",
       "</style>\n",
       "<table border=\"1\" class=\"dataframe\">\n",
       "  <thead>\n",
       "    <tr style=\"text-align: right;\">\n",
       "      <th></th>\n",
       "      <th>Zip Code</th>\n",
       "      <th>Score</th>\n",
       "    </tr>\n",
       "  </thead>\n",
       "  <tbody>\n",
       "    <tr>\n",
       "      <th>50</th>\n",
       "      <td>90053</td>\n",
       "      <td>100.0</td>\n",
       "    </tr>\n",
       "    <tr>\n",
       "      <th>86</th>\n",
       "      <td>91307</td>\n",
       "      <td>99.0</td>\n",
       "    </tr>\n",
       "    <tr>\n",
       "      <th>92</th>\n",
       "      <td>91505</td>\n",
       "      <td>99.0</td>\n",
       "    </tr>\n",
       "    <tr>\n",
       "      <th>76</th>\n",
       "      <td>90222</td>\n",
       "      <td>98.5</td>\n",
       "    </tr>\n",
       "    <tr>\n",
       "      <th>73</th>\n",
       "      <td>90201</td>\n",
       "      <td>98.0</td>\n",
       "    </tr>\n",
       "  </tbody>\n",
       "</table>\n",
       "</div>"
      ],
      "text/plain": [
       "    Zip Code  Score\n",
       "50     90053  100.0\n",
       "86     91307   99.0\n",
       "92     91505   99.0\n",
       "76     90222   98.5\n",
       "73     90201   98.0"
      ]
     },
     "execution_count": 220,
     "metadata": {},
     "output_type": "execute_result"
    }
   ],
   "source": [
    "top_5_score = zip_data.nlargest(5, \"Score\")\n",
    "top_5_score"
   ]
  },
  {
   "cell_type": "code",
   "execution_count": 221,
   "metadata": {},
   "outputs": [
    {
     "data": {
      "text/html": [
       "<div>\n",
       "<style scoped>\n",
       "    .dataframe tbody tr th:only-of-type {\n",
       "        vertical-align: middle;\n",
       "    }\n",
       "\n",
       "    .dataframe tbody tr th {\n",
       "        vertical-align: top;\n",
       "    }\n",
       "\n",
       "    .dataframe thead th {\n",
       "        text-align: right;\n",
       "    }\n",
       "</style>\n",
       "<table border=\"1\" class=\"dataframe\">\n",
       "  <thead>\n",
       "    <tr style=\"text-align: right;\">\n",
       "      <th></th>\n",
       "      <th>Zip Code</th>\n",
       "      <th>Score</th>\n",
       "    </tr>\n",
       "  </thead>\n",
       "  <tbody>\n",
       "    <tr>\n",
       "      <th>49</th>\n",
       "      <td>90052</td>\n",
       "      <td>84.166667</td>\n",
       "    </tr>\n",
       "    <tr>\n",
       "      <th>72</th>\n",
       "      <td>90103</td>\n",
       "      <td>90.333333</td>\n",
       "    </tr>\n",
       "    <tr>\n",
       "      <th>18</th>\n",
       "      <td>90020</td>\n",
       "      <td>91.051108</td>\n",
       "    </tr>\n",
       "    <tr>\n",
       "      <th>28</th>\n",
       "      <td>90030</td>\n",
       "      <td>91.111111</td>\n",
       "    </tr>\n",
       "    <tr>\n",
       "      <th>74</th>\n",
       "      <td>90211</td>\n",
       "      <td>91.285714</td>\n",
       "    </tr>\n",
       "  </tbody>\n",
       "</table>\n",
       "</div>"
      ],
      "text/plain": [
       "    Zip Code      Score\n",
       "49     90052  84.166667\n",
       "72     90103  90.333333\n",
       "18     90020  91.051108\n",
       "28     90030  91.111111\n",
       "74     90211  91.285714"
      ]
     },
     "execution_count": 221,
     "metadata": {},
     "output_type": "execute_result"
    }
   ],
   "source": [
    "low_5_score = zip_data.nsmallest(5, \"Score\")\n",
    "low_5_score"
   ]
  },
  {
   "cell_type": "code",
   "execution_count": 225,
   "metadata": {},
   "outputs": [
    {
     "data": {
      "text/plain": [
       "Text(0.5, 1.0, 'Highest Rent-Priced Neighborhoods vs. Restaurant Cleanliness')"
      ]
     },
     "execution_count": 225,
     "metadata": {},
     "output_type": "execute_result"
    },
    {
     "data": {
      "image/png": "[encoded data removed]",
      "text/plain": [
       "<Figure size 432x288 with 1 Axes>"
      ]
     },
     "metadata": {
      "needs_background": "light"
     },
     "output_type": "display_data"
    }
   ],
   "source": [
    "#Top Score Bar Graph\n",
    "neighborhoods = [\"Pacific Palisades\", \"Playa Vista\", \"Porter Ranch\",\"Bel Air\", \"West Hills\"]\n",
    "ind = np.arange(len(neighborhoods))\n",
    "score = top_5_score[\"Score\"][0:5]\n",
    "plt.bar(ind,score, width =.5, color=\"blue\", alpha=0.5, align=\"center\", label=\"Restaurant Score\")\n",
    "\n",
    "plt.xticks(ind, neighborhoods , rotation=\"vertical\")\n",
    "\n",
    "plt.ylabel(\"Restaurant Cleanliness\")\n",
    "plt.xlabel(\"Neighborhoods\")\n",
    "\n",
    "plt.legend(loc=\"upper right\")\n",
    "plt.title(\"Highest Rent-Priced Neighborhoods vs. Number of Violations per Food Facility\")"
   ]
  },
  {
   "cell_type": "code",
   "execution_count": null,
   "metadata": {},
   "outputs": [],
   "source": [
    "# Average Inspection score \n",
    "avg_score = renamed_df.loc[:,\"Score\"].mean()\n",
    "avg_score "
   ]
  },
  {
   "cell_type": "code",
   "execution_count": null,
   "metadata": {},
   "outputs": [],
   "source": [
    "# Median inspection score\n",
    "median_score = renamed_df.median()\n",
    "median_score"
   ]
  },
  {
   "cell_type": "code",
   "execution_count": 237,
   "metadata": {},
   "outputs": [
    {
     "data": {
      "text/plain": [
       "array([90065, 90045, 90028, 90064, 90049, 90026, 90011, 90034, 90043,\n",
       "       90047, 90020, 91604, 90027, 90006, 90024, 90023, 90067, 90019,\n",
       "       90025, 90066, 90010, 90014, 90004, 90046, 90005, 90061, 90015,\n",
       "       90048, 90035, 90057, 90016, 90062, 90017, 90039, 90037, 90042,\n",
       "       90012, 90018, 90071, 90013, 90022, 90063, 90021, 90033, 90070,\n",
       "       90036, 90230, 90291, 90068, 90031, 90041, 90008, 91367, 90059,\n",
       "       90007, 90001, 90058, 90044, 90003, 90002, 90038, 90032, 91324,\n",
       "       90069, 90029, 90211, 90089, 90077, 90056, 90040, 90054, 91325,\n",
       "       91505, 90232, 90272, 90094, 90095, 90103, 90053, 92880, 91601,\n",
       "       91326, 90292, 90052, 90921, 90220, 90723, 90293, 90079, 90030,\n",
       "       91602, 90051, 91006, 90222, 91307, 91340, 90201])"
      ]
     },
     "execution_count": 237,
     "metadata": {},
     "output_type": "execute_result"
    }
   ],
   "source": [
    "# print unique zip codes \n",
    "unique_zip = merge_table[\"Zip Code\"].unique()\n",
    "unique_zip"
   ]
  }
 ],
 "metadata": {
  "kernelspec": {
   "display_name": "Python 3",
   "language": "python",
   "name": "python3"
  },
  "language_info": {
   "codemirror_mode": {
    "name": "ipython",
    "version": 3
   },
   "file_extension": ".py",
   "mimetype": "text/x-python",
   "name": "python",
   "nbconvert_exporter": "python",
   "pygments_lexer": "ipython3",
   "version": "3.7.2"
  }
 },
 "nbformat": 4,
 "nbformat_minor": 2
}
