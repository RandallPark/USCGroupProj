{
 "cells": [
  {
   "cell_type": "code",
   "execution_count": null,
   "metadata": {},
   "outputs": [],
   "source": [
    "# Dependencies and Setup\n",
    "import matplotlib.pyplot as plt\n",
    "import pandas as pd\n",
    "import numpy as np\n",
    "import requests\n",
    "import gmaps\n",
    "\n",
    "# Google developer API key\n",
    "from config import gkey\n",
    "\n",
    "\n",
    "# Configure gmaps\n",
    "gmaps.configure(api_key=gkey)\n",
    "\n"
   ]
  },
  {
   "cell_type": "code",
   "execution_count": null,
   "metadata": {},
   "outputs": [],
   "source": [
    "# The endpoint will require I specify the year\n",
    "park_url =  \"https://usc.data.socrata.com/resource/kp5h-fmqh.json?dataset=Parks Access\"\n",
    "\n",
    "query_url_park = f\"{park_url}\"\n",
    "response = requests.get(query_url_park)\n",
    "park_response_json = response.json()\n",
    "response_json"
   ]
  },
  {
   "cell_type": "code",
   "execution_count": null,
   "metadata": {},
   "outputs": [],
   "source": [
    "# # Initialize a list that will eventually be used for form the columns in dataframe.\n",
    "# count = []\n",
    "# dataset = []\n",
    "# date = []\n",
    "# geoid = []\n",
    "# location = []\n",
    "# lat = []\n",
    "# lng = []\n",
    "# neighborhood = []\n",
    "# policy_area = []\n",
    "# row_id = []\n",
    "# tract = []\n",
    "# tract_number = []\n",
    "# variable = []\n",
    "# year = []\n",
    "\n",
    "\n",
    "# for yr in years:\n",
    "#     query_url = f\"{url}{yr}\"\n",
    "#     response = requests.get(query_url)\n",
    "#     response_json = response.json()\n",
    "    \n",
    "#     for key in range(len(response_json)):\n",
    "#         count.append(response_json[key]['count'])\n",
    "#         dataset.append(response_json[key]['dataset'])\n",
    "#         date.append(response_json[key]['date'])\n",
    "#         geoid.append(response_json[key]['geoid'])\n",
    "#         location.append(response_json[key]['location'])\n",
    "#         neighborhood.append(response_json[key]['neighborhood'])\n",
    "#         policy_area.append(response_json[key]['policy_area'])\n",
    "#         row_id.append(response_json[key]['row_id'])\n",
    "#         tract.append(response_json[key]['tract'])\n",
    "#         tract_number.append(response_json[key]['tract_number'])\n",
    "#         variable.append(response_json[key]['variable'])\n",
    "#         year.append(response_json[key]['year'])"
   ]
  }
 ],
 "metadata": {
  "kernelspec": {
   "display_name": "Python 3",
   "language": "python",
   "name": "python3"
  },
  "language_info": {
   "codemirror_mode": {
    "name": "ipython",
    "version": 3
   },
   "file_extension": ".py",
   "mimetype": "text/x-python",
   "name": "python",
   "nbconvert_exporter": "python",
   "pygments_lexer": "ipython3",
   "version": "3.6.7"
  }
 },
 "nbformat": 4,
 "nbformat_minor": 2
}
