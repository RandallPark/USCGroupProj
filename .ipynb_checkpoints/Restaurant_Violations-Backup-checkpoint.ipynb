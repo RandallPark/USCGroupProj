{
 "cells": [
  {
   "cell_type": "code",
   "execution_count": 106,
   "metadata": {},
   "outputs": [],
   "source": [
    "import pandas as pd\n",
    "#import time"
   ]
  },
  {
   "cell_type": "code",
   "execution_count": 117,
   "metadata": {},
   "outputs": [],
   "source": [
    "inspections = \"Resources/inspections.csv\"\n",
    "violations = \"Resources/violations.csv\"\n",
    "zip_codes = \"Resources/us_zip_codes.csv\"\n",
    "real_estate = \"Resources/rent_by_zip.csv\"\n",
    "\n",
    "inspections = pd.read_csv(inspections)\n",
    "violations = pd.read_csv(violations)\n",
    "zip_codes = pd.read_csv(zip_codes)\n",
    "real_estate = pd.read_csv(real_estate)"
   ]
  },
  {
   "cell_type": "code",
   "execution_count": 214,
   "metadata": {
    "scrolled": false
   },
   "outputs": [
    {
     "data": {
      "text/plain": [
       "0    KRUANG TEDD\n",
       "1    KRUANG TEDD\n",
       "2    KRUANG TEDD\n",
       "3    KRUANG TEDD\n",
       "4    KRUANG TEDD\n",
       "Name: Facility Name, dtype: object"
      ]
     },
     "execution_count": 214,
     "metadata": {},
     "output_type": "execute_result"
    }
   ],
   "source": [
    "#Remove unnecessary row from dataset \n",
    "\n",
    "clean_df = violations.drop([\"serial_number\",\"grade\",\"row_id\",\"violation_status\",\"service_code\",\"program_name\", \"program_element_pe\", \"facility_address\", \"service_description\", \"employee_id\",\"facility_state\",\"record_id\", \"owner_name\", \"owner_id\", \"program_element_pe\",\"program_name\"],axis =1)\n",
    "\n",
    "renamed_df = clean_df.rename(columns={\"facility_name\": \"Facility Name\",\n",
    "                                      \"activity_date\": \"Date\",\n",
    "                                        \"score\": \"Score\",\n",
    "                                        \"grade\": \"Grade\",\n",
    "                                        \"pe_description\": \"Description\",\n",
    "                                        \"facility_city\": \"City\",\n",
    "                                        \"facility_id\": \"Facility ID\",\n",
    "                                        \"facility_zip\": \"Zip Code\",\n",
    "                                        \"program_status\": \"Status\"})\n",
    "x = renamed_df[\"Facility Name\"]\n",
    "x.head()"
   ]
  },
  {
   "cell_type": "code",
   "execution_count": 217,
   "metadata": {},
   "outputs": [
    {
     "data": {
      "text/html": [
       "<div>\n",
       "<style scoped>\n",
       "    .dataframe tbody tr th:only-of-type {\n",
       "        vertical-align: middle;\n",
       "    }\n",
       "\n",
       "    .dataframe tbody tr th {\n",
       "        vertical-align: top;\n",
       "    }\n",
       "\n",
       "    .dataframe thead th {\n",
       "        text-align: right;\n",
       "    }\n",
       "</style>\n",
       "<table border=\"1\" class=\"dataframe\">\n",
       "  <thead>\n",
       "    <tr style=\"text-align: right;\">\n",
       "      <th></th>\n",
       "      <th>Score</th>\n",
       "    </tr>\n",
       "    <tr>\n",
       "      <th>Zip Code</th>\n",
       "      <th></th>\n",
       "    </tr>\n",
       "  </thead>\n",
       "  <tbody>\n",
       "    <tr>\n",
       "      <th>90001</th>\n",
       "      <td>91.883549</td>\n",
       "    </tr>\n",
       "    <tr>\n",
       "      <th>90002</th>\n",
       "      <td>93.088475</td>\n",
       "    </tr>\n",
       "    <tr>\n",
       "      <th>90003</th>\n",
       "      <td>90.918092</td>\n",
       "    </tr>\n",
       "    <tr>\n",
       "      <th>90004</th>\n",
       "      <td>91.237967</td>\n",
       "    </tr>\n",
       "    <tr>\n",
       "      <th>90005</th>\n",
       "      <td>89.151245</td>\n",
       "    </tr>\n",
       "  </tbody>\n",
       "</table>\n",
       "</div>"
      ],
      "text/plain": [
       "              Score\n",
       "Zip Code           \n",
       "90001     91.883549\n",
       "90002     93.088475\n",
       "90003     90.918092\n",
       "90004     91.237967\n",
       "90005     89.151245"
      ]
     },
     "execution_count": 217,
     "metadata": {},
     "output_type": "execute_result"
    }
   ],
   "source": [
    "# TESTING - remove when finished \n",
    "zip_data = renamed_df[[\"Score\",\"Zip Code\"]].groupby(\"Zip Code\").mean()\n",
    "zip_data.head()"
   ]
  },
  {
   "cell_type": "code",
   "execution_count": null,
   "metadata": {},
   "outputs": [],
   "source": [
    "zip_data = renamed_df[[\"Score\",\"Zip Code\",\"Date\"]].groupby(\"Zip Code\").mean()\n",
    "zip_data = zip_data.dropna(how=\"any\")\n",
    "zip_data.reset_index(inplace=True)\n",
    "zip_data1 = zip_data.merge(real_estate, on=\"Zip Code\", how = \"left\")\n",
    "zip_data1.sort_values(by=\"Median Rent 2016\",ascending=False).head()"
   ]
  },
  {
   "cell_type": "code",
   "execution_count": 213,
   "metadata": {},
   "outputs": [
    {
     "data": {
      "text/plain": [
       "Zip Code\n",
       "90028    498\n",
       "90012    454\n",
       "90045    440\n",
       "90006    418\n",
       "90036    365\n",
       "Name: Facility ID, dtype: int64"
      ]
     },
     "execution_count": 213,
     "metadata": {},
     "output_type": "execute_result"
    }
   ],
   "source": [
    "# number of unique facilities by zip \n",
    "gb_zip = renamed_df.groupby([\"Zip Code\"])\n",
    "number_of_facilites = gb_zip[\"Facility ID\"]\n",
    "facilities_by_zip = number_of_facilites.nunique()\n",
    "facilities_by_zip\n",
    "\n",
    "# exclude zips with less than 5 unique locations \n",
    "meaningful_zip = facilities_by_zip > 5\n",
    "facilities_df = facilities_by_zip[meaningful_zip].sort_values(ascending = False)\n",
    "facilities_df.head()"
   ]
  },
  {
   "cell_type": "code",
   "execution_count": null,
   "metadata": {},
   "outputs": [],
   "source": [
    "#NOT WORKING\n",
    "#Print the data to a csv to add to inspections data\n",
    "#facilities_df.to_csv(\"Resources/facilities_byzip.csv\",\n",
    "#                 encoding=\"utf-8\", index=False, header=True)"
   ]
  },
  {
   "cell_type": "code",
   "execution_count": 184,
   "metadata": {},
   "outputs": [
    {
     "data": {
      "text/plain": [
       "Facility Name\n",
       "CHINA EXPRESS         38\n",
       "WHOLE FOODS MARKET    37\n",
       "HONG KONG EXPRESS     35\n",
       "SUBWAY                34\n",
       "DODGER STADIUM        34\n",
       "Name: violation_code, dtype: int64"
      ]
     },
     "execution_count": 184,
     "metadata": {},
     "output_type": "execute_result"
    }
   ],
   "source": [
    "#Unique violations by restaurant \n",
    "gb = renamed_df.groupby([\"Facility Name\"])\n",
    "yes = gb[\"violation_code\"].nunique()\n",
    "yes = yes.dropna(how=\"any\")\n",
    "yes = yes.sort_values(ascending = False)\n",
    "yes.head()"
   ]
  },
  {
   "cell_type": "code",
   "execution_count": 202,
   "metadata": {},
   "outputs": [
    {
     "data": {
      "text/plain": [
       "Facility Name\n",
       "DODGER STADIUM                981\n",
       "STAPLES CENTER (LEVY)         969\n",
       "LA COLISEUM                   673\n",
       "THE COFFEE BEAN & TEA LEAF    449\n",
       "WHOLE FOODS MARKET            446\n",
       "Name: violation_code, dtype: int64"
      ]
     },
     "execution_count": 202,
     "metadata": {},
     "output_type": "execute_result"
    }
   ],
   "source": [
    "# number of violations by restaurant\n",
    "violation_by_facility = gb[\"violation_code\"].count()\n",
    "violation_by_facility = violation_by_facility.dropna(how=\"any\")\n",
    "violation_by_facility = violation_by_facility.sort_values(ascending = False)\n",
    "violation_by_facility.head()"
   ]
  },
  {
   "cell_type": "code",
   "execution_count": 201,
   "metadata": {},
   "outputs": [
    {
     "data": {
      "text/plain": [
       "Facility ID\n",
       "Facility ID      NaN\n",
       "FA0019271      981.0\n",
       "Name: violation_code, dtype: float64"
      ]
     },
     "execution_count": 201,
     "metadata": {},
     "output_type": "execute_result"
    }
   ],
   "source": [
    "#Narrowing in on specific number of violations by Facility ID \n",
    "violation_by_facility[[\"Facility ID\",\"FA0019271\"]]\n"
   ]
  },
  {
   "cell_type": "code",
   "execution_count": 132,
   "metadata": {},
   "outputs": [
    {
     "data": {
      "text/plain": [
       "272801"
      ]
     },
     "execution_count": 132,
     "metadata": {},
     "output_type": "execute_result"
    }
   ],
   "source": [
    "#Number of health code violations in LA \n",
    "renamed_df[\"violation_code\"].count()"
   ]
  },
  {
   "cell_type": "code",
   "execution_count": 160,
   "metadata": {},
   "outputs": [
    {
     "data": {
      "text/plain": [
       "12729"
      ]
     },
     "execution_count": 160,
     "metadata": {},
     "output_type": "execute_result"
    }
   ],
   "source": [
    "renamed_df[\"Facility ID\"].nunique()"
   ]
  },
  {
   "cell_type": "code",
   "execution_count": 25,
   "metadata": {},
   "outputs": [
    {
     "data": {
      "text/plain": [
       "93.30792227204783"
      ]
     },
     "execution_count": 25,
     "metadata": {},
     "output_type": "execute_result"
    }
   ],
   "source": [
    "# Average Inspection score \n",
    "avg_score = renamed_df.loc[:,\"Score\"].mean()\n",
    "avg_score \n"
   ]
  },
  {
   "cell_type": "code",
   "execution_count": 203,
   "metadata": {},
   "outputs": [
    {
     "data": {
      "text/plain": [
       "points          1.0\n",
       "Zip Code    90026.0\n",
       "Score          92.0\n",
       "dtype: float64"
      ]
     },
     "execution_count": 203,
     "metadata": {},
     "output_type": "execute_result"
    }
   ],
   "source": [
    "# Median score\n",
    "median_score = renamed_df.median()\n",
    "median_score"
   ]
  }
 ],
 "metadata": {
  "kernelspec": {
   "display_name": "Python 3",
   "language": "python",
   "name": "python3"
  },
  "language_info": {
   "codemirror_mode": {
    "name": "ipython",
    "version": 3
   },
   "file_extension": ".py",
   "mimetype": "text/x-python",
   "name": "python",
   "nbconvert_exporter": "python",
   "pygments_lexer": "ipython3",
   "version": "3.7.2"
  }
 },
 "nbformat": 4,
 "nbformat_minor": 2
}
