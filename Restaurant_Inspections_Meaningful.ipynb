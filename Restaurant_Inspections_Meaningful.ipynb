{
 "cells": [
  {
   "cell_type": "code",
   "execution_count": 14,
   "metadata": {},
   "outputs": [],
   "source": [
    "# Dependencies\n",
    "import os\n",
    "import pandas as pd\n",
    "import gmaps\n",
    "import requests\n",
    "import json\n",
    "import matplotlib.pyplot as plt\n",
    "import numpy as np\n",
    "\n",
    "# Google developer API key\n",
    "from config import gkey"
   ]
  },
  {
   "cell_type": "code",
   "execution_count": 15,
   "metadata": {
    "scrolled": false
   },
   "outputs": [],
   "source": [
    "#Outline filepath for CSVs \n",
    "inspections = \"Resources/inspections.csv\"\n",
    "violations = \"Resources/violations.csv\"\n",
    "violation_count = \"Resources/violation_count.csv\"\n",
    "zip_codes = \"Resources/us_zip_codes.csv\"\n",
    "real_estate = \"Resources/rent_by_zip.csv\"\n",
    "facilities = \"Resources/facilities_by_zip.csv\"\n",
    "\n",
    "#Read CSVs as pandas dataframes\n",
    "inspections = pd.read_csv(inspections)\n",
    "violations = pd.read_csv(violations)\n",
    "zip_codes = pd.read_csv(zip_codes)\n",
    "real_estate = pd.read_csv(real_estate)\n",
    "facilities = pd.read_csv(facilities)\n",
    "violation_count = pd.read_csv(violation_count)"
   ]
  },
  {
   "cell_type": "code",
   "execution_count": 36,
   "metadata": {},
   "outputs": [
    {
     "data": {
      "text/html": [
       "<div>\n",
       "<style scoped>\n",
       "    .dataframe tbody tr th:only-of-type {\n",
       "        vertical-align: middle;\n",
       "    }\n",
       "\n",
       "    .dataframe tbody tr th {\n",
       "        vertical-align: top;\n",
       "    }\n",
       "\n",
       "    .dataframe thead th {\n",
       "        text-align: right;\n",
       "    }\n",
       "</style>\n",
       "<table border=\"1\" class=\"dataframe\">\n",
       "  <thead>\n",
       "    <tr style=\"text-align: right;\">\n",
       "      <th></th>\n",
       "      <th>Facility Name</th>\n",
       "      <th>Score</th>\n",
       "      <th>Address</th>\n",
       "      <th>City</th>\n",
       "      <th>Facility ID</th>\n",
       "      <th>Zip Code</th>\n",
       "      <th>Violation Count</th>\n",
       "      <th>Lat</th>\n",
       "      <th>Long</th>\n",
       "      <th>Facilities</th>\n",
       "      <th>Count per Facility</th>\n",
       "    </tr>\n",
       "  </thead>\n",
       "  <tbody>\n",
       "    <tr>\n",
       "      <th>0</th>\n",
       "      <td>HABITAT COFFEE SHOP</td>\n",
       "      <td>95</td>\n",
       "      <td>3708 N EAGLE ROCK BLVD</td>\n",
       "      <td>LOS ANGELES</td>\n",
       "      <td>FA0170465</td>\n",
       "      <td>90065</td>\n",
       "      <td>3118.0</td>\n",
       "      <td>34.112272</td>\n",
       "      <td>-118.225496</td>\n",
       "      <td>136.0</td>\n",
       "      <td>22.926471</td>\n",
       "    </tr>\n",
       "    <tr>\n",
       "      <th>1</th>\n",
       "      <td>REILLY'S</td>\n",
       "      <td>92</td>\n",
       "      <td>100 WORLD WAY # 120</td>\n",
       "      <td>LOS ANGELES</td>\n",
       "      <td>FA0244690</td>\n",
       "      <td>90045</td>\n",
       "      <td>8533.0</td>\n",
       "      <td>33.942108</td>\n",
       "      <td>-118.417488</td>\n",
       "      <td>440.0</td>\n",
       "      <td>19.393182</td>\n",
       "    </tr>\n",
       "    <tr>\n",
       "      <th>2</th>\n",
       "      <td>STREET CHURROS</td>\n",
       "      <td>93</td>\n",
       "      <td>6801 HOLLYWOOD BLVD # 253</td>\n",
       "      <td>LOS ANGELES</td>\n",
       "      <td>FA0224109</td>\n",
       "      <td>90028</td>\n",
       "      <td>10410.0</td>\n",
       "      <td>34.099912</td>\n",
       "      <td>-118.326912</td>\n",
       "      <td>498.0</td>\n",
       "      <td>20.903614</td>\n",
       "    </tr>\n",
       "    <tr>\n",
       "      <th>3</th>\n",
       "      <td>RIO GENTLEMANS CLUB</td>\n",
       "      <td>93</td>\n",
       "      <td>13124 S FIGUEROA ST</td>\n",
       "      <td>LOS ANGELES</td>\n",
       "      <td>FA0046462</td>\n",
       "      <td>90064</td>\n",
       "      <td>5282.0</td>\n",
       "      <td>34.037251</td>\n",
       "      <td>-118.423573</td>\n",
       "      <td>257.0</td>\n",
       "      <td>20.552529</td>\n",
       "    </tr>\n",
       "    <tr>\n",
       "      <th>4</th>\n",
       "      <td>LE PAIN QUOTIDIEN</td>\n",
       "      <td>93</td>\n",
       "      <td>13050 SAN VICENTE BLVD STE 114</td>\n",
       "      <td>LOS ANGELES</td>\n",
       "      <td>FA0034788</td>\n",
       "      <td>90049</td>\n",
       "      <td>2364.0</td>\n",
       "      <td>34.092540</td>\n",
       "      <td>-118.491064</td>\n",
       "      <td>117.0</td>\n",
       "      <td>20.205128</td>\n",
       "    </tr>\n",
       "  </tbody>\n",
       "</table>\n",
       "</div>"
      ],
      "text/plain": [
       "         Facility Name  Score                         Address         City  \\\n",
       "0  HABITAT COFFEE SHOP     95          3708 N EAGLE ROCK BLVD  LOS ANGELES   \n",
       "1             REILLY'S     92             100 WORLD WAY # 120  LOS ANGELES   \n",
       "2       STREET CHURROS     93       6801 HOLLYWOOD BLVD # 253  LOS ANGELES   \n",
       "3  RIO GENTLEMANS CLUB     93             13124 S FIGUEROA ST  LOS ANGELES   \n",
       "4    LE PAIN QUOTIDIEN     93  13050 SAN VICENTE BLVD STE 114  LOS ANGELES   \n",
       "\n",
       "  Facility ID  Zip Code  Violation Count        Lat        Long  Facilities  \\\n",
       "0   FA0170465     90065           3118.0  34.112272 -118.225496       136.0   \n",
       "1   FA0244690     90045           8533.0  33.942108 -118.417488       440.0   \n",
       "2   FA0224109     90028          10410.0  34.099912 -118.326912       498.0   \n",
       "3   FA0046462     90064           5282.0  34.037251 -118.423573       257.0   \n",
       "4   FA0034788     90049           2364.0  34.092540 -118.491064       117.0   \n",
       "\n",
       "   Count per Facility  \n",
       "0           22.926471  \n",
       "1           19.393182  \n",
       "2           20.903614  \n",
       "3           20.552529  \n",
       "4           20.205128  "
      ]
     },
     "execution_count": 36,
     "metadata": {},
     "output_type": "execute_result"
    }
   ],
   "source": [
    "# Drop unnecessary columns \n",
    "clean_df = inspections.drop([\"serial_number\",\"service_code\",\"service_description\",\"grade\",\"program_status\",\"pe_description\", \"employee_id\",\"facility_state\",\"record_id\", \"owner_name\", \"owner_id\", \"program_element_pe\",\"program_name\", \"activity_date\"],axis =1)\n",
    "\n",
    "# Rename column labels\n",
    "renamed_df = clean_df.rename(columns={  \"activity_date\":\"Activity Date\",\n",
    "                                        \"facility_name\": \"Facility Name\",\n",
    "                                        \"score\": \"Score\",\n",
    "                                        \"grade\": \"Grade\",\n",
    "                                        \"facility_city\": \"City\",\n",
    "                                        \"facility_id\": \"Facility ID\",\n",
    "                                        \"facility_address\": \"Address\",\n",
    "                                        \"facility_zip\": \"Zip Code\",\n",
    "                                        \"program_status\": \"Status\"})\n",
    "#Merging lat/long for zip code \n",
    "renamed_df = renamed_df.merge(violation_count, on=\"Zip Code\", how=\"left\")\n",
    "\n",
    "#Merging lat/long for zip code \n",
    "renamed_df = renamed_df.merge(zip_codes, on=\"Zip Code\", how=\"left\")\n",
    "\n",
    "#Merging Facilities for each meaningful zip code to count only zip codes with multiple inspections \n",
    "renamed_df = renamed_df.merge(facilities, on=\"Zip Code\", how=\"left\")\n",
    "\n",
    "renamed_df[\"Count per Facility\"] = (renamed_df[\"Violation Count\"]/renamed_df[\"Facilities\"])\n",
    "\n",
    "renamed_df.head()"
   ]
  },
  {
   "cell_type": "code",
   "execution_count": 37,
   "metadata": {},
   "outputs": [
    {
     "data": {
      "text/html": [
       "<div>\n",
       "<style scoped>\n",
       "    .dataframe tbody tr th:only-of-type {\n",
       "        vertical-align: middle;\n",
       "    }\n",
       "\n",
       "    .dataframe tbody tr th {\n",
       "        vertical-align: top;\n",
       "    }\n",
       "\n",
       "    .dataframe thead th {\n",
       "        text-align: right;\n",
       "    }\n",
       "</style>\n",
       "<table border=\"1\" class=\"dataframe\">\n",
       "  <thead>\n",
       "    <tr style=\"text-align: right;\">\n",
       "      <th></th>\n",
       "      <th>Zip Code</th>\n",
       "      <th>Score</th>\n",
       "      <th>Facilities</th>\n",
       "      <th>Lat</th>\n",
       "      <th>Long</th>\n",
       "      <th>Count per Facility</th>\n",
       "      <th>Median Rent 2016</th>\n",
       "    </tr>\n",
       "  </thead>\n",
       "  <tbody>\n",
       "    <tr>\n",
       "      <th>62</th>\n",
       "      <td>90094</td>\n",
       "      <td>94.119048</td>\n",
       "      <td>11.0</td>\n",
       "      <td>33.975414</td>\n",
       "      <td>-118.416990</td>\n",
       "      <td>15.363636</td>\n",
       "      <td>2504.00</td>\n",
       "    </tr>\n",
       "    <tr>\n",
       "      <th>60</th>\n",
       "      <td>90077</td>\n",
       "      <td>93.592593</td>\n",
       "      <td>21.0</td>\n",
       "      <td>34.108023</td>\n",
       "      <td>-118.456964</td>\n",
       "      <td>24.000000</td>\n",
       "      <td>2400.60</td>\n",
       "    </tr>\n",
       "    <tr>\n",
       "      <th>46</th>\n",
       "      <td>90049</td>\n",
       "      <td>95.020472</td>\n",
       "      <td>117.0</td>\n",
       "      <td>34.092540</td>\n",
       "      <td>-118.491064</td>\n",
       "      <td>20.205128</td>\n",
       "      <td>2314.61</td>\n",
       "    </tr>\n",
       "    <tr>\n",
       "      <th>56</th>\n",
       "      <td>90067</td>\n",
       "      <td>92.708333</td>\n",
       "      <td>132.0</td>\n",
       "      <td>34.057597</td>\n",
       "      <td>-118.413998</td>\n",
       "      <td>19.810606</td>\n",
       "      <td>2081.33</td>\n",
       "    </tr>\n",
       "    <tr>\n",
       "      <th>22</th>\n",
       "      <td>90024</td>\n",
       "      <td>92.427663</td>\n",
       "      <td>220.0</td>\n",
       "      <td>34.065723</td>\n",
       "      <td>-118.434969</td>\n",
       "      <td>30.122727</td>\n",
       "      <td>1986.69</td>\n",
       "    </tr>\n",
       "  </tbody>\n",
       "</table>\n",
       "</div>"
      ],
      "text/plain": [
       "    Zip Code      Score  Facilities        Lat        Long  \\\n",
       "62     90094  94.119048        11.0  33.975414 -118.416990   \n",
       "60     90077  93.592593        21.0  34.108023 -118.456964   \n",
       "46     90049  95.020472       117.0  34.092540 -118.491064   \n",
       "56     90067  92.708333       132.0  34.057597 -118.413998   \n",
       "22     90024  92.427663       220.0  34.065723 -118.434969   \n",
       "\n",
       "    Count per Facility  Median Rent 2016  \n",
       "62           15.363636           2504.00  \n",
       "60           24.000000           2400.60  \n",
       "46           20.205128           2314.61  \n",
       "56           19.810606           2081.33  \n",
       "22           30.122727           1986.69  "
      ]
     },
     "execution_count": 37,
     "metadata": {},
     "output_type": "execute_result"
    }
   ],
   "source": [
    "# Create dataframe with only score and zipcode \n",
    "zip_data = renamed_df[[\"Score\",\"Zip Code\",\"Facilities\", \"Lat\", \"Long\", \"Count per Facility\"]].groupby(\"Zip Code\").mean()\n",
    "\n",
    "# Drop any rows with a NaN value \n",
    "zip_data = zip_data.dropna(how=\"any\")\n",
    "\n",
    "# Reset the index\n",
    "zip_data.reset_index(inplace=True)\n",
    "\n",
    "# Merged median rent data\n",
    "zip_data = zip_data.merge(real_estate, on=\"Zip Code\", how = \"left\")\n",
    "\n",
    "zip_data = zip_data.dropna(how=\"any\")\n",
    "\n",
    "# List data by descending median rent \n",
    "zip_data.sort_values(by=\"Median Rent 2016\",ascending=False).head()"
   ]
  },
  {
   "cell_type": "code",
   "execution_count": 38,
   "metadata": {
    "scrolled": true
   },
   "outputs": [
    {
     "data": {
      "image/png": "[encoded data removed]",
      "text/plain": [
       "<Figure size 432x288 with 1 Axes>"
      ]
     },
     "metadata": {
      "needs_background": "light"
     },
     "output_type": "display_data"
    },
    {
     "data": {
      "text/plain": [
       "<Figure size 432x288 with 0 Axes>"
      ]
     },
     "metadata": {},
     "output_type": "display_data"
    }
   ],
   "source": [
    "# Does the number of facilities by zip code have an impact on the Average Food Score for the zip code?\n",
    "plt.scatter(zip_data[\"Facilities\"],zip_data[\"Score\"], c='red', alpha=.65, edgecolors = \"black\")\n",
    "plt.title(\"Restaurant Cleanliness vs Facility Count\")\n",
    "plt.xlabel(\"Food Facility Count by Zip Code\")\n",
    "plt.ylabel(\"Food Facility Score\")\n",
    "\n",
    "\n",
    "usc_score = 96.8\n",
    "usc_count = 50\n",
    "plt.text(x = usc_count, y = usc_score, s = \"USC\", fontsize = 12)\n",
    "\n",
    "playa_score = 93.9\n",
    "playa_count = 20\n",
    "plt.text(x = playa_count, y = playa_score, s = \"Play Vista\", fontsize = 12)\n",
    "\n",
    "brentwood_score = 94.9\n",
    "brentwood_count = 132\n",
    "plt.text(x = brentwood_count, y = brentwood_score, s = \"Brentwood\", fontsize = 12)\n",
    "\n",
    "\n",
    "plt.show()\n",
    "plt.savefig(\"restaurant_cleanliness_vs_facility_count.png\")"
   ]
  },
  {
   "cell_type": "code",
   "execution_count": 39,
   "metadata": {},
   "outputs": [
    {
     "data": {
      "image/png": "[encoded data removed]",
      "text/plain": [
       "<Figure size 432x288 with 1 Axes>"
      ]
     },
     "metadata": {
      "needs_background": "light"
     },
     "output_type": "display_data"
    },
    {
     "data": {
      "text/plain": [
       "<Figure size 432x288 with 0 Axes>"
      ]
     },
     "metadata": {},
     "output_type": "display_data"
    }
   ],
   "source": [
    "# Is median rent correlate with higher rated food facilities?\n",
    "plt.scatter(zip_data[\"Median Rent 2016\"],zip_data[\"Score\"],c='red', alpha=.65, edgecolors = \"black\")\n",
    "plt.title(\"Restaurant Cleanliness vs Median Rent\")\n",
    "plt.xlabel(\"Median Rent by Zip Code\")\n",
    "plt.ylabel(\"Food Facility Score\")\n",
    "\n",
    "usc_score = 96.8\n",
    "med_rent = 1660\n",
    "plt.text(x = med_rent, y = usc_score, s = \"USC\", fontsize = 12)\n",
    "\n",
    "playa_score = 94\n",
    "med_rent = 2550\n",
    "plt.text(x = med_rent, y = playa_score, s = \"Play Vista\", fontsize = 12)\n",
    "\n",
    "brentwood_score = 94.9\n",
    "med_rent = 2370\n",
    "plt.text(x = med_rent, y = brentwood_score, s = \"Brentwood\", fontsize = 12)\n",
    "plt.xlim(800,2950)\n",
    "\n",
    "plt.show()\n",
    "plt.savefig(\"restaurant_cleanliness_vs_median_rent.png\")\n"
   ]
  },
  {
   "cell_type": "code",
   "execution_count": 40,
   "metadata": {},
   "outputs": [
    {
     "data": {
      "text/html": [
       "<div>\n",
       "<style scoped>\n",
       "    .dataframe tbody tr th:only-of-type {\n",
       "        vertical-align: middle;\n",
       "    }\n",
       "\n",
       "    .dataframe tbody tr th {\n",
       "        vertical-align: top;\n",
       "    }\n",
       "\n",
       "    .dataframe thead th {\n",
       "        text-align: right;\n",
       "    }\n",
       "</style>\n",
       "<table border=\"1\" class=\"dataframe\">\n",
       "  <thead>\n",
       "    <tr style=\"text-align: right;\">\n",
       "      <th></th>\n",
       "      <th>Zip Code</th>\n",
       "      <th>Score</th>\n",
       "      <th>Facilities</th>\n",
       "      <th>Lat</th>\n",
       "      <th>Long</th>\n",
       "      <th>Count per Facility</th>\n",
       "      <th>Median Rent 2016</th>\n",
       "    </tr>\n",
       "  </thead>\n",
       "  <tbody>\n",
       "    <tr>\n",
       "      <th>61</th>\n",
       "      <td>90089</td>\n",
       "      <td>97.000000</td>\n",
       "      <td>33.0</td>\n",
       "      <td>34.020221</td>\n",
       "      <td>-118.286035</td>\n",
       "      <td>19.545455</td>\n",
       "      <td>1598.67</td>\n",
       "    </tr>\n",
       "    <tr>\n",
       "      <th>46</th>\n",
       "      <td>90049</td>\n",
       "      <td>95.020472</td>\n",
       "      <td>117.0</td>\n",
       "      <td>34.092540</td>\n",
       "      <td>-118.491064</td>\n",
       "      <td>20.205128</td>\n",
       "      <td>2314.61</td>\n",
       "    </tr>\n",
       "    <tr>\n",
       "      <th>6</th>\n",
       "      <td>90007</td>\n",
       "      <td>94.790235</td>\n",
       "      <td>245.0</td>\n",
       "      <td>34.028129</td>\n",
       "      <td>-118.284829</td>\n",
       "      <td>17.395918</td>\n",
       "      <td>1078.91</td>\n",
       "    </tr>\n",
       "    <tr>\n",
       "      <th>50</th>\n",
       "      <td>90059</td>\n",
       "      <td>94.679868</td>\n",
       "      <td>87.0</td>\n",
       "      <td>33.926262</td>\n",
       "      <td>-118.249883</td>\n",
       "      <td>13.666667</td>\n",
       "      <td>1083.22</td>\n",
       "    </tr>\n",
       "    <tr>\n",
       "      <th>47</th>\n",
       "      <td>90056</td>\n",
       "      <td>94.660714</td>\n",
       "      <td>13.0</td>\n",
       "      <td>33.988047</td>\n",
       "      <td>-118.370361</td>\n",
       "      <td>16.307692</td>\n",
       "      <td>1567.29</td>\n",
       "    </tr>\n",
       "  </tbody>\n",
       "</table>\n",
       "</div>"
      ],
      "text/plain": [
       "    Zip Code      Score  Facilities        Lat        Long  \\\n",
       "61     90089  97.000000        33.0  34.020221 -118.286035   \n",
       "46     90049  95.020472       117.0  34.092540 -118.491064   \n",
       "6      90007  94.790235       245.0  34.028129 -118.284829   \n",
       "50     90059  94.679868        87.0  33.926262 -118.249883   \n",
       "47     90056  94.660714        13.0  33.988047 -118.370361   \n",
       "\n",
       "    Count per Facility  Median Rent 2016  \n",
       "61           19.545455           1598.67  \n",
       "46           20.205128           2314.61  \n",
       "6            17.395918           1078.91  \n",
       "50           13.666667           1083.22  \n",
       "47           16.307692           1567.29  "
      ]
     },
     "execution_count": 40,
     "metadata": {},
     "output_type": "execute_result"
    }
   ],
   "source": [
    "top_5_score = zip_data.nlargest(5, \"Score\")\n",
    "top_5_score"
   ]
  },
  {
   "cell_type": "code",
   "execution_count": 41,
   "metadata": {},
   "outputs": [
    {
     "data": {
      "text/html": [
       "<div>\n",
       "<style scoped>\n",
       "    .dataframe tbody tr th:only-of-type {\n",
       "        vertical-align: middle;\n",
       "    }\n",
       "\n",
       "    .dataframe tbody tr th {\n",
       "        vertical-align: top;\n",
       "    }\n",
       "\n",
       "    .dataframe thead th {\n",
       "        text-align: right;\n",
       "    }\n",
       "</style>\n",
       "<table border=\"1\" class=\"dataframe\">\n",
       "  <thead>\n",
       "    <tr style=\"text-align: right;\">\n",
       "      <th></th>\n",
       "      <th>Zip Code</th>\n",
       "      <th>Score</th>\n",
       "      <th>Facilities</th>\n",
       "      <th>Lat</th>\n",
       "      <th>Long</th>\n",
       "      <th>Count per Facility</th>\n",
       "      <th>Median Rent 2016</th>\n",
       "    </tr>\n",
       "  </thead>\n",
       "  <tbody>\n",
       "    <tr>\n",
       "      <th>18</th>\n",
       "      <td>90020</td>\n",
       "      <td>91.051108</td>\n",
       "      <td>324.0</td>\n",
       "      <td>34.066379</td>\n",
       "      <td>-118.309870</td>\n",
       "      <td>32.469136</td>\n",
       "      <td>1244.59</td>\n",
       "    </tr>\n",
       "    <tr>\n",
       "      <th>4</th>\n",
       "      <td>90005</td>\n",
       "      <td>91.307221</td>\n",
       "      <td>298.0</td>\n",
       "      <td>34.059163</td>\n",
       "      <td>-118.306892</td>\n",
       "      <td>30.862416</td>\n",
       "      <td>1139.79</td>\n",
       "    </tr>\n",
       "    <tr>\n",
       "      <th>58</th>\n",
       "      <td>90069</td>\n",
       "      <td>92.112782</td>\n",
       "      <td>28.0</td>\n",
       "      <td>34.093828</td>\n",
       "      <td>-118.381697</td>\n",
       "      <td>24.714286</td>\n",
       "      <td>1847.14</td>\n",
       "    </tr>\n",
       "    <tr>\n",
       "      <th>8</th>\n",
       "      <td>90010</td>\n",
       "      <td>92.301523</td>\n",
       "      <td>192.0</td>\n",
       "      <td>34.062148</td>\n",
       "      <td>-118.315889</td>\n",
       "      <td>28.000000</td>\n",
       "      <td>1183.93</td>\n",
       "    </tr>\n",
       "    <tr>\n",
       "      <th>32</th>\n",
       "      <td>90035</td>\n",
       "      <td>92.310630</td>\n",
       "      <td>179.0</td>\n",
       "      <td>34.051809</td>\n",
       "      <td>-118.383674</td>\n",
       "      <td>30.815642</td>\n",
       "      <td>1864.43</td>\n",
       "    </tr>\n",
       "  </tbody>\n",
       "</table>\n",
       "</div>"
      ],
      "text/plain": [
       "    Zip Code      Score  Facilities        Lat        Long  \\\n",
       "18     90020  91.051108       324.0  34.066379 -118.309870   \n",
       "4      90005  91.307221       298.0  34.059163 -118.306892   \n",
       "58     90069  92.112782        28.0  34.093828 -118.381697   \n",
       "8      90010  92.301523       192.0  34.062148 -118.315889   \n",
       "32     90035  92.310630       179.0  34.051809 -118.383674   \n",
       "\n",
       "    Count per Facility  Median Rent 2016  \n",
       "18           32.469136           1244.59  \n",
       "4            30.862416           1139.79  \n",
       "58           24.714286           1847.14  \n",
       "8            28.000000           1183.93  \n",
       "32           30.815642           1864.43  "
      ]
     },
     "execution_count": 41,
     "metadata": {},
     "output_type": "execute_result"
    }
   ],
   "source": [
    "low_5_score = zip_data.nsmallest(5, \"Score\")\n",
    "low_5_score"
   ]
  },
  {
   "cell_type": "code",
   "execution_count": 43,
   "metadata": {},
   "outputs": [
    {
     "data": {
      "text/html": [
       "<div>\n",
       "<style scoped>\n",
       "    .dataframe tbody tr th:only-of-type {\n",
       "        vertical-align: middle;\n",
       "    }\n",
       "\n",
       "    .dataframe tbody tr th {\n",
       "        vertical-align: top;\n",
       "    }\n",
       "\n",
       "    .dataframe thead th {\n",
       "        text-align: right;\n",
       "    }\n",
       "</style>\n",
       "<table border=\"1\" class=\"dataframe\">\n",
       "  <thead>\n",
       "    <tr style=\"text-align: right;\">\n",
       "      <th></th>\n",
       "      <th>Zip Code</th>\n",
       "      <th>Score</th>\n",
       "      <th>Facilities</th>\n",
       "      <th>Lat</th>\n",
       "      <th>Long</th>\n",
       "      <th>Count per Facility</th>\n",
       "      <th>Median Rent 2016</th>\n",
       "    </tr>\n",
       "  </thead>\n",
       "  <tbody>\n",
       "    <tr>\n",
       "      <th>18</th>\n",
       "      <td>90020</td>\n",
       "      <td>91.051108</td>\n",
       "      <td>324.0</td>\n",
       "      <td>34.066379</td>\n",
       "      <td>-118.309870</td>\n",
       "      <td>32.469136</td>\n",
       "      <td>1244.59</td>\n",
       "    </tr>\n",
       "    <tr>\n",
       "      <th>4</th>\n",
       "      <td>90005</td>\n",
       "      <td>91.307221</td>\n",
       "      <td>298.0</td>\n",
       "      <td>34.059163</td>\n",
       "      <td>-118.306892</td>\n",
       "      <td>30.862416</td>\n",
       "      <td>1139.79</td>\n",
       "    </tr>\n",
       "    <tr>\n",
       "      <th>32</th>\n",
       "      <td>90035</td>\n",
       "      <td>92.310630</td>\n",
       "      <td>179.0</td>\n",
       "      <td>34.051809</td>\n",
       "      <td>-118.383674</td>\n",
       "      <td>30.815642</td>\n",
       "      <td>1864.43</td>\n",
       "    </tr>\n",
       "    <tr>\n",
       "      <th>22</th>\n",
       "      <td>90024</td>\n",
       "      <td>92.427663</td>\n",
       "      <td>220.0</td>\n",
       "      <td>34.065723</td>\n",
       "      <td>-118.434969</td>\n",
       "      <td>30.122727</td>\n",
       "      <td>1986.69</td>\n",
       "    </tr>\n",
       "    <tr>\n",
       "      <th>8</th>\n",
       "      <td>90010</td>\n",
       "      <td>92.301523</td>\n",
       "      <td>192.0</td>\n",
       "      <td>34.062148</td>\n",
       "      <td>-118.315889</td>\n",
       "      <td>28.000000</td>\n",
       "      <td>1183.93</td>\n",
       "    </tr>\n",
       "  </tbody>\n",
       "</table>\n",
       "</div>"
      ],
      "text/plain": [
       "    Zip Code      Score  Facilities        Lat        Long  \\\n",
       "18     90020  91.051108       324.0  34.066379 -118.309870   \n",
       "4      90005  91.307221       298.0  34.059163 -118.306892   \n",
       "32     90035  92.310630       179.0  34.051809 -118.383674   \n",
       "22     90024  92.427663       220.0  34.065723 -118.434969   \n",
       "8      90010  92.301523       192.0  34.062148 -118.315889   \n",
       "\n",
       "    Count per Facility  Median Rent 2016  \n",
       "18           32.469136           1244.59  \n",
       "4            30.862416           1139.79  \n",
       "32           30.815642           1864.43  \n",
       "22           30.122727           1986.69  \n",
       "8            28.000000           1183.93  "
      ]
     },
     "execution_count": 43,
     "metadata": {},
     "output_type": "execute_result"
    }
   ],
   "source": [
    "top_5_violation = zip_data.nlargest(5, \"Count per Facility\")\n",
    "top_5_violation"
   ]
  },
  {
   "cell_type": "code",
   "execution_count": 42,
   "metadata": {},
   "outputs": [
    {
     "data": {
      "text/html": [
       "<div>\n",
       "<style scoped>\n",
       "    .dataframe tbody tr th:only-of-type {\n",
       "        vertical-align: middle;\n",
       "    }\n",
       "\n",
       "    .dataframe tbody tr th {\n",
       "        vertical-align: top;\n",
       "    }\n",
       "\n",
       "    .dataframe thead th {\n",
       "        text-align: right;\n",
       "    }\n",
       "</style>\n",
       "<table border=\"1\" class=\"dataframe\">\n",
       "  <thead>\n",
       "    <tr style=\"text-align: right;\">\n",
       "      <th></th>\n",
       "      <th>Zip Code</th>\n",
       "      <th>Score</th>\n",
       "      <th>Facilities</th>\n",
       "      <th>Lat</th>\n",
       "      <th>Long</th>\n",
       "      <th>Count per Facility</th>\n",
       "      <th>Median Rent 2016</th>\n",
       "    </tr>\n",
       "  </thead>\n",
       "  <tbody>\n",
       "    <tr>\n",
       "      <th>1</th>\n",
       "      <td>90002</td>\n",
       "      <td>94.570175</td>\n",
       "      <td>67.0</td>\n",
       "      <td>33.949099</td>\n",
       "      <td>-118.246737</td>\n",
       "      <td>12.820896</td>\n",
       "      <td>1063.87</td>\n",
       "    </tr>\n",
       "    <tr>\n",
       "      <th>50</th>\n",
       "      <td>90059</td>\n",
       "      <td>94.679868</td>\n",
       "      <td>87.0</td>\n",
       "      <td>33.926262</td>\n",
       "      <td>-118.249883</td>\n",
       "      <td>13.666667</td>\n",
       "      <td>1083.22</td>\n",
       "    </tr>\n",
       "    <tr>\n",
       "      <th>19</th>\n",
       "      <td>90021</td>\n",
       "      <td>94.176955</td>\n",
       "      <td>132.0</td>\n",
       "      <td>34.029036</td>\n",
       "      <td>-118.237870</td>\n",
       "      <td>14.977273</td>\n",
       "      <td>1059.25</td>\n",
       "    </tr>\n",
       "    <tr>\n",
       "      <th>51</th>\n",
       "      <td>90061</td>\n",
       "      <td>93.465190</td>\n",
       "      <td>91.0</td>\n",
       "      <td>33.921280</td>\n",
       "      <td>-118.274186</td>\n",
       "      <td>15.153846</td>\n",
       "      <td>1095.65</td>\n",
       "    </tr>\n",
       "    <tr>\n",
       "      <th>62</th>\n",
       "      <td>90094</td>\n",
       "      <td>94.119048</td>\n",
       "      <td>11.0</td>\n",
       "      <td>33.975414</td>\n",
       "      <td>-118.416990</td>\n",
       "      <td>15.363636</td>\n",
       "      <td>2504.00</td>\n",
       "    </tr>\n",
       "  </tbody>\n",
       "</table>\n",
       "</div>"
      ],
      "text/plain": [
       "    Zip Code      Score  Facilities        Lat        Long  \\\n",
       "1      90002  94.570175        67.0  33.949099 -118.246737   \n",
       "50     90059  94.679868        87.0  33.926262 -118.249883   \n",
       "19     90021  94.176955       132.0  34.029036 -118.237870   \n",
       "51     90061  93.465190        91.0  33.921280 -118.274186   \n",
       "62     90094  94.119048        11.0  33.975414 -118.416990   \n",
       "\n",
       "    Count per Facility  Median Rent 2016  \n",
       "1            12.820896           1063.87  \n",
       "50           13.666667           1083.22  \n",
       "19           14.977273           1059.25  \n",
       "51           15.153846           1095.65  \n",
       "62           15.363636           2504.00  "
      ]
     },
     "execution_count": 42,
     "metadata": {},
     "output_type": "execute_result"
    }
   ],
   "source": [
    "low_5_violation = zip_data.nsmallest(5, \"Count per Facility\")\n",
    "low_5_violation"
   ]
  },
  {
   "cell_type": "code",
   "execution_count": 72,
   "metadata": {},
   "outputs": [
    {
     "data": {
      "image/png": "[encoded data removed]",
      "text/plain": [
       "<Figure size 432x288 with 1 Axes>"
      ]
     },
     "metadata": {
      "needs_background": "light"
     },
     "output_type": "display_data"
    }
   ],
   "source": [
    "# Highest inspection score\n",
    "low_zips = [\"90002\", \"90059\", \"90021\",\"90061\", \"90094\"]\n",
    "top_zips = [\"90020\", \"90005\", \"90035\",\"90024\", \"90010\"]\n",
    "ind = np.arange(len(low_zips))\n",
    "ind1 = np.arange(len(top_zips))\n",
    "width = 0.5\n",
    "low_count = low_5_violation[\"Count per Facility\"][0:5]\n",
    "top_count = top_5_violation[\"Count per Facility\"][0:5]\n",
    "plt.bar(ind,low_count, width =.5, color=\"blue\", alpha=0.5, align=\"center\", label=\"Average Food Code Violations per Facility\")\n",
    "plt.bar(ind1 + width,top_count, width =.5, color=\"red\", alpha=0.5, align=\"center\", label=\"Average Food Code Violations per Facility\")\n",
    "\n",
    "\n",
    "plt.xticks(ind, low_zips , rotation=\"horizontal\")\n",
    "plt.xticks(ind1 + width, top_zips , rotation=\"horizontal\")\n",
    "\n",
    "plt.ylabel(\"Average Food Code Violations per Facility\")\n",
    "plt.xlabel(\"Zip Codes\")\n",
    "\n",
    "# plt.legend(loc=\"upper right\")\n",
    "plt.title(\"Zip Codes with Fewest Violations per Food Facility\")\n",
    "\n",
    "plt.show()\n"
   ]
  },
  {
   "cell_type": "code",
   "execution_count": 24,
   "metadata": {},
   "outputs": [
    {
     "data": {
      "text/plain": [
       "Text(0.5, 1.0, 'Neighborhoods with Cleanest Food Facility')"
      ]
     },
     "execution_count": 24,
     "metadata": {},
     "output_type": "execute_result"
    },
    {
     "data": {
      "image/png": "[encoded data removed]",
      "text/plain": [
       "<Figure size 432x288 with 1 Axes>"
      ]
     },
     "metadata": {
      "needs_background": "light"
     },
     "output_type": "display_data"
    }
   ],
   "source": [
    "# Highest inspection score\n",
    "neighborhoods = [\"USC\", \"Brentwood\", \"University Park\",\"Watts\", \"Ladera Heights\"]\n",
    "ind = np.arange(len(neighborhoods))\n",
    "score = top_5_score[\"Score\"][0:5]\n",
    "plt.bar(ind,score, width =.5, color=\"red\", alpha=0.5, align=\"center\", label=\"Restaurant Score\")\n",
    "\n",
    "plt.xticks(ind, neighborhoods , rotation=\"vertical\")\n",
    "\n",
    "plt.ylabel(\"Restaurant Cleanliness\")\n",
    "plt.xlabel(\"Neighborhoods\")\n",
    "\n",
    "plt.legend(loc=\"upper right\")\n",
    "plt.title(\"Neighborhoods with Cleanest Food Facility\")"
   ]
  },
  {
   "cell_type": "code",
   "execution_count": 25,
   "metadata": {},
   "outputs": [
    {
     "name": "stdout",
     "output_type": "stream",
     "text": [
      "0.00795683714224468\n"
     ]
    }
   ],
   "source": [
    "# Correlation between Median Rent and Score \n",
    "x = zip_data[\"Median Rent 2016\"]\n",
    "y = zip_data[\"Score\"]\n",
    "\n",
    "print (pearson_r(x, y))"
   ]
  },
  {
   "cell_type": "code",
   "execution_count": 26,
   "metadata": {
    "scrolled": true
   },
   "outputs": [
    {
     "data": {
      "application/vnd.jupyter.widget-view+json": {
       "model_id": "48aec09ba6c74dd98782dbb6c574bccc",
       "version_major": 2,
       "version_minor": 0
      },
      "text/plain": [
       "Figure(layout=FigureLayout(height='420px'))"
      ]
     },
     "metadata": {},
     "output_type": "display_data"
    }
   ],
   "source": [
    "google_map = renamed_df.dropna(how=\"any\")\n",
    "\n",
    "# Access maps with unique API key\n",
    "gmaps.configure(api_key=gkey)\n",
    "\n",
    "locations = google_map[['Lat', 'Long']]\n",
    "weights = google_map['Score']\n",
    "fig = gmaps.figure()\n",
    "fig.add_layer(gmaps.heatmap_layer(locations, weights=weights, max_intensity = .5, opacity=1))\n",
    "fig"
   ]
  },
  {
   "cell_type": "code",
   "execution_count": 27,
   "metadata": {},
   "outputs": [
    {
     "data": {
      "application/vnd.jupyter.widget-view+json": {
       "model_id": "863cdbe0d58244c8a00f53da0eed0428",
       "version_major": 2,
       "version_minor": 0
      },
      "text/plain": [
       "Figure(layout=FigureLayout(height='420px'))"
      ]
     },
     "metadata": {},
     "output_type": "display_data"
    }
   ],
   "source": [
    "google_map1 = renamed_df.dropna(how=\"any\")\n",
    "\n",
    "# Access maps with unique API key\n",
    "gmaps.configure(api_key=gkey)\n",
    "\n",
    "locations = google_map1[['Lat', 'Long']]\n",
    "weights = google_map1['Violation Count']\n",
    "fig = gmaps.figure()\n",
    "fig.add_layer(gmaps.heatmap_layer(locations,weights=weights, max_intensity = .5, opacity=1))\n",
    "fig"
   ]
  },
  {
   "cell_type": "code",
   "execution_count": 28,
   "metadata": {},
   "outputs": [
    {
     "name": "stdout",
     "output_type": "stream",
     "text": [
      "0.00795683714224468\n"
     ]
    }
   ],
   "source": [
    "# Correlation between Median Rent and Score \n",
    "x = zip_data[\"Median Rent 2016\"]\n",
    "y = zip_data[\"Score\"]\n",
    "\n",
    "print (pearson_r(x, y))"
   ]
  },
  {
   "cell_type": "code",
   "execution_count": 29,
   "metadata": {},
   "outputs": [
    {
     "name": "stdout",
     "output_type": "stream",
     "text": [
      "0.00795683714224468\n",
      "Since r = 0.008, is positive; both variables increase together, or decrease together.\n",
      "There is a weak or no association between both variables.\n"
     ]
    }
   ],
   "source": [
    "def pearson_r(x, y):\n",
    "\n",
    "    # Compute correlation matrix: corr_mat\n",
    "    corr_mat = np.corrcoef(x, y)\n",
    "\n",
    "    # Return entry [0,1]\n",
    "    return corr_mat[0,1]\n",
    "\n",
    "# Compute Pearson correlation coefficient for I. versicolor: r\n",
    "r = pearson_r(x, y)\n",
    "\n",
    "# Print the result\n",
    "print(r)\n",
    "\n",
    "if (r < 0):\n",
    "    print(f\"Since r = {round(r,4)}, is negative; as {x} variable increases, {y} decreases.\")\n",
    "    if(r <= -0.75):\n",
    "        print(f\"Since r = {round(r,4)} is close to -1; There is a strong inverse relationship between these two variables.\")\n",
    "if (r > 0):\n",
    "    print(f\"Since r = {round(r,4)}, is positive; both variables increase together, or decrease together.\")\n",
    "    if (r >= 0.75):\n",
    "        print(f\"Since r = {round(r,4)} is close to 1; There is a strong positive relationship between these two variables.\")\n",
    "    else:\n",
    "        print(\"There is a weak or no association between both variables.\")"
   ]
  },
  {
   "cell_type": "code",
   "execution_count": 74,
   "metadata": {},
   "outputs": [
    {
     "name": "stdout",
     "output_type": "stream",
     "text": [
      "0.2745316030984559\n"
     ]
    }
   ],
   "source": [
    "# Correlation between Median Rent and Score \n",
    "y = zip_data[\"Median Rent 2016\"]\n",
    "x = zip_data[\"Count per Facility\"]\n",
    "\n",
    "print (pearson_r(x, y))"
   ]
  },
  {
   "cell_type": "code",
   "execution_count": null,
   "metadata": {},
   "outputs": [],
   "source": [
    "# Median inspection score\n",
    "median_score = renamed_df.median()\n",
    "median_score"
   ]
  },
  {
   "cell_type": "code",
   "execution_count": null,
   "metadata": {},
   "outputs": [],
   "source": [
    "# Average Inspection score \n",
    "avg_score = renamed_df.loc[:,\"Score\"].mean()\n",
    "avg_score "
   ]
  },
  {
   "cell_type": "code",
   "execution_count": null,
   "metadata": {},
   "outputs": [],
   "source": []
  }
 ],
 "metadata": {
  "kernelspec": {
   "display_name": "Python 3",
   "language": "python",
   "name": "python3"
  },
  "language_info": {
   "codemirror_mode": {
    "name": "ipython",
    "version": 3
   },
   "file_extension": ".py",
   "mimetype": "text/x-python",
   "name": "python",
   "nbconvert_exporter": "python",
   "pygments_lexer": "ipython3",
   "version": "3.7.2"
  }
 },
 "nbformat": 4,
 "nbformat_minor": 2
}
